{
 "cells": [
  {
   "cell_type": "markdown",
   "source": [
    "---\n",
    "\n",
    "# Data Wrangling\n",
    "\n",
    "#### Background\n",
    "Dicoding Collection atau sering disingkat DiCo merupakan sebuah perusahaan yang bergerak di bidang *fashion*. Ia memproduksi berbagai item fashion dan menjualnya melalui platform online.\n",
    "\n",
    "Sebagai perusahaan kekinian, DiCo menyadari betapa pentingnya data bagi perkembangan sebuah bisnis. Oleh karena itu, ia menyimpan semua *history* penjualan beserta informasi terkait produk dan customers dalam sebuah database. Database ini terdiri dari empat buah tabel, antara lain customers, orders, products, dan sales.\n",
    "\n",
    "- Tabel customers: tabel ini menyimpan berbagai informasi terkait customer, seperti customer_id, customer_name, gender, age, home_address, zip_code, city, state, dan country.\n",
    "- Tabel orders: tabel ini menyimpan berbagai informasi terkait sebuah order yang terdiri dari order_id, customer_id, order_date, dan delivery_date.\n",
    "- Tabel products: tabel ini berisi berbagai informasi terkait sebuah produk, seperti product_id, product_type, product_name, size, colour, price, quantity, dan description.\n",
    "- Tabel sales: tabel ini mengandung informasi detail terkait penjualan, seperti sales_id, order_id, product_id, price_per_unit, quantity, dan total_price.\n",
    "\n",
    "#### Tujuan \n",
    "*First of all*, kita akan mulai proyek analisis data ini dengan menjalankan proses data wrangling terlebih dahulu. Proses ini memiliki tujuan antara lain:\n",
    "- mengumpulkan seluruh data yang dibutuhkan;\n",
    "- menilai kualitas dari data yang telah dikumpulkan; dan\n",
    "- membersihkan data tersebut sehingga siap untuk dianalisis.\n",
    "\n",
    "#### Alur Latihan\n",
    "Berikut merupakan tahapan dalam latihan ini.\n",
    "1. Tahap persiapan.\n",
    "2. Tahap gathering data.\n",
    "3. Tahap assessing data.\n",
    "4. Tahap cleaning data.\n",
    "\n",
    "---"
   ],
   "metadata": {
    "collapsed": false
   },
   "id": "75978bc6ff0cb07f"
  },
  {
   "cell_type": "code",
   "source": [
    "import numpy as np\n",
    "import pandas as pd\n",
    "import matplotlib.pyplot as plt\n",
    "import seaborn as sns"
   ],
   "metadata": {
    "collapsed": false,
    "ExecuteTime": {
     "end_time": "2024-05-20T13:09:52.500493Z",
     "start_time": "2024-05-20T13:09:52.487491Z"
    }
   },
   "id": "a0c5d403e0a791d2",
   "outputs": [],
   "execution_count": 73
  },
  {
   "cell_type": "markdown",
   "source": [
    "## Gathering Data"
   ],
   "metadata": {
    "collapsed": false
   },
   "id": "2e15a65287f1873a"
  },
  {
   "cell_type": "code",
   "source": [
    "customers_df = pd.read_csv(\"https://raw.githubusercontent.com/dicodingacademy/dicoding_dataset/main/DicodingCollection/customers.csv\")\n",
    "customers_df.head()"
   ],
   "metadata": {
    "collapsed": true,
    "ExecuteTime": {
     "end_time": "2024-05-20T13:09:55.805129Z",
     "start_time": "2024-05-20T13:09:54.594284Z"
    }
   },
   "id": "initial_id",
   "outputs": [
    {
     "data": {
      "text/plain": [
       "   customer_id customer_name             gender  age  \\\n",
       "0            1       fulan 1             Female   30   \n",
       "1            2       fulan 2  Prefer not to say   69   \n",
       "2            3       fulan 3  Prefer not to say   59   \n",
       "3            4       fulan 4  Prefer not to say   67   \n",
       "4            5       fulan 5  Prefer not to say   30   \n",
       "\n",
       "                     home_address  zip_code               city  \\\n",
       "0  8606 Victoria TerraceSuite 560      5464      Johnstonhaven   \n",
       "1      8327 Kirlin SummitApt. 461      8223    New Zacharyfort   \n",
       "2       269 Gemma SummitSuite 109      5661           Aliburgh   \n",
       "3       743 Bailey GroveSuite 141      1729  South Justinhaven   \n",
       "4         48 Hyatt ManorSuite 375      4032     Griffithsshire   \n",
       "\n",
       "                          state    country  \n",
       "0            Northern Territory  Australia  \n",
       "1               South Australia  Australia  \n",
       "2  Australian Capital Territory  Australia  \n",
       "3                    Queensland  Australia  \n",
       "4                    Queensland  Australia  "
      ],
      "text/html": [
       "<div>\n",
       "<style scoped>\n",
       "    .dataframe tbody tr th:only-of-type {\n",
       "        vertical-align: middle;\n",
       "    }\n",
       "\n",
       "    .dataframe tbody tr th {\n",
       "        vertical-align: top;\n",
       "    }\n",
       "\n",
       "    .dataframe thead th {\n",
       "        text-align: right;\n",
       "    }\n",
       "</style>\n",
       "<table border=\"1\" class=\"dataframe\">\n",
       "  <thead>\n",
       "    <tr style=\"text-align: right;\">\n",
       "      <th></th>\n",
       "      <th>customer_id</th>\n",
       "      <th>customer_name</th>\n",
       "      <th>gender</th>\n",
       "      <th>age</th>\n",
       "      <th>home_address</th>\n",
       "      <th>zip_code</th>\n",
       "      <th>city</th>\n",
       "      <th>state</th>\n",
       "      <th>country</th>\n",
       "    </tr>\n",
       "  </thead>\n",
       "  <tbody>\n",
       "    <tr>\n",
       "      <th>0</th>\n",
       "      <td>1</td>\n",
       "      <td>fulan 1</td>\n",
       "      <td>Female</td>\n",
       "      <td>30</td>\n",
       "      <td>8606 Victoria TerraceSuite 560</td>\n",
       "      <td>5464</td>\n",
       "      <td>Johnstonhaven</td>\n",
       "      <td>Northern Territory</td>\n",
       "      <td>Australia</td>\n",
       "    </tr>\n",
       "    <tr>\n",
       "      <th>1</th>\n",
       "      <td>2</td>\n",
       "      <td>fulan 2</td>\n",
       "      <td>Prefer not to say</td>\n",
       "      <td>69</td>\n",
       "      <td>8327 Kirlin SummitApt. 461</td>\n",
       "      <td>8223</td>\n",
       "      <td>New Zacharyfort</td>\n",
       "      <td>South Australia</td>\n",
       "      <td>Australia</td>\n",
       "    </tr>\n",
       "    <tr>\n",
       "      <th>2</th>\n",
       "      <td>3</td>\n",
       "      <td>fulan 3</td>\n",
       "      <td>Prefer not to say</td>\n",
       "      <td>59</td>\n",
       "      <td>269 Gemma SummitSuite 109</td>\n",
       "      <td>5661</td>\n",
       "      <td>Aliburgh</td>\n",
       "      <td>Australian Capital Territory</td>\n",
       "      <td>Australia</td>\n",
       "    </tr>\n",
       "    <tr>\n",
       "      <th>3</th>\n",
       "      <td>4</td>\n",
       "      <td>fulan 4</td>\n",
       "      <td>Prefer not to say</td>\n",
       "      <td>67</td>\n",
       "      <td>743 Bailey GroveSuite 141</td>\n",
       "      <td>1729</td>\n",
       "      <td>South Justinhaven</td>\n",
       "      <td>Queensland</td>\n",
       "      <td>Australia</td>\n",
       "    </tr>\n",
       "    <tr>\n",
       "      <th>4</th>\n",
       "      <td>5</td>\n",
       "      <td>fulan 5</td>\n",
       "      <td>Prefer not to say</td>\n",
       "      <td>30</td>\n",
       "      <td>48 Hyatt ManorSuite 375</td>\n",
       "      <td>4032</td>\n",
       "      <td>Griffithsshire</td>\n",
       "      <td>Queensland</td>\n",
       "      <td>Australia</td>\n",
       "    </tr>\n",
       "  </tbody>\n",
       "</table>\n",
       "</div>"
      ]
     },
     "execution_count": 74,
     "metadata": {},
     "output_type": "execute_result"
    }
   ],
   "execution_count": 74
  },
  {
   "cell_type": "code",
   "source": [
    "orders_df = pd.read_csv(\"https://raw.githubusercontent.com/dicodingacademy/dicoding_dataset/main/DicodingCollection/orders.csv\")\n",
    "orders_df.head()"
   ],
   "metadata": {
    "collapsed": false,
    "ExecuteTime": {
     "end_time": "2024-05-20T13:09:56.679690Z",
     "start_time": "2024-05-20T13:09:55.808098Z"
    }
   },
   "id": "aa150ca4f9bf9672",
   "outputs": [
    {
     "data": {
      "text/plain": [
       "   order_id  customer_id  payment order_date delivery_date\n",
       "0         1           64    30811  2021-8-30    2021-09-24\n",
       "1         2          473    50490   2021-2-3    2021-02-13\n",
       "2         3          774    46763  2021-10-8    2021-11-03\n",
       "3         4          433    39782   2021-5-6    2021-05-19\n",
       "4         5          441    14719  2021-3-23    2021-03-24"
      ],
      "text/html": [
       "<div>\n",
       "<style scoped>\n",
       "    .dataframe tbody tr th:only-of-type {\n",
       "        vertical-align: middle;\n",
       "    }\n",
       "\n",
       "    .dataframe tbody tr th {\n",
       "        vertical-align: top;\n",
       "    }\n",
       "\n",
       "    .dataframe thead th {\n",
       "        text-align: right;\n",
       "    }\n",
       "</style>\n",
       "<table border=\"1\" class=\"dataframe\">\n",
       "  <thead>\n",
       "    <tr style=\"text-align: right;\">\n",
       "      <th></th>\n",
       "      <th>order_id</th>\n",
       "      <th>customer_id</th>\n",
       "      <th>payment</th>\n",
       "      <th>order_date</th>\n",
       "      <th>delivery_date</th>\n",
       "    </tr>\n",
       "  </thead>\n",
       "  <tbody>\n",
       "    <tr>\n",
       "      <th>0</th>\n",
       "      <td>1</td>\n",
       "      <td>64</td>\n",
       "      <td>30811</td>\n",
       "      <td>2021-8-30</td>\n",
       "      <td>2021-09-24</td>\n",
       "    </tr>\n",
       "    <tr>\n",
       "      <th>1</th>\n",
       "      <td>2</td>\n",
       "      <td>473</td>\n",
       "      <td>50490</td>\n",
       "      <td>2021-2-3</td>\n",
       "      <td>2021-02-13</td>\n",
       "    </tr>\n",
       "    <tr>\n",
       "      <th>2</th>\n",
       "      <td>3</td>\n",
       "      <td>774</td>\n",
       "      <td>46763</td>\n",
       "      <td>2021-10-8</td>\n",
       "      <td>2021-11-03</td>\n",
       "    </tr>\n",
       "    <tr>\n",
       "      <th>3</th>\n",
       "      <td>4</td>\n",
       "      <td>433</td>\n",
       "      <td>39782</td>\n",
       "      <td>2021-5-6</td>\n",
       "      <td>2021-05-19</td>\n",
       "    </tr>\n",
       "    <tr>\n",
       "      <th>4</th>\n",
       "      <td>5</td>\n",
       "      <td>441</td>\n",
       "      <td>14719</td>\n",
       "      <td>2021-3-23</td>\n",
       "      <td>2021-03-24</td>\n",
       "    </tr>\n",
       "  </tbody>\n",
       "</table>\n",
       "</div>"
      ]
     },
     "execution_count": 75,
     "metadata": {},
     "output_type": "execute_result"
    }
   ],
   "execution_count": 75
  },
  {
   "cell_type": "code",
   "source": [
    "product_df = pd.read_csv(\"https://raw.githubusercontent.com/dicodingacademy/dicoding_dataset/main/DicodingCollection/products.csv\")\n",
    "product_df.head()"
   ],
   "metadata": {
    "collapsed": false,
    "ExecuteTime": {
     "end_time": "2024-05-20T13:09:57.896755Z",
     "start_time": "2024-05-20T13:09:56.682690Z"
    }
   },
   "id": "a31d8417b8ffb67b",
   "outputs": [
    {
     "data": {
      "text/plain": [
       "   product_id product_type  product_name size colour  price  quantity  \\\n",
       "0           0        Shirt  Oxford Cloth   XS    red    114        66   \n",
       "1           1        Shirt  Oxford Cloth    S    red    114        53   \n",
       "2           2        Shirt  Oxford Cloth    M    red    114        54   \n",
       "3           3        Shirt  Oxford Cloth    L    red    114        69   \n",
       "4           4        Shirt  Oxford Cloth   XL    red    114        47   \n",
       "\n",
       "                                    description  \n",
       "0  A red coloured, XS sized, Oxford Cloth Shirt  \n",
       "1   A red coloured, S sized, Oxford Cloth Shirt  \n",
       "2   A red coloured, M sized, Oxford Cloth Shirt  \n",
       "3   A red coloured, L sized, Oxford Cloth Shirt  \n",
       "4  A red coloured, XL sized, Oxford Cloth Shirt  "
      ],
      "text/html": [
       "<div>\n",
       "<style scoped>\n",
       "    .dataframe tbody tr th:only-of-type {\n",
       "        vertical-align: middle;\n",
       "    }\n",
       "\n",
       "    .dataframe tbody tr th {\n",
       "        vertical-align: top;\n",
       "    }\n",
       "\n",
       "    .dataframe thead th {\n",
       "        text-align: right;\n",
       "    }\n",
       "</style>\n",
       "<table border=\"1\" class=\"dataframe\">\n",
       "  <thead>\n",
       "    <tr style=\"text-align: right;\">\n",
       "      <th></th>\n",
       "      <th>product_id</th>\n",
       "      <th>product_type</th>\n",
       "      <th>product_name</th>\n",
       "      <th>size</th>\n",
       "      <th>colour</th>\n",
       "      <th>price</th>\n",
       "      <th>quantity</th>\n",
       "      <th>description</th>\n",
       "    </tr>\n",
       "  </thead>\n",
       "  <tbody>\n",
       "    <tr>\n",
       "      <th>0</th>\n",
       "      <td>0</td>\n",
       "      <td>Shirt</td>\n",
       "      <td>Oxford Cloth</td>\n",
       "      <td>XS</td>\n",
       "      <td>red</td>\n",
       "      <td>114</td>\n",
       "      <td>66</td>\n",
       "      <td>A red coloured, XS sized, Oxford Cloth Shirt</td>\n",
       "    </tr>\n",
       "    <tr>\n",
       "      <th>1</th>\n",
       "      <td>1</td>\n",
       "      <td>Shirt</td>\n",
       "      <td>Oxford Cloth</td>\n",
       "      <td>S</td>\n",
       "      <td>red</td>\n",
       "      <td>114</td>\n",
       "      <td>53</td>\n",
       "      <td>A red coloured, S sized, Oxford Cloth Shirt</td>\n",
       "    </tr>\n",
       "    <tr>\n",
       "      <th>2</th>\n",
       "      <td>2</td>\n",
       "      <td>Shirt</td>\n",
       "      <td>Oxford Cloth</td>\n",
       "      <td>M</td>\n",
       "      <td>red</td>\n",
       "      <td>114</td>\n",
       "      <td>54</td>\n",
       "      <td>A red coloured, M sized, Oxford Cloth Shirt</td>\n",
       "    </tr>\n",
       "    <tr>\n",
       "      <th>3</th>\n",
       "      <td>3</td>\n",
       "      <td>Shirt</td>\n",
       "      <td>Oxford Cloth</td>\n",
       "      <td>L</td>\n",
       "      <td>red</td>\n",
       "      <td>114</td>\n",
       "      <td>69</td>\n",
       "      <td>A red coloured, L sized, Oxford Cloth Shirt</td>\n",
       "    </tr>\n",
       "    <tr>\n",
       "      <th>4</th>\n",
       "      <td>4</td>\n",
       "      <td>Shirt</td>\n",
       "      <td>Oxford Cloth</td>\n",
       "      <td>XL</td>\n",
       "      <td>red</td>\n",
       "      <td>114</td>\n",
       "      <td>47</td>\n",
       "      <td>A red coloured, XL sized, Oxford Cloth Shirt</td>\n",
       "    </tr>\n",
       "  </tbody>\n",
       "</table>\n",
       "</div>"
      ]
     },
     "execution_count": 76,
     "metadata": {},
     "output_type": "execute_result"
    }
   ],
   "execution_count": 76
  },
  {
   "cell_type": "code",
   "source": [
    "sales_df = pd.read_csv(\"https://raw.githubusercontent.com/dicodingacademy/dicoding_dataset/main/DicodingCollection/sales.csv\")\n",
    "sales_df.head()"
   ],
   "metadata": {
    "collapsed": false,
    "ExecuteTime": {
     "end_time": "2024-05-20T13:09:59.048977Z",
     "start_time": "2024-05-20T13:09:57.900727Z"
    }
   },
   "id": "ad5efbc2f062aec0",
   "outputs": [
    {
     "data": {
      "text/plain": [
       "   sales_id  order_id  product_id  price_per_unit  quantity  total_price\n",
       "0         0         1         218             106         2        212.0\n",
       "1         1         1         481             118         1        118.0\n",
       "2         2         1           2              96         3        288.0\n",
       "3         3         1        1002             106         2        212.0\n",
       "4         4         1         691             113         3        339.0"
      ],
      "text/html": [
       "<div>\n",
       "<style scoped>\n",
       "    .dataframe tbody tr th:only-of-type {\n",
       "        vertical-align: middle;\n",
       "    }\n",
       "\n",
       "    .dataframe tbody tr th {\n",
       "        vertical-align: top;\n",
       "    }\n",
       "\n",
       "    .dataframe thead th {\n",
       "        text-align: right;\n",
       "    }\n",
       "</style>\n",
       "<table border=\"1\" class=\"dataframe\">\n",
       "  <thead>\n",
       "    <tr style=\"text-align: right;\">\n",
       "      <th></th>\n",
       "      <th>sales_id</th>\n",
       "      <th>order_id</th>\n",
       "      <th>product_id</th>\n",
       "      <th>price_per_unit</th>\n",
       "      <th>quantity</th>\n",
       "      <th>total_price</th>\n",
       "    </tr>\n",
       "  </thead>\n",
       "  <tbody>\n",
       "    <tr>\n",
       "      <th>0</th>\n",
       "      <td>0</td>\n",
       "      <td>1</td>\n",
       "      <td>218</td>\n",
       "      <td>106</td>\n",
       "      <td>2</td>\n",
       "      <td>212.0</td>\n",
       "    </tr>\n",
       "    <tr>\n",
       "      <th>1</th>\n",
       "      <td>1</td>\n",
       "      <td>1</td>\n",
       "      <td>481</td>\n",
       "      <td>118</td>\n",
       "      <td>1</td>\n",
       "      <td>118.0</td>\n",
       "    </tr>\n",
       "    <tr>\n",
       "      <th>2</th>\n",
       "      <td>2</td>\n",
       "      <td>1</td>\n",
       "      <td>2</td>\n",
       "      <td>96</td>\n",
       "      <td>3</td>\n",
       "      <td>288.0</td>\n",
       "    </tr>\n",
       "    <tr>\n",
       "      <th>3</th>\n",
       "      <td>3</td>\n",
       "      <td>1</td>\n",
       "      <td>1002</td>\n",
       "      <td>106</td>\n",
       "      <td>2</td>\n",
       "      <td>212.0</td>\n",
       "    </tr>\n",
       "    <tr>\n",
       "      <th>4</th>\n",
       "      <td>4</td>\n",
       "      <td>1</td>\n",
       "      <td>691</td>\n",
       "      <td>113</td>\n",
       "      <td>3</td>\n",
       "      <td>339.0</td>\n",
       "    </tr>\n",
       "  </tbody>\n",
       "</table>\n",
       "</div>"
      ]
     },
     "execution_count": 77,
     "metadata": {},
     "output_type": "execute_result"
    }
   ],
   "execution_count": 77
  },
  {
   "cell_type": "markdown",
   "source": [
    "## Assessing Data"
   ],
   "metadata": {
    "collapsed": false
   },
   "id": "4e86991a83286b24"
  },
  {
   "cell_type": "markdown",
   "source": [
    "### Menilai Data `customers_df`"
   ],
   "metadata": {
    "collapsed": false
   },
   "id": "1548c18f610e5999"
  },
  {
   "cell_type": "code",
   "source": [
    "customers_df.info()"
   ],
   "metadata": {
    "collapsed": false,
    "ExecuteTime": {
     "end_time": "2024-05-20T13:09:59.064940Z",
     "start_time": "2024-05-20T13:09:59.051026Z"
    }
   },
   "id": "26c7e475adecf000",
   "outputs": [
    {
     "name": "stdout",
     "output_type": "stream",
     "text": [
      "<class 'pandas.core.frame.DataFrame'>\n",
      "RangeIndex: 1007 entries, 0 to 1006\n",
      "Data columns (total 9 columns):\n",
      " #   Column         Non-Null Count  Dtype \n",
      "---  ------         --------------  ----- \n",
      " 0   customer_id    1007 non-null   int64 \n",
      " 1   customer_name  1007 non-null   object\n",
      " 2   gender         989 non-null    object\n",
      " 3   age            1007 non-null   int64 \n",
      " 4   home_address   1007 non-null   object\n",
      " 5   zip_code       1007 non-null   int64 \n",
      " 6   city           1007 non-null   object\n",
      " 7   state          1007 non-null   object\n",
      " 8   country        1007 non-null   object\n",
      "dtypes: int64(3), object(6)\n",
      "memory usage: 70.9+ KB\n"
     ]
    }
   ],
   "execution_count": 78
  },
  {
   "cell_type": "code",
   "source": [
    "customers_df.isna().sum()"
   ],
   "metadata": {
    "collapsed": false,
    "ExecuteTime": {
     "end_time": "2024-05-20T13:09:59.111903Z",
     "start_time": "2024-05-20T13:09:59.065970Z"
    }
   },
   "id": "8d2677259ce5b810",
   "outputs": [
    {
     "data": {
      "text/plain": [
       "customer_id       0\n",
       "customer_name     0\n",
       "gender           18\n",
       "age               0\n",
       "home_address      0\n",
       "zip_code          0\n",
       "city              0\n",
       "state             0\n",
       "country           0\n",
       "dtype: int64"
      ]
     },
     "execution_count": 79,
     "metadata": {},
     "output_type": "execute_result"
    }
   ],
   "execution_count": 79
  },
  {
   "cell_type": "code",
   "source": [
    "print(\"Jumlah duplikasi: \", customers_df.duplicated().sum())"
   ],
   "metadata": {
    "collapsed": false,
    "ExecuteTime": {
     "end_time": "2024-05-20T13:09:59.127386Z",
     "start_time": "2024-05-20T13:09:59.113866Z"
    }
   },
   "id": "b0e8400e1809c39",
   "outputs": [
    {
     "name": "stdout",
     "output_type": "stream",
     "text": [
      "Jumlah duplikasi:  6\n"
     ]
    }
   ],
   "execution_count": 80
  },
  {
   "cell_type": "code",
   "source": [
    "customers_df.describe()"
   ],
   "metadata": {
    "collapsed": false,
    "ExecuteTime": {
     "end_time": "2024-05-20T13:09:59.158422Z",
     "start_time": "2024-05-20T13:09:59.129387Z"
    }
   },
   "id": "acbc0f6ae2945501",
   "outputs": [
    {
     "data": {
      "text/plain": [
       "       customer_id          age     zip_code\n",
       "count  1007.000000  1007.000000  1007.000000\n",
       "mean    501.726912    50.929494  5012.538232\n",
       "std     288.673238    30.516299  2885.836112\n",
       "min       1.000000    20.000000     2.000000\n",
       "25%     252.500000    34.000000  2403.500000\n",
       "50%     502.000000    50.000000  5087.000000\n",
       "75%     751.500000    65.000000  7493.500000\n",
       "max    1000.000000   700.000000  9998.000000"
      ],
      "text/html": [
       "<div>\n",
       "<style scoped>\n",
       "    .dataframe tbody tr th:only-of-type {\n",
       "        vertical-align: middle;\n",
       "    }\n",
       "\n",
       "    .dataframe tbody tr th {\n",
       "        vertical-align: top;\n",
       "    }\n",
       "\n",
       "    .dataframe thead th {\n",
       "        text-align: right;\n",
       "    }\n",
       "</style>\n",
       "<table border=\"1\" class=\"dataframe\">\n",
       "  <thead>\n",
       "    <tr style=\"text-align: right;\">\n",
       "      <th></th>\n",
       "      <th>customer_id</th>\n",
       "      <th>age</th>\n",
       "      <th>zip_code</th>\n",
       "    </tr>\n",
       "  </thead>\n",
       "  <tbody>\n",
       "    <tr>\n",
       "      <th>count</th>\n",
       "      <td>1007.000000</td>\n",
       "      <td>1007.000000</td>\n",
       "      <td>1007.000000</td>\n",
       "    </tr>\n",
       "    <tr>\n",
       "      <th>mean</th>\n",
       "      <td>501.726912</td>\n",
       "      <td>50.929494</td>\n",
       "      <td>5012.538232</td>\n",
       "    </tr>\n",
       "    <tr>\n",
       "      <th>std</th>\n",
       "      <td>288.673238</td>\n",
       "      <td>30.516299</td>\n",
       "      <td>2885.836112</td>\n",
       "    </tr>\n",
       "    <tr>\n",
       "      <th>min</th>\n",
       "      <td>1.000000</td>\n",
       "      <td>20.000000</td>\n",
       "      <td>2.000000</td>\n",
       "    </tr>\n",
       "    <tr>\n",
       "      <th>25%</th>\n",
       "      <td>252.500000</td>\n",
       "      <td>34.000000</td>\n",
       "      <td>2403.500000</td>\n",
       "    </tr>\n",
       "    <tr>\n",
       "      <th>50%</th>\n",
       "      <td>502.000000</td>\n",
       "      <td>50.000000</td>\n",
       "      <td>5087.000000</td>\n",
       "    </tr>\n",
       "    <tr>\n",
       "      <th>75%</th>\n",
       "      <td>751.500000</td>\n",
       "      <td>65.000000</td>\n",
       "      <td>7493.500000</td>\n",
       "    </tr>\n",
       "    <tr>\n",
       "      <th>max</th>\n",
       "      <td>1000.000000</td>\n",
       "      <td>700.000000</td>\n",
       "      <td>9998.000000</td>\n",
       "    </tr>\n",
       "  </tbody>\n",
       "</table>\n",
       "</div>"
      ]
     },
     "execution_count": 81,
     "metadata": {},
     "output_type": "execute_result"
    }
   ],
   "execution_count": 81
  },
  {
   "cell_type": "markdown",
   "source": [
    "### Menilai Data `orders_df`"
   ],
   "metadata": {
    "collapsed": false
   },
   "id": "76610f342420d7ff"
  },
  {
   "cell_type": "code",
   "source": [
    "orders_df.info()"
   ],
   "metadata": {
    "collapsed": false,
    "ExecuteTime": {
     "end_time": "2024-05-20T13:09:59.173424Z",
     "start_time": "2024-05-20T13:09:59.160389Z"
    }
   },
   "id": "636ad155341f0fa9",
   "outputs": [
    {
     "name": "stdout",
     "output_type": "stream",
     "text": [
      "<class 'pandas.core.frame.DataFrame'>\n",
      "RangeIndex: 1000 entries, 0 to 999\n",
      "Data columns (total 5 columns):\n",
      " #   Column         Non-Null Count  Dtype \n",
      "---  ------         --------------  ----- \n",
      " 0   order_id       1000 non-null   int64 \n",
      " 1   customer_id    1000 non-null   int64 \n",
      " 2   payment        1000 non-null   int64 \n",
      " 3   order_date     1000 non-null   object\n",
      " 4   delivery_date  1000 non-null   object\n",
      "dtypes: int64(3), object(2)\n",
      "memory usage: 39.2+ KB\n"
     ]
    }
   ],
   "execution_count": 82
  },
  {
   "cell_type": "code",
   "source": [
    "print(\"Jumlah duplikasi: \",orders_df.duplicated().sum())\n",
    "orders_df.describe()"
   ],
   "metadata": {
    "collapsed": false,
    "ExecuteTime": {
     "end_time": "2024-05-20T13:09:59.205427Z",
     "start_time": "2024-05-20T13:09:59.178427Z"
    }
   },
   "id": "164e88d41e532dc",
   "outputs": [
    {
     "name": "stdout",
     "output_type": "stream",
     "text": [
      "Jumlah duplikasi:  0\n"
     ]
    },
    {
     "data": {
      "text/plain": [
       "          order_id  customer_id       payment\n",
       "count  1000.000000  1000.000000   1000.000000\n",
       "mean    500.500000   506.640000  33972.936000\n",
       "std     288.819436   277.115502  14451.609047\n",
       "min       1.000000     1.000000  10043.000000\n",
       "25%     250.750000   275.250000  21329.250000\n",
       "50%     500.500000   515.000000  33697.500000\n",
       "75%     750.250000   737.250000  46249.000000\n",
       "max    1000.000000  1000.000000  59910.000000"
      ],
      "text/html": [
       "<div>\n",
       "<style scoped>\n",
       "    .dataframe tbody tr th:only-of-type {\n",
       "        vertical-align: middle;\n",
       "    }\n",
       "\n",
       "    .dataframe tbody tr th {\n",
       "        vertical-align: top;\n",
       "    }\n",
       "\n",
       "    .dataframe thead th {\n",
       "        text-align: right;\n",
       "    }\n",
       "</style>\n",
       "<table border=\"1\" class=\"dataframe\">\n",
       "  <thead>\n",
       "    <tr style=\"text-align: right;\">\n",
       "      <th></th>\n",
       "      <th>order_id</th>\n",
       "      <th>customer_id</th>\n",
       "      <th>payment</th>\n",
       "    </tr>\n",
       "  </thead>\n",
       "  <tbody>\n",
       "    <tr>\n",
       "      <th>count</th>\n",
       "      <td>1000.000000</td>\n",
       "      <td>1000.000000</td>\n",
       "      <td>1000.000000</td>\n",
       "    </tr>\n",
       "    <tr>\n",
       "      <th>mean</th>\n",
       "      <td>500.500000</td>\n",
       "      <td>506.640000</td>\n",
       "      <td>33972.936000</td>\n",
       "    </tr>\n",
       "    <tr>\n",
       "      <th>std</th>\n",
       "      <td>288.819436</td>\n",
       "      <td>277.115502</td>\n",
       "      <td>14451.609047</td>\n",
       "    </tr>\n",
       "    <tr>\n",
       "      <th>min</th>\n",
       "      <td>1.000000</td>\n",
       "      <td>1.000000</td>\n",
       "      <td>10043.000000</td>\n",
       "    </tr>\n",
       "    <tr>\n",
       "      <th>25%</th>\n",
       "      <td>250.750000</td>\n",
       "      <td>275.250000</td>\n",
       "      <td>21329.250000</td>\n",
       "    </tr>\n",
       "    <tr>\n",
       "      <th>50%</th>\n",
       "      <td>500.500000</td>\n",
       "      <td>515.000000</td>\n",
       "      <td>33697.500000</td>\n",
       "    </tr>\n",
       "    <tr>\n",
       "      <th>75%</th>\n",
       "      <td>750.250000</td>\n",
       "      <td>737.250000</td>\n",
       "      <td>46249.000000</td>\n",
       "    </tr>\n",
       "    <tr>\n",
       "      <th>max</th>\n",
       "      <td>1000.000000</td>\n",
       "      <td>1000.000000</td>\n",
       "      <td>59910.000000</td>\n",
       "    </tr>\n",
       "  </tbody>\n",
       "</table>\n",
       "</div>"
      ]
     },
     "execution_count": 83,
     "metadata": {},
     "output_type": "execute_result"
    }
   ],
   "execution_count": 83
  },
  {
   "cell_type": "markdown",
   "source": [
    "### Menilai Data `product_df`"
   ],
   "metadata": {
    "collapsed": false
   },
   "id": "41b9478e52096c13"
  },
  {
   "cell_type": "code",
   "source": [
    "product_df.info()"
   ],
   "metadata": {
    "collapsed": false,
    "ExecuteTime": {
     "end_time": "2024-05-20T13:09:59.220663Z",
     "start_time": "2024-05-20T13:09:59.208406Z"
    }
   },
   "id": "c05eab73272190e9",
   "outputs": [
    {
     "name": "stdout",
     "output_type": "stream",
     "text": [
      "<class 'pandas.core.frame.DataFrame'>\n",
      "RangeIndex: 1266 entries, 0 to 1265\n",
      "Data columns (total 8 columns):\n",
      " #   Column        Non-Null Count  Dtype \n",
      "---  ------        --------------  ----- \n",
      " 0   product_id    1266 non-null   int64 \n",
      " 1   product_type  1266 non-null   object\n",
      " 2   product_name  1266 non-null   object\n",
      " 3   size          1266 non-null   object\n",
      " 4   colour        1266 non-null   object\n",
      " 5   price         1266 non-null   int64 \n",
      " 6   quantity      1266 non-null   int64 \n",
      " 7   description   1266 non-null   object\n",
      "dtypes: int64(3), object(5)\n",
      "memory usage: 79.2+ KB\n"
     ]
    }
   ],
   "execution_count": 84
  },
  {
   "cell_type": "code",
   "source": [
    "print(\"Jumlah duplikasi: \", product_df.duplicated().sum())\n",
    " \n",
    "product_df.describe()"
   ],
   "metadata": {
    "collapsed": false,
    "ExecuteTime": {
     "end_time": "2024-05-20T13:09:59.252662Z",
     "start_time": "2024-05-20T13:09:59.223660Z"
    }
   },
   "id": "d321366e7b7e80b4",
   "outputs": [
    {
     "name": "stdout",
     "output_type": "stream",
     "text": [
      "Jumlah duplikasi:  6\n"
     ]
    },
    {
     "data": {
      "text/plain": [
       "        product_id        price     quantity\n",
       "count  1266.000000  1266.000000  1266.000000\n",
       "mean    627.926540   105.812006    60.138231\n",
       "std     363.971586     9.715611    11.682791\n",
       "min       0.000000    90.000000    40.000000\n",
       "25%     313.250000    95.250000    50.000000\n",
       "50%     626.500000   109.000000    60.000000\n",
       "75%     942.750000   114.000000    70.000000\n",
       "max    1259.000000   119.000000    80.000000"
      ],
      "text/html": [
       "<div>\n",
       "<style scoped>\n",
       "    .dataframe tbody tr th:only-of-type {\n",
       "        vertical-align: middle;\n",
       "    }\n",
       "\n",
       "    .dataframe tbody tr th {\n",
       "        vertical-align: top;\n",
       "    }\n",
       "\n",
       "    .dataframe thead th {\n",
       "        text-align: right;\n",
       "    }\n",
       "</style>\n",
       "<table border=\"1\" class=\"dataframe\">\n",
       "  <thead>\n",
       "    <tr style=\"text-align: right;\">\n",
       "      <th></th>\n",
       "      <th>product_id</th>\n",
       "      <th>price</th>\n",
       "      <th>quantity</th>\n",
       "    </tr>\n",
       "  </thead>\n",
       "  <tbody>\n",
       "    <tr>\n",
       "      <th>count</th>\n",
       "      <td>1266.000000</td>\n",
       "      <td>1266.000000</td>\n",
       "      <td>1266.000000</td>\n",
       "    </tr>\n",
       "    <tr>\n",
       "      <th>mean</th>\n",
       "      <td>627.926540</td>\n",
       "      <td>105.812006</td>\n",
       "      <td>60.138231</td>\n",
       "    </tr>\n",
       "    <tr>\n",
       "      <th>std</th>\n",
       "      <td>363.971586</td>\n",
       "      <td>9.715611</td>\n",
       "      <td>11.682791</td>\n",
       "    </tr>\n",
       "    <tr>\n",
       "      <th>min</th>\n",
       "      <td>0.000000</td>\n",
       "      <td>90.000000</td>\n",
       "      <td>40.000000</td>\n",
       "    </tr>\n",
       "    <tr>\n",
       "      <th>25%</th>\n",
       "      <td>313.250000</td>\n",
       "      <td>95.250000</td>\n",
       "      <td>50.000000</td>\n",
       "    </tr>\n",
       "    <tr>\n",
       "      <th>50%</th>\n",
       "      <td>626.500000</td>\n",
       "      <td>109.000000</td>\n",
       "      <td>60.000000</td>\n",
       "    </tr>\n",
       "    <tr>\n",
       "      <th>75%</th>\n",
       "      <td>942.750000</td>\n",
       "      <td>114.000000</td>\n",
       "      <td>70.000000</td>\n",
       "    </tr>\n",
       "    <tr>\n",
       "      <th>max</th>\n",
       "      <td>1259.000000</td>\n",
       "      <td>119.000000</td>\n",
       "      <td>80.000000</td>\n",
       "    </tr>\n",
       "  </tbody>\n",
       "</table>\n",
       "</div>"
      ]
     },
     "execution_count": 85,
     "metadata": {},
     "output_type": "execute_result"
    }
   ],
   "execution_count": 85
  },
  {
   "cell_type": "markdown",
   "source": [
    "### Menilai Data `sales_df`"
   ],
   "metadata": {
    "collapsed": false
   },
   "id": "5c908f94ff4e470b"
  },
  {
   "cell_type": "code",
   "source": [
    "sales_df.info()"
   ],
   "metadata": {
    "collapsed": false,
    "ExecuteTime": {
     "end_time": "2024-05-20T13:09:59.282659Z",
     "start_time": "2024-05-20T13:09:59.255661Z"
    }
   },
   "id": "f28b0f8018eb16ff",
   "outputs": [
    {
     "name": "stdout",
     "output_type": "stream",
     "text": [
      "<class 'pandas.core.frame.DataFrame'>\n",
      "RangeIndex: 5000 entries, 0 to 4999\n",
      "Data columns (total 6 columns):\n",
      " #   Column          Non-Null Count  Dtype  \n",
      "---  ------          --------------  -----  \n",
      " 0   sales_id        5000 non-null   int64  \n",
      " 1   order_id        5000 non-null   int64  \n",
      " 2   product_id      5000 non-null   int64  \n",
      " 3   price_per_unit  5000 non-null   int64  \n",
      " 4   quantity        5000 non-null   int64  \n",
      " 5   total_price     4981 non-null   float64\n",
      "dtypes: float64(1), int64(5)\n",
      "memory usage: 234.5 KB\n"
     ]
    }
   ],
   "execution_count": 86
  },
  {
   "cell_type": "code",
   "source": [
    "sales_df.isna().sum()"
   ],
   "metadata": {
    "collapsed": false,
    "ExecuteTime": {
     "end_time": "2024-05-20T13:09:59.297700Z",
     "start_time": "2024-05-20T13:09:59.284663Z"
    }
   },
   "id": "a6dfe9ba9fe4d0e3",
   "outputs": [
    {
     "data": {
      "text/plain": [
       "sales_id           0\n",
       "order_id           0\n",
       "product_id         0\n",
       "price_per_unit     0\n",
       "quantity           0\n",
       "total_price       19\n",
       "dtype: int64"
      ]
     },
     "execution_count": 87,
     "metadata": {},
     "output_type": "execute_result"
    }
   ],
   "execution_count": 87
  },
  {
   "cell_type": "code",
   "source": [
    "print(\"Jumlah duplikasi: \", sales_df.duplicated().sum())\n",
    "sales_df.describe()"
   ],
   "metadata": {
    "collapsed": false,
    "ExecuteTime": {
     "end_time": "2024-05-20T13:09:59.344302Z",
     "start_time": "2024-05-20T13:09:59.299673Z"
    }
   },
   "id": "9d03e623eee57f0a",
   "outputs": [
    {
     "name": "stdout",
     "output_type": "stream",
     "text": [
      "Jumlah duplikasi:  0\n"
     ]
    },
    {
     "data": {
      "text/plain": [
       "          sales_id     order_id   product_id  price_per_unit    quantity  \\\n",
       "count  5000.000000  5000.000000  5000.000000     5000.000000  5000.00000   \n",
       "mean   2499.500000   503.038200   634.053200      103.501600     1.99240   \n",
       "std    1443.520003   285.964418   363.255794        9.195004     0.80751   \n",
       "min       0.000000     1.000000     1.000000       90.000000     1.00000   \n",
       "25%    1249.750000   258.000000   323.000000       95.000000     1.00000   \n",
       "50%    2499.500000   504.500000   635.000000      102.000000     2.00000   \n",
       "75%    3749.250000   749.000000   951.000000      112.000000     3.00000   \n",
       "max    4999.000000   999.000000  1259.000000      119.000000     3.00000   \n",
       "\n",
       "       total_price  \n",
       "count  4981.000000  \n",
       "mean    206.307368  \n",
       "std      86.352449  \n",
       "min      90.000000  \n",
       "25%     112.000000  \n",
       "50%     204.000000  \n",
       "75%     285.000000  \n",
       "max     357.000000  "
      ],
      "text/html": [
       "<div>\n",
       "<style scoped>\n",
       "    .dataframe tbody tr th:only-of-type {\n",
       "        vertical-align: middle;\n",
       "    }\n",
       "\n",
       "    .dataframe tbody tr th {\n",
       "        vertical-align: top;\n",
       "    }\n",
       "\n",
       "    .dataframe thead th {\n",
       "        text-align: right;\n",
       "    }\n",
       "</style>\n",
       "<table border=\"1\" class=\"dataframe\">\n",
       "  <thead>\n",
       "    <tr style=\"text-align: right;\">\n",
       "      <th></th>\n",
       "      <th>sales_id</th>\n",
       "      <th>order_id</th>\n",
       "      <th>product_id</th>\n",
       "      <th>price_per_unit</th>\n",
       "      <th>quantity</th>\n",
       "      <th>total_price</th>\n",
       "    </tr>\n",
       "  </thead>\n",
       "  <tbody>\n",
       "    <tr>\n",
       "      <th>count</th>\n",
       "      <td>5000.000000</td>\n",
       "      <td>5000.000000</td>\n",
       "      <td>5000.000000</td>\n",
       "      <td>5000.000000</td>\n",
       "      <td>5000.00000</td>\n",
       "      <td>4981.000000</td>\n",
       "    </tr>\n",
       "    <tr>\n",
       "      <th>mean</th>\n",
       "      <td>2499.500000</td>\n",
       "      <td>503.038200</td>\n",
       "      <td>634.053200</td>\n",
       "      <td>103.501600</td>\n",
       "      <td>1.99240</td>\n",
       "      <td>206.307368</td>\n",
       "    </tr>\n",
       "    <tr>\n",
       "      <th>std</th>\n",
       "      <td>1443.520003</td>\n",
       "      <td>285.964418</td>\n",
       "      <td>363.255794</td>\n",
       "      <td>9.195004</td>\n",
       "      <td>0.80751</td>\n",
       "      <td>86.352449</td>\n",
       "    </tr>\n",
       "    <tr>\n",
       "      <th>min</th>\n",
       "      <td>0.000000</td>\n",
       "      <td>1.000000</td>\n",
       "      <td>1.000000</td>\n",
       "      <td>90.000000</td>\n",
       "      <td>1.00000</td>\n",
       "      <td>90.000000</td>\n",
       "    </tr>\n",
       "    <tr>\n",
       "      <th>25%</th>\n",
       "      <td>1249.750000</td>\n",
       "      <td>258.000000</td>\n",
       "      <td>323.000000</td>\n",
       "      <td>95.000000</td>\n",
       "      <td>1.00000</td>\n",
       "      <td>112.000000</td>\n",
       "    </tr>\n",
       "    <tr>\n",
       "      <th>50%</th>\n",
       "      <td>2499.500000</td>\n",
       "      <td>504.500000</td>\n",
       "      <td>635.000000</td>\n",
       "      <td>102.000000</td>\n",
       "      <td>2.00000</td>\n",
       "      <td>204.000000</td>\n",
       "    </tr>\n",
       "    <tr>\n",
       "      <th>75%</th>\n",
       "      <td>3749.250000</td>\n",
       "      <td>749.000000</td>\n",
       "      <td>951.000000</td>\n",
       "      <td>112.000000</td>\n",
       "      <td>3.00000</td>\n",
       "      <td>285.000000</td>\n",
       "    </tr>\n",
       "    <tr>\n",
       "      <th>max</th>\n",
       "      <td>4999.000000</td>\n",
       "      <td>999.000000</td>\n",
       "      <td>1259.000000</td>\n",
       "      <td>119.000000</td>\n",
       "      <td>3.00000</td>\n",
       "      <td>357.000000</td>\n",
       "    </tr>\n",
       "  </tbody>\n",
       "</table>\n",
       "</div>"
      ]
     },
     "execution_count": 88,
     "metadata": {},
     "output_type": "execute_result"
    }
   ],
   "execution_count": 88
  },
  {
   "cell_type": "markdown",
   "source": [
    "## Cleaning Data"
   ],
   "metadata": {
    "collapsed": false
   },
   "id": "eb6465f2383aa9bf"
  },
  {
   "cell_type": "markdown",
   "source": [
    "### Membersihkan Data `customers_df`"
   ],
   "metadata": {
    "collapsed": false
   },
   "id": "76ab20087bffe56f"
  },
  {
   "cell_type": "markdown",
   "source": [
    "#### Menghilangkan duplicate data"
   ],
   "metadata": {
    "collapsed": false
   },
   "id": "808e8388c6feea1a"
  },
  {
   "cell_type": "code",
   "source": [
    "customers_df.drop_duplicates(inplace=True)"
   ],
   "metadata": {
    "collapsed": false,
    "ExecuteTime": {
     "end_time": "2024-05-20T13:09:59.359296Z",
     "start_time": "2024-05-20T13:09:59.346269Z"
    }
   },
   "id": "74ea3758eaeb8a8c",
   "outputs": [],
   "execution_count": 89
  },
  {
   "cell_type": "code",
   "source": [
    "print(\"Jumlah duplikasi: \", customers_df.duplicated().sum())"
   ],
   "metadata": {
    "collapsed": false,
    "ExecuteTime": {
     "end_time": "2024-05-20T13:09:59.374302Z",
     "start_time": "2024-05-20T13:09:59.361267Z"
    }
   },
   "id": "a76b96de09c1049c",
   "outputs": [
    {
     "name": "stdout",
     "output_type": "stream",
     "text": [
      "Jumlah duplikasi:  0\n"
     ]
    }
   ],
   "execution_count": 90
  },
  {
   "cell_type": "markdown",
   "source": [
    "#### Menangani missing value"
   ],
   "metadata": {
    "collapsed": false
   },
   "id": "495d3d2b99cec717"
  },
  {
   "cell_type": "code",
   "source": [
    "customers_df[customers_df.gender.isna()]"
   ],
   "metadata": {
    "collapsed": false,
    "ExecuteTime": {
     "end_time": "2024-05-20T13:09:59.405648Z",
     "start_time": "2024-05-20T13:09:59.376267Z"
    }
   },
   "id": "2e04c896299960c7",
   "outputs": [
    {
     "data": {
      "text/plain": [
       "     customer_id customer_name gender  age                     home_address  \\\n",
       "38            39      fulan 39    NaN   80  7440 Cameron Estate DrSuite 628   \n",
       "167          168     fulan 168    NaN   27         2781 Berge MallSuite 452   \n",
       "322          322     fulan 322    NaN   30        593 Becker CircleApt. 333   \n",
       "393          393     fulan 393    NaN   34          5158 Levi HillSuite 531   \n",
       "442          442     fulan 442    NaN   26           5157 Feil RoadApt. 633   \n",
       "722          720     fulan 720    NaN   40         31 Jordan ParadeApt. 400   \n",
       "745          743     fulan 743    NaN   57   09 Christopher StreetSuite 967   \n",
       "773          771     fulan 771    NaN   74     7367 Wright JunctionApt. 773   \n",
       "798          795     fulan 795    NaN   49          487 Summer MewsApt. 874   \n",
       "801          798     fulan 798    NaN   56           27 Aiden KnollApt. 875   \n",
       "825          822     fulan 822    NaN   59        41 Jenkins KnollSuite 438   \n",
       "859          855     fulan 855    NaN   55       603 O'keefe KnollSuite 782   \n",
       "863          859     fulan 859    NaN   38            32 Isla GroveApt. 078   \n",
       "914          909     fulan 909    NaN   62    976 Murray Station StApt. 036   \n",
       "934          929     fulan 929    NaN   68           394 Lily HillSuite 153   \n",
       "948          943     fulan 943    NaN   64       3117 Heller PlaceSuite 149   \n",
       "952          946     fulan 946    NaN   24      8227 Nicholas HillSuite 150   \n",
       "994          988     fulan 988    NaN   35   1130 Turner Estate DrSuite 925   \n",
       "\n",
       "     zip_code                   city                         state    country  \n",
       "38       4622  North Victoriachester            Northern Territory  Australia  \n",
       "167      1975         North Leoburgh             Western Australia  Australia  \n",
       "322      1640             Jacobiview             Western Australia  Australia  \n",
       "393      1474             Johnsburgh                    Queensland  Australia  \n",
       "442      7249             Port Chloe               New South Wales  Australia  \n",
       "722      1380             West Henry               South Australia  Australia  \n",
       "745      6226         Lake Lukemouth             Western Australia  Australia  \n",
       "773      8882               Kuhntown                      Victoria  Australia  \n",
       "798      1712            East Hayden  Australian Capital Territory  Australia  \n",
       "801      6531               Port Sam  Australian Capital Territory  Australia  \n",
       "825      2588        Lake Andrewport               South Australia  Australia  \n",
       "859      8822        Port Dylanmouth                      Tasmania  Australia  \n",
       "863      7711            Rosechester               New South Wales  Australia  \n",
       "914      3227               Langfort                      Tasmania  Australia  \n",
       "934      2353             Beahanfurt            Northern Territory  Australia  \n",
       "948       822           North Elijah               South Australia  Australia  \n",
       "952       115           South Jasper                    Queensland  Australia  \n",
       "994      9386              New Harry             Western Australia  Australia  "
      ],
      "text/html": [
       "<div>\n",
       "<style scoped>\n",
       "    .dataframe tbody tr th:only-of-type {\n",
       "        vertical-align: middle;\n",
       "    }\n",
       "\n",
       "    .dataframe tbody tr th {\n",
       "        vertical-align: top;\n",
       "    }\n",
       "\n",
       "    .dataframe thead th {\n",
       "        text-align: right;\n",
       "    }\n",
       "</style>\n",
       "<table border=\"1\" class=\"dataframe\">\n",
       "  <thead>\n",
       "    <tr style=\"text-align: right;\">\n",
       "      <th></th>\n",
       "      <th>customer_id</th>\n",
       "      <th>customer_name</th>\n",
       "      <th>gender</th>\n",
       "      <th>age</th>\n",
       "      <th>home_address</th>\n",
       "      <th>zip_code</th>\n",
       "      <th>city</th>\n",
       "      <th>state</th>\n",
       "      <th>country</th>\n",
       "    </tr>\n",
       "  </thead>\n",
       "  <tbody>\n",
       "    <tr>\n",
       "      <th>38</th>\n",
       "      <td>39</td>\n",
       "      <td>fulan 39</td>\n",
       "      <td>NaN</td>\n",
       "      <td>80</td>\n",
       "      <td>7440 Cameron Estate DrSuite 628</td>\n",
       "      <td>4622</td>\n",
       "      <td>North Victoriachester</td>\n",
       "      <td>Northern Territory</td>\n",
       "      <td>Australia</td>\n",
       "    </tr>\n",
       "    <tr>\n",
       "      <th>167</th>\n",
       "      <td>168</td>\n",
       "      <td>fulan 168</td>\n",
       "      <td>NaN</td>\n",
       "      <td>27</td>\n",
       "      <td>2781 Berge MallSuite 452</td>\n",
       "      <td>1975</td>\n",
       "      <td>North Leoburgh</td>\n",
       "      <td>Western Australia</td>\n",
       "      <td>Australia</td>\n",
       "    </tr>\n",
       "    <tr>\n",
       "      <th>322</th>\n",
       "      <td>322</td>\n",
       "      <td>fulan 322</td>\n",
       "      <td>NaN</td>\n",
       "      <td>30</td>\n",
       "      <td>593 Becker CircleApt. 333</td>\n",
       "      <td>1640</td>\n",
       "      <td>Jacobiview</td>\n",
       "      <td>Western Australia</td>\n",
       "      <td>Australia</td>\n",
       "    </tr>\n",
       "    <tr>\n",
       "      <th>393</th>\n",
       "      <td>393</td>\n",
       "      <td>fulan 393</td>\n",
       "      <td>NaN</td>\n",
       "      <td>34</td>\n",
       "      <td>5158 Levi HillSuite 531</td>\n",
       "      <td>1474</td>\n",
       "      <td>Johnsburgh</td>\n",
       "      <td>Queensland</td>\n",
       "      <td>Australia</td>\n",
       "    </tr>\n",
       "    <tr>\n",
       "      <th>442</th>\n",
       "      <td>442</td>\n",
       "      <td>fulan 442</td>\n",
       "      <td>NaN</td>\n",
       "      <td>26</td>\n",
       "      <td>5157 Feil RoadApt. 633</td>\n",
       "      <td>7249</td>\n",
       "      <td>Port Chloe</td>\n",
       "      <td>New South Wales</td>\n",
       "      <td>Australia</td>\n",
       "    </tr>\n",
       "    <tr>\n",
       "      <th>722</th>\n",
       "      <td>720</td>\n",
       "      <td>fulan 720</td>\n",
       "      <td>NaN</td>\n",
       "      <td>40</td>\n",
       "      <td>31 Jordan ParadeApt. 400</td>\n",
       "      <td>1380</td>\n",
       "      <td>West Henry</td>\n",
       "      <td>South Australia</td>\n",
       "      <td>Australia</td>\n",
       "    </tr>\n",
       "    <tr>\n",
       "      <th>745</th>\n",
       "      <td>743</td>\n",
       "      <td>fulan 743</td>\n",
       "      <td>NaN</td>\n",
       "      <td>57</td>\n",
       "      <td>09 Christopher StreetSuite 967</td>\n",
       "      <td>6226</td>\n",
       "      <td>Lake Lukemouth</td>\n",
       "      <td>Western Australia</td>\n",
       "      <td>Australia</td>\n",
       "    </tr>\n",
       "    <tr>\n",
       "      <th>773</th>\n",
       "      <td>771</td>\n",
       "      <td>fulan 771</td>\n",
       "      <td>NaN</td>\n",
       "      <td>74</td>\n",
       "      <td>7367 Wright JunctionApt. 773</td>\n",
       "      <td>8882</td>\n",
       "      <td>Kuhntown</td>\n",
       "      <td>Victoria</td>\n",
       "      <td>Australia</td>\n",
       "    </tr>\n",
       "    <tr>\n",
       "      <th>798</th>\n",
       "      <td>795</td>\n",
       "      <td>fulan 795</td>\n",
       "      <td>NaN</td>\n",
       "      <td>49</td>\n",
       "      <td>487 Summer MewsApt. 874</td>\n",
       "      <td>1712</td>\n",
       "      <td>East Hayden</td>\n",
       "      <td>Australian Capital Territory</td>\n",
       "      <td>Australia</td>\n",
       "    </tr>\n",
       "    <tr>\n",
       "      <th>801</th>\n",
       "      <td>798</td>\n",
       "      <td>fulan 798</td>\n",
       "      <td>NaN</td>\n",
       "      <td>56</td>\n",
       "      <td>27 Aiden KnollApt. 875</td>\n",
       "      <td>6531</td>\n",
       "      <td>Port Sam</td>\n",
       "      <td>Australian Capital Territory</td>\n",
       "      <td>Australia</td>\n",
       "    </tr>\n",
       "    <tr>\n",
       "      <th>825</th>\n",
       "      <td>822</td>\n",
       "      <td>fulan 822</td>\n",
       "      <td>NaN</td>\n",
       "      <td>59</td>\n",
       "      <td>41 Jenkins KnollSuite 438</td>\n",
       "      <td>2588</td>\n",
       "      <td>Lake Andrewport</td>\n",
       "      <td>South Australia</td>\n",
       "      <td>Australia</td>\n",
       "    </tr>\n",
       "    <tr>\n",
       "      <th>859</th>\n",
       "      <td>855</td>\n",
       "      <td>fulan 855</td>\n",
       "      <td>NaN</td>\n",
       "      <td>55</td>\n",
       "      <td>603 O'keefe KnollSuite 782</td>\n",
       "      <td>8822</td>\n",
       "      <td>Port Dylanmouth</td>\n",
       "      <td>Tasmania</td>\n",
       "      <td>Australia</td>\n",
       "    </tr>\n",
       "    <tr>\n",
       "      <th>863</th>\n",
       "      <td>859</td>\n",
       "      <td>fulan 859</td>\n",
       "      <td>NaN</td>\n",
       "      <td>38</td>\n",
       "      <td>32 Isla GroveApt. 078</td>\n",
       "      <td>7711</td>\n",
       "      <td>Rosechester</td>\n",
       "      <td>New South Wales</td>\n",
       "      <td>Australia</td>\n",
       "    </tr>\n",
       "    <tr>\n",
       "      <th>914</th>\n",
       "      <td>909</td>\n",
       "      <td>fulan 909</td>\n",
       "      <td>NaN</td>\n",
       "      <td>62</td>\n",
       "      <td>976 Murray Station StApt. 036</td>\n",
       "      <td>3227</td>\n",
       "      <td>Langfort</td>\n",
       "      <td>Tasmania</td>\n",
       "      <td>Australia</td>\n",
       "    </tr>\n",
       "    <tr>\n",
       "      <th>934</th>\n",
       "      <td>929</td>\n",
       "      <td>fulan 929</td>\n",
       "      <td>NaN</td>\n",
       "      <td>68</td>\n",
       "      <td>394 Lily HillSuite 153</td>\n",
       "      <td>2353</td>\n",
       "      <td>Beahanfurt</td>\n",
       "      <td>Northern Territory</td>\n",
       "      <td>Australia</td>\n",
       "    </tr>\n",
       "    <tr>\n",
       "      <th>948</th>\n",
       "      <td>943</td>\n",
       "      <td>fulan 943</td>\n",
       "      <td>NaN</td>\n",
       "      <td>64</td>\n",
       "      <td>3117 Heller PlaceSuite 149</td>\n",
       "      <td>822</td>\n",
       "      <td>North Elijah</td>\n",
       "      <td>South Australia</td>\n",
       "      <td>Australia</td>\n",
       "    </tr>\n",
       "    <tr>\n",
       "      <th>952</th>\n",
       "      <td>946</td>\n",
       "      <td>fulan 946</td>\n",
       "      <td>NaN</td>\n",
       "      <td>24</td>\n",
       "      <td>8227 Nicholas HillSuite 150</td>\n",
       "      <td>115</td>\n",
       "      <td>South Jasper</td>\n",
       "      <td>Queensland</td>\n",
       "      <td>Australia</td>\n",
       "    </tr>\n",
       "    <tr>\n",
       "      <th>994</th>\n",
       "      <td>988</td>\n",
       "      <td>fulan 988</td>\n",
       "      <td>NaN</td>\n",
       "      <td>35</td>\n",
       "      <td>1130 Turner Estate DrSuite 925</td>\n",
       "      <td>9386</td>\n",
       "      <td>New Harry</td>\n",
       "      <td>Western Australia</td>\n",
       "      <td>Australia</td>\n",
       "    </tr>\n",
       "  </tbody>\n",
       "</table>\n",
       "</div>"
      ]
     },
     "execution_count": 91,
     "metadata": {},
     "output_type": "execute_result"
    }
   ],
   "execution_count": 91
  },
  {
   "cell_type": "code",
   "source": [
    "customers_df.gender.value_counts()"
   ],
   "metadata": {
    "collapsed": false,
    "ExecuteTime": {
     "end_time": "2024-05-20T13:09:59.421164Z",
     "start_time": "2024-05-20T13:09:59.407647Z"
    }
   },
   "id": "8f76988a46f44976",
   "outputs": [
    {
     "data": {
      "text/plain": [
       "gender\n",
       "Prefer not to say    725\n",
       "Male                 143\n",
       "Female               115\n",
       "Name: count, dtype: int64"
      ]
     },
     "execution_count": 92,
     "metadata": {},
     "output_type": "execute_result"
    }
   ],
   "execution_count": 92
  },
  {
   "cell_type": "code",
   "source": [
    "customers_df.fillna(value=\"Prefer not to say\", inplace=True)"
   ],
   "metadata": {
    "collapsed": false,
    "ExecuteTime": {
     "end_time": "2024-05-20T13:09:59.437164Z",
     "start_time": "2024-05-20T13:09:59.423164Z"
    }
   },
   "id": "87e9717a68d339bd",
   "outputs": [],
   "execution_count": 93
  },
  {
   "cell_type": "code",
   "source": [
    "customers_df.isna().sum()"
   ],
   "metadata": {
    "collapsed": false,
    "ExecuteTime": {
     "end_time": "2024-05-20T13:09:59.453199Z",
     "start_time": "2024-05-20T13:09:59.439163Z"
    }
   },
   "id": "28c219fd2d0d8b29",
   "outputs": [
    {
     "data": {
      "text/plain": [
       "customer_id      0\n",
       "customer_name    0\n",
       "gender           0\n",
       "age              0\n",
       "home_address     0\n",
       "zip_code         0\n",
       "city             0\n",
       "state            0\n",
       "country          0\n",
       "dtype: int64"
      ]
     },
     "execution_count": 94,
     "metadata": {},
     "output_type": "execute_result"
    }
   ],
   "execution_count": 94
  },
  {
   "cell_type": "markdown",
   "source": [
    "#### Menangani missing value"
   ],
   "metadata": {
    "collapsed": false
   },
   "id": "e76bab561c47cc1a"
  },
  {
   "cell_type": "code",
   "source": [
    "customers_df[customers_df.age == customers_df.age.max()]"
   ],
   "metadata": {
    "collapsed": false,
    "ExecuteTime": {
     "end_time": "2024-05-20T13:09:59.469163Z",
     "start_time": "2024-05-20T13:09:59.455164Z"
    }
   },
   "id": "988480d145a78ce8",
   "outputs": [
    {
     "data": {
      "text/plain": [
       "     customer_id customer_name             gender  age  \\\n",
       "967          961     fulan 961  Prefer not to say  700   \n",
       "\n",
       "                   home_address  zip_code        city            state  \\\n",
       "967  29 Farrell ParadeSuite 818      6528  New Joseph  South Australia   \n",
       "\n",
       "       country  \n",
       "967  Australia  "
      ],
      "text/html": [
       "<div>\n",
       "<style scoped>\n",
       "    .dataframe tbody tr th:only-of-type {\n",
       "        vertical-align: middle;\n",
       "    }\n",
       "\n",
       "    .dataframe tbody tr th {\n",
       "        vertical-align: top;\n",
       "    }\n",
       "\n",
       "    .dataframe thead th {\n",
       "        text-align: right;\n",
       "    }\n",
       "</style>\n",
       "<table border=\"1\" class=\"dataframe\">\n",
       "  <thead>\n",
       "    <tr style=\"text-align: right;\">\n",
       "      <th></th>\n",
       "      <th>customer_id</th>\n",
       "      <th>customer_name</th>\n",
       "      <th>gender</th>\n",
       "      <th>age</th>\n",
       "      <th>home_address</th>\n",
       "      <th>zip_code</th>\n",
       "      <th>city</th>\n",
       "      <th>state</th>\n",
       "      <th>country</th>\n",
       "    </tr>\n",
       "  </thead>\n",
       "  <tbody>\n",
       "    <tr>\n",
       "      <th>967</th>\n",
       "      <td>961</td>\n",
       "      <td>fulan 961</td>\n",
       "      <td>Prefer not to say</td>\n",
       "      <td>700</td>\n",
       "      <td>29 Farrell ParadeSuite 818</td>\n",
       "      <td>6528</td>\n",
       "      <td>New Joseph</td>\n",
       "      <td>South Australia</td>\n",
       "      <td>Australia</td>\n",
       "    </tr>\n",
       "  </tbody>\n",
       "</table>\n",
       "</div>"
      ]
     },
     "execution_count": 95,
     "metadata": {},
     "output_type": "execute_result"
    }
   ],
   "execution_count": 95
  },
  {
   "cell_type": "code",
   "source": [
    "customers_df.age = customers_df.age.replace(customers_df.age.max(), 70)"
   ],
   "metadata": {
    "collapsed": false,
    "ExecuteTime": {
     "end_time": "2024-05-20T13:09:59.485192Z",
     "start_time": "2024-05-20T13:09:59.471167Z"
    }
   },
   "id": "e85b115d7e5c0b0a",
   "outputs": [],
   "execution_count": 96
  },
  {
   "cell_type": "code",
   "source": [
    "customers_df[customers_df.age == customers_df.age.max()]"
   ],
   "metadata": {
    "collapsed": false,
    "ExecuteTime": {
     "end_time": "2024-05-20T13:09:59.516748Z",
     "start_time": "2024-05-20T13:09:59.488163Z"
    }
   },
   "id": "41c041fe48cf53e6",
   "outputs": [
    {
     "data": {
      "text/plain": [
       "     customer_id customer_name             gender  age  \\\n",
       "215          216     fulan 216  Prefer not to say  500   \n",
       "\n",
       "               home_address  zip_code       city               state  \\\n",
       "215  038 Haley MewsApt. 810      3991  Bayertown  Northern Territory   \n",
       "\n",
       "       country  \n",
       "215  Australia  "
      ],
      "text/html": [
       "<div>\n",
       "<style scoped>\n",
       "    .dataframe tbody tr th:only-of-type {\n",
       "        vertical-align: middle;\n",
       "    }\n",
       "\n",
       "    .dataframe tbody tr th {\n",
       "        vertical-align: top;\n",
       "    }\n",
       "\n",
       "    .dataframe thead th {\n",
       "        text-align: right;\n",
       "    }\n",
       "</style>\n",
       "<table border=\"1\" class=\"dataframe\">\n",
       "  <thead>\n",
       "    <tr style=\"text-align: right;\">\n",
       "      <th></th>\n",
       "      <th>customer_id</th>\n",
       "      <th>customer_name</th>\n",
       "      <th>gender</th>\n",
       "      <th>age</th>\n",
       "      <th>home_address</th>\n",
       "      <th>zip_code</th>\n",
       "      <th>city</th>\n",
       "      <th>state</th>\n",
       "      <th>country</th>\n",
       "    </tr>\n",
       "  </thead>\n",
       "  <tbody>\n",
       "    <tr>\n",
       "      <th>215</th>\n",
       "      <td>216</td>\n",
       "      <td>fulan 216</td>\n",
       "      <td>Prefer not to say</td>\n",
       "      <td>500</td>\n",
       "      <td>038 Haley MewsApt. 810</td>\n",
       "      <td>3991</td>\n",
       "      <td>Bayertown</td>\n",
       "      <td>Northern Territory</td>\n",
       "      <td>Australia</td>\n",
       "    </tr>\n",
       "  </tbody>\n",
       "</table>\n",
       "</div>"
      ]
     },
     "execution_count": 97,
     "metadata": {},
     "output_type": "execute_result"
    }
   ],
   "execution_count": 97
  },
  {
   "cell_type": "code",
   "source": [
    "customers_df.age = customers_df.age.replace(customers_df.age.max(), 50)"
   ],
   "metadata": {
    "collapsed": false,
    "ExecuteTime": {
     "end_time": "2024-05-20T13:09:59.532783Z",
     "start_time": "2024-05-20T13:09:59.518749Z"
    }
   },
   "id": "7c0c46b439c79af3",
   "outputs": [],
   "execution_count": 98
  },
  {
   "cell_type": "code",
   "source": [
    "customers_df.describe()"
   ],
   "metadata": {
    "collapsed": false,
    "ExecuteTime": {
     "end_time": "2024-05-20T13:09:59.564791Z",
     "start_time": "2024-05-20T13:09:59.535762Z"
    }
   },
   "id": "ae32c48ef0f5aa98",
   "outputs": [
    {
     "data": {
      "text/plain": [
       "       customer_id          age     zip_code\n",
       "count  1001.000000  1001.000000  1001.000000\n",
       "mean    500.942058    49.874126  5000.693307\n",
       "std     289.013599    17.644663  2886.084454\n",
       "min       1.000000    20.000000     2.000000\n",
       "25%     251.000000    34.000000  2398.000000\n",
       "50%     501.000000    50.000000  5079.000000\n",
       "75%     751.000000    65.000000  7454.000000\n",
       "max    1000.000000    80.000000  9998.000000"
      ],
      "text/html": [
       "<div>\n",
       "<style scoped>\n",
       "    .dataframe tbody tr th:only-of-type {\n",
       "        vertical-align: middle;\n",
       "    }\n",
       "\n",
       "    .dataframe tbody tr th {\n",
       "        vertical-align: top;\n",
       "    }\n",
       "\n",
       "    .dataframe thead th {\n",
       "        text-align: right;\n",
       "    }\n",
       "</style>\n",
       "<table border=\"1\" class=\"dataframe\">\n",
       "  <thead>\n",
       "    <tr style=\"text-align: right;\">\n",
       "      <th></th>\n",
       "      <th>customer_id</th>\n",
       "      <th>age</th>\n",
       "      <th>zip_code</th>\n",
       "    </tr>\n",
       "  </thead>\n",
       "  <tbody>\n",
       "    <tr>\n",
       "      <th>count</th>\n",
       "      <td>1001.000000</td>\n",
       "      <td>1001.000000</td>\n",
       "      <td>1001.000000</td>\n",
       "    </tr>\n",
       "    <tr>\n",
       "      <th>mean</th>\n",
       "      <td>500.942058</td>\n",
       "      <td>49.874126</td>\n",
       "      <td>5000.693307</td>\n",
       "    </tr>\n",
       "    <tr>\n",
       "      <th>std</th>\n",
       "      <td>289.013599</td>\n",
       "      <td>17.644663</td>\n",
       "      <td>2886.084454</td>\n",
       "    </tr>\n",
       "    <tr>\n",
       "      <th>min</th>\n",
       "      <td>1.000000</td>\n",
       "      <td>20.000000</td>\n",
       "      <td>2.000000</td>\n",
       "    </tr>\n",
       "    <tr>\n",
       "      <th>25%</th>\n",
       "      <td>251.000000</td>\n",
       "      <td>34.000000</td>\n",
       "      <td>2398.000000</td>\n",
       "    </tr>\n",
       "    <tr>\n",
       "      <th>50%</th>\n",
       "      <td>501.000000</td>\n",
       "      <td>50.000000</td>\n",
       "      <td>5079.000000</td>\n",
       "    </tr>\n",
       "    <tr>\n",
       "      <th>75%</th>\n",
       "      <td>751.000000</td>\n",
       "      <td>65.000000</td>\n",
       "      <td>7454.000000</td>\n",
       "    </tr>\n",
       "    <tr>\n",
       "      <th>max</th>\n",
       "      <td>1000.000000</td>\n",
       "      <td>80.000000</td>\n",
       "      <td>9998.000000</td>\n",
       "    </tr>\n",
       "  </tbody>\n",
       "</table>\n",
       "</div>"
      ]
     },
     "execution_count": 99,
     "metadata": {},
     "output_type": "execute_result"
    }
   ],
   "execution_count": 99
  },
  {
   "cell_type": "markdown",
   "source": [
    "### Membersihkan Data `orders_df`"
   ],
   "metadata": {
    "collapsed": false
   },
   "id": "368a4d63edb818ff"
  },
  {
   "cell_type": "markdown",
   "source": [
    "#### Mengubah data type"
   ],
   "metadata": {
    "collapsed": false
   },
   "id": "6312e3920ab20c3a"
  },
  {
   "cell_type": "code",
   "source": [
    "datetime_columns = [\"order_date\", \"delivery_date\"]\n",
    " \n",
    "for column in datetime_columns:\n",
    "  orders_df[column] = pd.to_datetime(orders_df[column])"
   ],
   "metadata": {
    "collapsed": false,
    "ExecuteTime": {
     "end_time": "2024-05-20T13:09:59.580779Z",
     "start_time": "2024-05-20T13:09:59.566748Z"
    }
   },
   "id": "28f9202fb84fb638",
   "outputs": [],
   "execution_count": 100
  },
  {
   "cell_type": "code",
   "source": [
    "orders_df.info()"
   ],
   "metadata": {
    "collapsed": false,
    "ExecuteTime": {
     "end_time": "2024-05-20T13:09:59.612371Z",
     "start_time": "2024-05-20T13:09:59.589751Z"
    }
   },
   "id": "244bc7ec04b3a307",
   "outputs": [
    {
     "name": "stdout",
     "output_type": "stream",
     "text": [
      "<class 'pandas.core.frame.DataFrame'>\n",
      "RangeIndex: 1000 entries, 0 to 999\n",
      "Data columns (total 5 columns):\n",
      " #   Column         Non-Null Count  Dtype         \n",
      "---  ------         --------------  -----         \n",
      " 0   order_id       1000 non-null   int64         \n",
      " 1   customer_id    1000 non-null   int64         \n",
      " 2   payment        1000 non-null   int64         \n",
      " 3   order_date     1000 non-null   datetime64[ns]\n",
      " 4   delivery_date  1000 non-null   datetime64[ns]\n",
      "dtypes: datetime64[ns](2), int64(3)\n",
      "memory usage: 39.2 KB\n"
     ]
    }
   ],
   "execution_count": 101
  },
  {
   "cell_type": "markdown",
   "source": [
    "### Membersihkan Data `product_df`"
   ],
   "metadata": {
    "collapsed": false
   },
   "id": "2cb15438e37a7e72"
  },
  {
   "cell_type": "markdown",
   "source": [
    "#### Menghilangkan duplicate data"
   ],
   "metadata": {
    "collapsed": false
   },
   "id": "ed15a592adad5190"
  },
  {
   "cell_type": "code",
   "source": [
    "product_df.drop_duplicates(inplace=True)"
   ],
   "metadata": {
    "collapsed": false,
    "ExecuteTime": {
     "end_time": "2024-05-20T13:09:59.628341Z",
     "start_time": "2024-05-20T13:09:59.614340Z"
    }
   },
   "id": "3353e2fcfdbb4e93",
   "outputs": [],
   "execution_count": 102
  },
  {
   "cell_type": "code",
   "source": [
    "print(\"Jumlah duplikasi: \", product_df.duplicated().sum())"
   ],
   "metadata": {
    "collapsed": false,
    "ExecuteTime": {
     "end_time": "2024-05-20T13:09:59.644371Z",
     "start_time": "2024-05-20T13:09:59.631343Z"
    }
   },
   "id": "be12744aceb43dd1",
   "outputs": [
    {
     "name": "stdout",
     "output_type": "stream",
     "text": [
      "Jumlah duplikasi:  0\n"
     ]
    }
   ],
   "execution_count": 103
  },
  {
   "cell_type": "markdown",
   "source": [
    "### Membersihkan Data `sales_df`"
   ],
   "metadata": {
    "collapsed": false
   },
   "id": "5bc4986acce9f85c"
  },
  {
   "cell_type": "markdown",
   "source": [
    "#### Menangani missing value"
   ],
   "metadata": {
    "collapsed": false
   },
   "id": "41c636cbf3e808f1"
  },
  {
   "cell_type": "code",
   "source": [
    "sales_df[sales_df.total_price.isna()]"
   ],
   "metadata": {
    "collapsed": false,
    "ExecuteTime": {
     "end_time": "2024-05-20T13:09:59.675371Z",
     "start_time": "2024-05-20T13:09:59.646343Z"
    }
   },
   "id": "ace4d642cf9dbd69",
   "outputs": [
    {
     "data": {
      "text/plain": [
       "      sales_id  order_id  product_id  price_per_unit  quantity  total_price\n",
       "9            9         2        1196             105         1          NaN\n",
       "121        121        27        1027              90         3          NaN\n",
       "278        278        63         360              94         2          NaN\n",
       "421        421        95        1091             115         1          NaN\n",
       "489        489       108        1193             105         3          NaN\n",
       "539        539       117         405             119         2          NaN\n",
       "636        636       134         653              93         3          NaN\n",
       "687        687       145        1138             102         1          NaN\n",
       "854        854       177          64             104         1          NaN\n",
       "1079      1079       222         908              94         3          NaN\n",
       "1193      1193       248        1121             102         2          NaN\n",
       "1313      1313       272         826             117         1          NaN\n",
       "1548      1548       316         103             118         3          NaN\n",
       "1688      1688       345         428             107         1          NaN\n",
       "1775      1775       359         694             113         2          NaN\n",
       "1902      1902       381        1218             105         3          NaN\n",
       "2025      2025       408         611             112         3          NaN\n",
       "2164      2164       436         583             100         3          NaN\n",
       "2347      2347       476         696             113         2          NaN"
      ],
      "text/html": [
       "<div>\n",
       "<style scoped>\n",
       "    .dataframe tbody tr th:only-of-type {\n",
       "        vertical-align: middle;\n",
       "    }\n",
       "\n",
       "    .dataframe tbody tr th {\n",
       "        vertical-align: top;\n",
       "    }\n",
       "\n",
       "    .dataframe thead th {\n",
       "        text-align: right;\n",
       "    }\n",
       "</style>\n",
       "<table border=\"1\" class=\"dataframe\">\n",
       "  <thead>\n",
       "    <tr style=\"text-align: right;\">\n",
       "      <th></th>\n",
       "      <th>sales_id</th>\n",
       "      <th>order_id</th>\n",
       "      <th>product_id</th>\n",
       "      <th>price_per_unit</th>\n",
       "      <th>quantity</th>\n",
       "      <th>total_price</th>\n",
       "    </tr>\n",
       "  </thead>\n",
       "  <tbody>\n",
       "    <tr>\n",
       "      <th>9</th>\n",
       "      <td>9</td>\n",
       "      <td>2</td>\n",
       "      <td>1196</td>\n",
       "      <td>105</td>\n",
       "      <td>1</td>\n",
       "      <td>NaN</td>\n",
       "    </tr>\n",
       "    <tr>\n",
       "      <th>121</th>\n",
       "      <td>121</td>\n",
       "      <td>27</td>\n",
       "      <td>1027</td>\n",
       "      <td>90</td>\n",
       "      <td>3</td>\n",
       "      <td>NaN</td>\n",
       "    </tr>\n",
       "    <tr>\n",
       "      <th>278</th>\n",
       "      <td>278</td>\n",
       "      <td>63</td>\n",
       "      <td>360</td>\n",
       "      <td>94</td>\n",
       "      <td>2</td>\n",
       "      <td>NaN</td>\n",
       "    </tr>\n",
       "    <tr>\n",
       "      <th>421</th>\n",
       "      <td>421</td>\n",
       "      <td>95</td>\n",
       "      <td>1091</td>\n",
       "      <td>115</td>\n",
       "      <td>1</td>\n",
       "      <td>NaN</td>\n",
       "    </tr>\n",
       "    <tr>\n",
       "      <th>489</th>\n",
       "      <td>489</td>\n",
       "      <td>108</td>\n",
       "      <td>1193</td>\n",
       "      <td>105</td>\n",
       "      <td>3</td>\n",
       "      <td>NaN</td>\n",
       "    </tr>\n",
       "    <tr>\n",
       "      <th>539</th>\n",
       "      <td>539</td>\n",
       "      <td>117</td>\n",
       "      <td>405</td>\n",
       "      <td>119</td>\n",
       "      <td>2</td>\n",
       "      <td>NaN</td>\n",
       "    </tr>\n",
       "    <tr>\n",
       "      <th>636</th>\n",
       "      <td>636</td>\n",
       "      <td>134</td>\n",
       "      <td>653</td>\n",
       "      <td>93</td>\n",
       "      <td>3</td>\n",
       "      <td>NaN</td>\n",
       "    </tr>\n",
       "    <tr>\n",
       "      <th>687</th>\n",
       "      <td>687</td>\n",
       "      <td>145</td>\n",
       "      <td>1138</td>\n",
       "      <td>102</td>\n",
       "      <td>1</td>\n",
       "      <td>NaN</td>\n",
       "    </tr>\n",
       "    <tr>\n",
       "      <th>854</th>\n",
       "      <td>854</td>\n",
       "      <td>177</td>\n",
       "      <td>64</td>\n",
       "      <td>104</td>\n",
       "      <td>1</td>\n",
       "      <td>NaN</td>\n",
       "    </tr>\n",
       "    <tr>\n",
       "      <th>1079</th>\n",
       "      <td>1079</td>\n",
       "      <td>222</td>\n",
       "      <td>908</td>\n",
       "      <td>94</td>\n",
       "      <td>3</td>\n",
       "      <td>NaN</td>\n",
       "    </tr>\n",
       "    <tr>\n",
       "      <th>1193</th>\n",
       "      <td>1193</td>\n",
       "      <td>248</td>\n",
       "      <td>1121</td>\n",
       "      <td>102</td>\n",
       "      <td>2</td>\n",
       "      <td>NaN</td>\n",
       "    </tr>\n",
       "    <tr>\n",
       "      <th>1313</th>\n",
       "      <td>1313</td>\n",
       "      <td>272</td>\n",
       "      <td>826</td>\n",
       "      <td>117</td>\n",
       "      <td>1</td>\n",
       "      <td>NaN</td>\n",
       "    </tr>\n",
       "    <tr>\n",
       "      <th>1548</th>\n",
       "      <td>1548</td>\n",
       "      <td>316</td>\n",
       "      <td>103</td>\n",
       "      <td>118</td>\n",
       "      <td>3</td>\n",
       "      <td>NaN</td>\n",
       "    </tr>\n",
       "    <tr>\n",
       "      <th>1688</th>\n",
       "      <td>1688</td>\n",
       "      <td>345</td>\n",
       "      <td>428</td>\n",
       "      <td>107</td>\n",
       "      <td>1</td>\n",
       "      <td>NaN</td>\n",
       "    </tr>\n",
       "    <tr>\n",
       "      <th>1775</th>\n",
       "      <td>1775</td>\n",
       "      <td>359</td>\n",
       "      <td>694</td>\n",
       "      <td>113</td>\n",
       "      <td>2</td>\n",
       "      <td>NaN</td>\n",
       "    </tr>\n",
       "    <tr>\n",
       "      <th>1902</th>\n",
       "      <td>1902</td>\n",
       "      <td>381</td>\n",
       "      <td>1218</td>\n",
       "      <td>105</td>\n",
       "      <td>3</td>\n",
       "      <td>NaN</td>\n",
       "    </tr>\n",
       "    <tr>\n",
       "      <th>2025</th>\n",
       "      <td>2025</td>\n",
       "      <td>408</td>\n",
       "      <td>611</td>\n",
       "      <td>112</td>\n",
       "      <td>3</td>\n",
       "      <td>NaN</td>\n",
       "    </tr>\n",
       "    <tr>\n",
       "      <th>2164</th>\n",
       "      <td>2164</td>\n",
       "      <td>436</td>\n",
       "      <td>583</td>\n",
       "      <td>100</td>\n",
       "      <td>3</td>\n",
       "      <td>NaN</td>\n",
       "    </tr>\n",
       "    <tr>\n",
       "      <th>2347</th>\n",
       "      <td>2347</td>\n",
       "      <td>476</td>\n",
       "      <td>696</td>\n",
       "      <td>113</td>\n",
       "      <td>2</td>\n",
       "      <td>NaN</td>\n",
       "    </tr>\n",
       "  </tbody>\n",
       "</table>\n",
       "</div>"
      ]
     },
     "execution_count": 104,
     "metadata": {},
     "output_type": "execute_result"
    }
   ],
   "execution_count": 104
  },
  {
   "cell_type": "code",
   "source": [
    "sales_df[\"total_price\"] = sales_df[\"price_per_unit\"] * sales_df[\"quantity\"]"
   ],
   "metadata": {
    "collapsed": false,
    "ExecuteTime": {
     "end_time": "2024-05-20T13:09:59.691340Z",
     "start_time": "2024-05-20T13:09:59.677354Z"
    }
   },
   "id": "a70b7bf7d1edbd1e",
   "outputs": [],
   "execution_count": 105
  },
  {
   "cell_type": "code",
   "source": [
    "sales_df.isna().sum()"
   ],
   "metadata": {
    "collapsed": false,
    "ExecuteTime": {
     "end_time": "2024-05-20T13:09:59.706350Z",
     "start_time": "2024-05-20T13:09:59.693341Z"
    }
   },
   "id": "448fa8375a0c1ea4",
   "outputs": [
    {
     "data": {
      "text/plain": [
       "sales_id          0\n",
       "order_id          0\n",
       "product_id        0\n",
       "price_per_unit    0\n",
       "quantity          0\n",
       "total_price       0\n",
       "dtype: int64"
      ]
     },
     "execution_count": 106,
     "metadata": {},
     "output_type": "execute_result"
    }
   ],
   "execution_count": 106
  },
  {
   "cell_type": "markdown",
   "source": [
    "---\n",
    "\n",
    "# Exploratory Data Analysis\n",
    "\n",
    "#### Tujuan\n",
    "Pertama, kita akan melanjutkan proyek analisis data Dicoding Collection dengan menjalankan proses EDA. Proses ini memiliki tujuan antara lain:\n",
    "- membuat pertanyaan analisis atau bisnis yang ingin dicari jawabannya; dan\n",
    "- melakukan eksplorasi terhadap setiap data untuk mencari insight menarik guna menjawab pertanyaan bisnis tersebut.\n",
    "\n",
    "#### Alur Latihan\n",
    "Berikut tahapan dalam latihan ini.\n",
    "1. Tahap persiapan.\n",
    "2. Tahap penentuan pertanyaan bisnis untuk explorasi data.\n",
    "3. Tahap eksplorasi data.\n",
    "\n",
    "#### Menentukan Pertanyaan Bisnis\n",
    "Sebagai perusahaan yang bergerak di bidang online fashion, DiCo perlu mengevaluasi performa penjualan (sales) dan memahami item fashion yang paling banyak dibeli. Selain itu, ia juga perlu lebih memahami pelanggannya (customer) sehingga dapat membuat sebuah strategi *campaign* yang lebih efisien. \n",
    "\n",
    "Berdasarkan beberapa masalah tersebut, kita dapat mendefinisikan beberapa pertanyaan bisnis seperti berikut.\n",
    "1. Bagaimana performa penjualan dan revenue perusahaan dalam beberapa bulan terakhir?\n",
    "2. Produk apa yang paling banyak dan paling sedikit terjual?\n",
    "3. Bagaimana demografi pelanggan yang kita miliki?\n",
    "4. Kapan terakhir pelanggan melakukan transaksi?\n",
    "5. Seberapa sering seorang pelanggan melakukan pembelian dalam beberapa bulan terakhir?\n",
    "6. Berapa banyak uang yang dihabiskan pelanggan dalam beberapa bulan terakhir?\n",
    "\n",
    "---"
   ],
   "metadata": {
    "collapsed": false
   },
   "id": "efd6ada723dbf481"
  },
  {
   "cell_type": "markdown",
   "source": [
    "## Melakukan Eksplorasi Data"
   ],
   "metadata": {
    "collapsed": false
   },
   "id": "b92646298094d6f1"
  },
  {
   "cell_type": "markdown",
   "source": [
    "### Eksplorasi Data `customers_df`"
   ],
   "metadata": {
    "collapsed": false
   },
   "id": "a5280cbbf0dbefc6"
  },
  {
   "cell_type": "markdown",
   "source": [
    "#### Rangkuman Parameter Statistik"
   ],
   "metadata": {
    "collapsed": false
   },
   "id": "3877448a7b03cda5"
  },
  {
   "cell_type": "code",
   "source": [
    "customers_df.describe(include=\"all\")"
   ],
   "metadata": {
    "collapsed": false,
    "ExecuteTime": {
     "end_time": "2024-05-20T13:09:59.737903Z",
     "start_time": "2024-05-20T13:09:59.708353Z"
    }
   },
   "id": "81d80738486834eb",
   "outputs": [
    {
     "data": {
      "text/plain": [
       "        customer_id customer_name             gender          age  \\\n",
       "count   1001.000000          1001               1001  1001.000000   \n",
       "unique          NaN          1000                  3          NaN   \n",
       "top             NaN     fulan 943  Prefer not to say          NaN   \n",
       "freq            NaN             2                743          NaN   \n",
       "mean     500.942058           NaN                NaN    49.874126   \n",
       "std      289.013599           NaN                NaN    17.644663   \n",
       "min        1.000000           NaN                NaN    20.000000   \n",
       "25%      251.000000           NaN                NaN    34.000000   \n",
       "50%      501.000000           NaN                NaN    50.000000   \n",
       "75%      751.000000           NaN                NaN    65.000000   \n",
       "max     1000.000000           NaN                NaN    80.000000   \n",
       "\n",
       "                      home_address     zip_code     city            state  \\\n",
       "count                         1001  1001.000000     1001             1001   \n",
       "unique                        1000          NaN      961                8   \n",
       "top     3117 Heller PlaceSuite 149          NaN  New Ava  South Australia   \n",
       "freq                             2          NaN        3              140   \n",
       "mean                           NaN  5000.693307      NaN              NaN   \n",
       "std                            NaN  2886.084454      NaN              NaN   \n",
       "min                            NaN     2.000000      NaN              NaN   \n",
       "25%                            NaN  2398.000000      NaN              NaN   \n",
       "50%                            NaN  5079.000000      NaN              NaN   \n",
       "75%                            NaN  7454.000000      NaN              NaN   \n",
       "max                            NaN  9998.000000      NaN              NaN   \n",
       "\n",
       "          country  \n",
       "count        1001  \n",
       "unique          1  \n",
       "top     Australia  \n",
       "freq         1001  \n",
       "mean          NaN  \n",
       "std           NaN  \n",
       "min           NaN  \n",
       "25%           NaN  \n",
       "50%           NaN  \n",
       "75%           NaN  \n",
       "max           NaN  "
      ],
      "text/html": [
       "<div>\n",
       "<style scoped>\n",
       "    .dataframe tbody tr th:only-of-type {\n",
       "        vertical-align: middle;\n",
       "    }\n",
       "\n",
       "    .dataframe tbody tr th {\n",
       "        vertical-align: top;\n",
       "    }\n",
       "\n",
       "    .dataframe thead th {\n",
       "        text-align: right;\n",
       "    }\n",
       "</style>\n",
       "<table border=\"1\" class=\"dataframe\">\n",
       "  <thead>\n",
       "    <tr style=\"text-align: right;\">\n",
       "      <th></th>\n",
       "      <th>customer_id</th>\n",
       "      <th>customer_name</th>\n",
       "      <th>gender</th>\n",
       "      <th>age</th>\n",
       "      <th>home_address</th>\n",
       "      <th>zip_code</th>\n",
       "      <th>city</th>\n",
       "      <th>state</th>\n",
       "      <th>country</th>\n",
       "    </tr>\n",
       "  </thead>\n",
       "  <tbody>\n",
       "    <tr>\n",
       "      <th>count</th>\n",
       "      <td>1001.000000</td>\n",
       "      <td>1001</td>\n",
       "      <td>1001</td>\n",
       "      <td>1001.000000</td>\n",
       "      <td>1001</td>\n",
       "      <td>1001.000000</td>\n",
       "      <td>1001</td>\n",
       "      <td>1001</td>\n",
       "      <td>1001</td>\n",
       "    </tr>\n",
       "    <tr>\n",
       "      <th>unique</th>\n",
       "      <td>NaN</td>\n",
       "      <td>1000</td>\n",
       "      <td>3</td>\n",
       "      <td>NaN</td>\n",
       "      <td>1000</td>\n",
       "      <td>NaN</td>\n",
       "      <td>961</td>\n",
       "      <td>8</td>\n",
       "      <td>1</td>\n",
       "    </tr>\n",
       "    <tr>\n",
       "      <th>top</th>\n",
       "      <td>NaN</td>\n",
       "      <td>fulan 943</td>\n",
       "      <td>Prefer not to say</td>\n",
       "      <td>NaN</td>\n",
       "      <td>3117 Heller PlaceSuite 149</td>\n",
       "      <td>NaN</td>\n",
       "      <td>New Ava</td>\n",
       "      <td>South Australia</td>\n",
       "      <td>Australia</td>\n",
       "    </tr>\n",
       "    <tr>\n",
       "      <th>freq</th>\n",
       "      <td>NaN</td>\n",
       "      <td>2</td>\n",
       "      <td>743</td>\n",
       "      <td>NaN</td>\n",
       "      <td>2</td>\n",
       "      <td>NaN</td>\n",
       "      <td>3</td>\n",
       "      <td>140</td>\n",
       "      <td>1001</td>\n",
       "    </tr>\n",
       "    <tr>\n",
       "      <th>mean</th>\n",
       "      <td>500.942058</td>\n",
       "      <td>NaN</td>\n",
       "      <td>NaN</td>\n",
       "      <td>49.874126</td>\n",
       "      <td>NaN</td>\n",
       "      <td>5000.693307</td>\n",
       "      <td>NaN</td>\n",
       "      <td>NaN</td>\n",
       "      <td>NaN</td>\n",
       "    </tr>\n",
       "    <tr>\n",
       "      <th>std</th>\n",
       "      <td>289.013599</td>\n",
       "      <td>NaN</td>\n",
       "      <td>NaN</td>\n",
       "      <td>17.644663</td>\n",
       "      <td>NaN</td>\n",
       "      <td>2886.084454</td>\n",
       "      <td>NaN</td>\n",
       "      <td>NaN</td>\n",
       "      <td>NaN</td>\n",
       "    </tr>\n",
       "    <tr>\n",
       "      <th>min</th>\n",
       "      <td>1.000000</td>\n",
       "      <td>NaN</td>\n",
       "      <td>NaN</td>\n",
       "      <td>20.000000</td>\n",
       "      <td>NaN</td>\n",
       "      <td>2.000000</td>\n",
       "      <td>NaN</td>\n",
       "      <td>NaN</td>\n",
       "      <td>NaN</td>\n",
       "    </tr>\n",
       "    <tr>\n",
       "      <th>25%</th>\n",
       "      <td>251.000000</td>\n",
       "      <td>NaN</td>\n",
       "      <td>NaN</td>\n",
       "      <td>34.000000</td>\n",
       "      <td>NaN</td>\n",
       "      <td>2398.000000</td>\n",
       "      <td>NaN</td>\n",
       "      <td>NaN</td>\n",
       "      <td>NaN</td>\n",
       "    </tr>\n",
       "    <tr>\n",
       "      <th>50%</th>\n",
       "      <td>501.000000</td>\n",
       "      <td>NaN</td>\n",
       "      <td>NaN</td>\n",
       "      <td>50.000000</td>\n",
       "      <td>NaN</td>\n",
       "      <td>5079.000000</td>\n",
       "      <td>NaN</td>\n",
       "      <td>NaN</td>\n",
       "      <td>NaN</td>\n",
       "    </tr>\n",
       "    <tr>\n",
       "      <th>75%</th>\n",
       "      <td>751.000000</td>\n",
       "      <td>NaN</td>\n",
       "      <td>NaN</td>\n",
       "      <td>65.000000</td>\n",
       "      <td>NaN</td>\n",
       "      <td>7454.000000</td>\n",
       "      <td>NaN</td>\n",
       "      <td>NaN</td>\n",
       "      <td>NaN</td>\n",
       "    </tr>\n",
       "    <tr>\n",
       "      <th>max</th>\n",
       "      <td>1000.000000</td>\n",
       "      <td>NaN</td>\n",
       "      <td>NaN</td>\n",
       "      <td>80.000000</td>\n",
       "      <td>NaN</td>\n",
       "      <td>9998.000000</td>\n",
       "      <td>NaN</td>\n",
       "      <td>NaN</td>\n",
       "      <td>NaN</td>\n",
       "    </tr>\n",
       "  </tbody>\n",
       "</table>\n",
       "</div>"
      ]
     },
     "execution_count": 107,
     "metadata": {},
     "output_type": "execute_result"
    }
   ],
   "execution_count": 107
  },
  {
   "cell_type": "markdown",
   "source": [
    "#### Demografi Pelanggan Berdasarkan Jenis Kelamin (Gender)"
   ],
   "metadata": {
    "collapsed": false
   },
   "id": "6a679f4a45df8414"
  },
  {
   "cell_type": "code",
   "source": [
    "customers_df.groupby(by=\"gender\").agg({\n",
    "    \"customer_id\": \"nunique\",\n",
    "    \"age\": [\"max\", \"min\", \"mean\", \"std\"]\n",
    "})"
   ],
   "metadata": {
    "collapsed": false,
    "ExecuteTime": {
     "end_time": "2024-05-20T13:09:59.768870Z",
     "start_time": "2024-05-20T13:09:59.738904Z"
    }
   },
   "id": "50b4d45f241c306a",
   "outputs": [
    {
     "data": {
      "text/plain": [
       "                  customer_id age                          \n",
       "                      nunique max min       mean        std\n",
       "gender                                                     \n",
       "Female                    115  79  20  49.147826  16.646607\n",
       "Male                      143  80  20  51.230769  18.462635\n",
       "Prefer not to say         742  80  20  49.725437  17.644283"
      ],
      "text/html": [
       "<div>\n",
       "<style scoped>\n",
       "    .dataframe tbody tr th:only-of-type {\n",
       "        vertical-align: middle;\n",
       "    }\n",
       "\n",
       "    .dataframe tbody tr th {\n",
       "        vertical-align: top;\n",
       "    }\n",
       "\n",
       "    .dataframe thead tr th {\n",
       "        text-align: left;\n",
       "    }\n",
       "\n",
       "    .dataframe thead tr:last-of-type th {\n",
       "        text-align: right;\n",
       "    }\n",
       "</style>\n",
       "<table border=\"1\" class=\"dataframe\">\n",
       "  <thead>\n",
       "    <tr>\n",
       "      <th></th>\n",
       "      <th>customer_id</th>\n",
       "      <th colspan=\"4\" halign=\"left\">age</th>\n",
       "    </tr>\n",
       "    <tr>\n",
       "      <th></th>\n",
       "      <th>nunique</th>\n",
       "      <th>max</th>\n",
       "      <th>min</th>\n",
       "      <th>mean</th>\n",
       "      <th>std</th>\n",
       "    </tr>\n",
       "    <tr>\n",
       "      <th>gender</th>\n",
       "      <th></th>\n",
       "      <th></th>\n",
       "      <th></th>\n",
       "      <th></th>\n",
       "      <th></th>\n",
       "    </tr>\n",
       "  </thead>\n",
       "  <tbody>\n",
       "    <tr>\n",
       "      <th>Female</th>\n",
       "      <td>115</td>\n",
       "      <td>79</td>\n",
       "      <td>20</td>\n",
       "      <td>49.147826</td>\n",
       "      <td>16.646607</td>\n",
       "    </tr>\n",
       "    <tr>\n",
       "      <th>Male</th>\n",
       "      <td>143</td>\n",
       "      <td>80</td>\n",
       "      <td>20</td>\n",
       "      <td>51.230769</td>\n",
       "      <td>18.462635</td>\n",
       "    </tr>\n",
       "    <tr>\n",
       "      <th>Prefer not to say</th>\n",
       "      <td>742</td>\n",
       "      <td>80</td>\n",
       "      <td>20</td>\n",
       "      <td>49.725437</td>\n",
       "      <td>17.644283</td>\n",
       "    </tr>\n",
       "  </tbody>\n",
       "</table>\n",
       "</div>"
      ]
     },
     "execution_count": 108,
     "metadata": {},
     "output_type": "execute_result"
    }
   ],
   "execution_count": 108
  },
  {
   "cell_type": "markdown",
   "source": [
    "#### Persebaran Jumlah Pelanggan Berdasarkan Kota (City) dan Negara Bagian (State)"
   ],
   "metadata": {
    "collapsed": false
   },
   "id": "8c46d84fceff486e"
  },
  {
   "cell_type": "code",
   "source": [
    "customers_df.groupby(by=\"city\").customer_id.nunique().sort_values(ascending=False)"
   ],
   "metadata": {
    "collapsed": false,
    "ExecuteTime": {
     "end_time": "2024-05-20T13:09:59.783872Z",
     "start_time": "2024-05-20T13:09:59.769871Z"
    }
   },
   "id": "c406adf86a112e3e",
   "outputs": [
    {
     "data": {
      "text/plain": [
       "city\n",
       "East Aidan       3\n",
       "East Sophia      3\n",
       "New Ava          3\n",
       "West Jackfort    2\n",
       "Corkeryshire     2\n",
       "                ..\n",
       "Jordanside       1\n",
       "Josephland       1\n",
       "Josephmouth      1\n",
       "Justinport       1\n",
       "Zacville         1\n",
       "Name: customer_id, Length: 961, dtype: int64"
      ]
     },
     "execution_count": 109,
     "metadata": {},
     "output_type": "execute_result"
    }
   ],
   "execution_count": 109
  },
  {
   "cell_type": "code",
   "source": [
    "customers_df.groupby(by=\"state\").customer_id.nunique().sort_values(ascending=False)"
   ],
   "metadata": {
    "collapsed": false,
    "ExecuteTime": {
     "end_time": "2024-05-20T13:09:59.798840Z",
     "start_time": "2024-05-20T13:09:59.785870Z"
    }
   },
   "id": "8caee4b12d9164da",
   "outputs": [
    {
     "data": {
      "text/plain": [
       "state\n",
       "South Australia                 139\n",
       "Queensland                      134\n",
       "New South Wales                 132\n",
       "Northern Territory              125\n",
       "Western Australia               124\n",
       "Australian Capital Territory    121\n",
       "Victoria                        121\n",
       "Tasmania                        104\n",
       "Name: customer_id, dtype: int64"
      ]
     },
     "execution_count": 110,
     "metadata": {},
     "output_type": "execute_result"
    }
   ],
   "execution_count": 110
  },
  {
   "cell_type": "markdown",
   "source": [
    "### Eksplorasi Data `orders_df`"
   ],
   "metadata": {
    "collapsed": false
   },
   "id": "4affc028ff5e1d7c"
  },
  {
   "cell_type": "markdown",
   "source": [
    "#### Membuat sebuah Kolom Baru untuk Memuat Waktu Pengiriman Tiap Order"
   ],
   "metadata": {
    "collapsed": false
   },
   "id": "605046d8557325f5"
  },
  {
   "cell_type": "code",
   "source": [
    "delivery_time = orders_df[\"delivery_date\"] - orders_df[\"order_date\"]\n",
    "delivery_time = delivery_time.apply(lambda x: x.total_seconds())\n",
    "orders_df[\"delivery_time\"] = round(delivery_time/86400)"
   ],
   "metadata": {
    "collapsed": false,
    "ExecuteTime": {
     "end_time": "2024-05-20T13:09:59.813980Z",
     "start_time": "2024-05-20T13:09:59.800860Z"
    }
   },
   "id": "4a33858c057c8b11",
   "outputs": [],
   "execution_count": 111
  },
  {
   "cell_type": "code",
   "source": [
    "orders_df.sample(5)"
   ],
   "metadata": {
    "collapsed": false,
    "ExecuteTime": {
     "end_time": "2024-05-20T13:09:59.844986Z",
     "start_time": "2024-05-20T13:09:59.815983Z"
    }
   },
   "id": "e3045f374f27f547",
   "outputs": [
    {
     "data": {
      "text/plain": [
       "     order_id  customer_id  payment order_date delivery_date  delivery_time\n",
       "619       620          614    41599 2021-07-19    2021-08-01           13.0\n",
       "287       288          201    36160 2021-10-13    2021-10-16            3.0\n",
       "503       504          192    57782 2021-01-13    2021-02-08           26.0\n",
       "463       464          103    26925 2021-06-29    2021-07-25           26.0\n",
       "153       154          674    49994 2021-10-17    2021-11-07           21.0"
      ],
      "text/html": [
       "<div>\n",
       "<style scoped>\n",
       "    .dataframe tbody tr th:only-of-type {\n",
       "        vertical-align: middle;\n",
       "    }\n",
       "\n",
       "    .dataframe tbody tr th {\n",
       "        vertical-align: top;\n",
       "    }\n",
       "\n",
       "    .dataframe thead th {\n",
       "        text-align: right;\n",
       "    }\n",
       "</style>\n",
       "<table border=\"1\" class=\"dataframe\">\n",
       "  <thead>\n",
       "    <tr style=\"text-align: right;\">\n",
       "      <th></th>\n",
       "      <th>order_id</th>\n",
       "      <th>customer_id</th>\n",
       "      <th>payment</th>\n",
       "      <th>order_date</th>\n",
       "      <th>delivery_date</th>\n",
       "      <th>delivery_time</th>\n",
       "    </tr>\n",
       "  </thead>\n",
       "  <tbody>\n",
       "    <tr>\n",
       "      <th>619</th>\n",
       "      <td>620</td>\n",
       "      <td>614</td>\n",
       "      <td>41599</td>\n",
       "      <td>2021-07-19</td>\n",
       "      <td>2021-08-01</td>\n",
       "      <td>13.0</td>\n",
       "    </tr>\n",
       "    <tr>\n",
       "      <th>287</th>\n",
       "      <td>288</td>\n",
       "      <td>201</td>\n",
       "      <td>36160</td>\n",
       "      <td>2021-10-13</td>\n",
       "      <td>2021-10-16</td>\n",
       "      <td>3.0</td>\n",
       "    </tr>\n",
       "    <tr>\n",
       "      <th>503</th>\n",
       "      <td>504</td>\n",
       "      <td>192</td>\n",
       "      <td>57782</td>\n",
       "      <td>2021-01-13</td>\n",
       "      <td>2021-02-08</td>\n",
       "      <td>26.0</td>\n",
       "    </tr>\n",
       "    <tr>\n",
       "      <th>463</th>\n",
       "      <td>464</td>\n",
       "      <td>103</td>\n",
       "      <td>26925</td>\n",
       "      <td>2021-06-29</td>\n",
       "      <td>2021-07-25</td>\n",
       "      <td>26.0</td>\n",
       "    </tr>\n",
       "    <tr>\n",
       "      <th>153</th>\n",
       "      <td>154</td>\n",
       "      <td>674</td>\n",
       "      <td>49994</td>\n",
       "      <td>2021-10-17</td>\n",
       "      <td>2021-11-07</td>\n",
       "      <td>21.0</td>\n",
       "    </tr>\n",
       "  </tbody>\n",
       "</table>\n",
       "</div>"
      ]
     },
     "execution_count": 112,
     "metadata": {},
     "output_type": "execute_result"
    }
   ],
   "execution_count": 112
  },
  {
   "cell_type": "markdown",
   "source": [
    "#### Rangkuman Parameter Statistik"
   ],
   "metadata": {
    "collapsed": false
   },
   "id": "78a764e8285e2213"
  },
  {
   "cell_type": "code",
   "source": [
    "orders_df.describe(include=\"all\")"
   ],
   "metadata": {
    "collapsed": false,
    "ExecuteTime": {
     "end_time": "2024-05-20T13:09:59.877036Z",
     "start_time": "2024-05-20T13:09:59.846980Z"
    }
   },
   "id": "aab5ea7b2f177871",
   "outputs": [
    {
     "data": {
      "text/plain": [
       "          order_id  customer_id       payment                  order_date  \\\n",
       "count  1000.000000  1000.000000   1000.000000                        1000   \n",
       "mean    500.500000   506.640000  33972.936000  2021-05-27 18:38:52.800000   \n",
       "min       1.000000     1.000000  10043.000000         2021-01-01 00:00:00   \n",
       "25%     250.750000   275.250000  21329.250000         2021-03-13 18:00:00   \n",
       "50%     500.500000   515.000000  33697.500000         2021-05-27 12:00:00   \n",
       "75%     750.250000   737.250000  46249.000000         2021-08-12 06:00:00   \n",
       "max    1000.000000  1000.000000  59910.000000         2021-10-24 00:00:00   \n",
       "std     288.819436   277.115502  14451.609047                         NaN   \n",
       "\n",
       "             delivery_date  delivery_time  \n",
       "count                 1000    1000.000000  \n",
       "mean   2021-06-10 20:31:12      14.078000  \n",
       "min    2021-01-03 00:00:00       1.000000  \n",
       "25%    2021-03-28 00:00:00       8.000000  \n",
       "50%    2021-06-11 12:00:00      14.000000  \n",
       "75%    2021-08-24 06:00:00      21.000000  \n",
       "max    2021-11-20 00:00:00      27.000000  \n",
       "std                    NaN       7.707225  "
      ],
      "text/html": [
       "<div>\n",
       "<style scoped>\n",
       "    .dataframe tbody tr th:only-of-type {\n",
       "        vertical-align: middle;\n",
       "    }\n",
       "\n",
       "    .dataframe tbody tr th {\n",
       "        vertical-align: top;\n",
       "    }\n",
       "\n",
       "    .dataframe thead th {\n",
       "        text-align: right;\n",
       "    }\n",
       "</style>\n",
       "<table border=\"1\" class=\"dataframe\">\n",
       "  <thead>\n",
       "    <tr style=\"text-align: right;\">\n",
       "      <th></th>\n",
       "      <th>order_id</th>\n",
       "      <th>customer_id</th>\n",
       "      <th>payment</th>\n",
       "      <th>order_date</th>\n",
       "      <th>delivery_date</th>\n",
       "      <th>delivery_time</th>\n",
       "    </tr>\n",
       "  </thead>\n",
       "  <tbody>\n",
       "    <tr>\n",
       "      <th>count</th>\n",
       "      <td>1000.000000</td>\n",
       "      <td>1000.000000</td>\n",
       "      <td>1000.000000</td>\n",
       "      <td>1000</td>\n",
       "      <td>1000</td>\n",
       "      <td>1000.000000</td>\n",
       "    </tr>\n",
       "    <tr>\n",
       "      <th>mean</th>\n",
       "      <td>500.500000</td>\n",
       "      <td>506.640000</td>\n",
       "      <td>33972.936000</td>\n",
       "      <td>2021-05-27 18:38:52.800000</td>\n",
       "      <td>2021-06-10 20:31:12</td>\n",
       "      <td>14.078000</td>\n",
       "    </tr>\n",
       "    <tr>\n",
       "      <th>min</th>\n",
       "      <td>1.000000</td>\n",
       "      <td>1.000000</td>\n",
       "      <td>10043.000000</td>\n",
       "      <td>2021-01-01 00:00:00</td>\n",
       "      <td>2021-01-03 00:00:00</td>\n",
       "      <td>1.000000</td>\n",
       "    </tr>\n",
       "    <tr>\n",
       "      <th>25%</th>\n",
       "      <td>250.750000</td>\n",
       "      <td>275.250000</td>\n",
       "      <td>21329.250000</td>\n",
       "      <td>2021-03-13 18:00:00</td>\n",
       "      <td>2021-03-28 00:00:00</td>\n",
       "      <td>8.000000</td>\n",
       "    </tr>\n",
       "    <tr>\n",
       "      <th>50%</th>\n",
       "      <td>500.500000</td>\n",
       "      <td>515.000000</td>\n",
       "      <td>33697.500000</td>\n",
       "      <td>2021-05-27 12:00:00</td>\n",
       "      <td>2021-06-11 12:00:00</td>\n",
       "      <td>14.000000</td>\n",
       "    </tr>\n",
       "    <tr>\n",
       "      <th>75%</th>\n",
       "      <td>750.250000</td>\n",
       "      <td>737.250000</td>\n",
       "      <td>46249.000000</td>\n",
       "      <td>2021-08-12 06:00:00</td>\n",
       "      <td>2021-08-24 06:00:00</td>\n",
       "      <td>21.000000</td>\n",
       "    </tr>\n",
       "    <tr>\n",
       "      <th>max</th>\n",
       "      <td>1000.000000</td>\n",
       "      <td>1000.000000</td>\n",
       "      <td>59910.000000</td>\n",
       "      <td>2021-10-24 00:00:00</td>\n",
       "      <td>2021-11-20 00:00:00</td>\n",
       "      <td>27.000000</td>\n",
       "    </tr>\n",
       "    <tr>\n",
       "      <th>std</th>\n",
       "      <td>288.819436</td>\n",
       "      <td>277.115502</td>\n",
       "      <td>14451.609047</td>\n",
       "      <td>NaN</td>\n",
       "      <td>NaN</td>\n",
       "      <td>7.707225</td>\n",
       "    </tr>\n",
       "  </tbody>\n",
       "</table>\n",
       "</div>"
      ]
     },
     "execution_count": 113,
     "metadata": {},
     "output_type": "execute_result"
    }
   ],
   "execution_count": 113
  },
  {
   "cell_type": "markdown",
   "source": [
    "### Eksplorasi Data `orders_df` dan `customers_df`"
   ],
   "metadata": {
    "collapsed": false
   },
   "id": "867681677a0a9fd2"
  },
  {
   "cell_type": "markdown",
   "source": [
    "#### Mengidentifikasi Pelanggan yang Belum Pernah Melakukan Order"
   ],
   "metadata": {
    "collapsed": false
   },
   "id": "7ee7a646598c7af7"
  },
  {
   "cell_type": "code",
   "source": [
    "customer_id_in_orders_df =  orders_df.customer_id.tolist()\n",
    "customers_df[\"status\"] = customers_df[\"customer_id\"].apply(lambda x: \"Active\" if x in customer_id_in_orders_df else \"Non Active\")"
   ],
   "metadata": {
    "collapsed": false,
    "ExecuteTime": {
     "end_time": "2024-05-20T13:09:59.908065Z",
     "start_time": "2024-05-20T13:09:59.878980Z"
    }
   },
   "id": "b9b8a8dd3d0641cb",
   "outputs": [],
   "execution_count": 114
  },
  {
   "cell_type": "code",
   "source": [
    "customers_df.sample(5)"
   ],
   "metadata": {
    "collapsed": false,
    "ExecuteTime": {
     "end_time": "2024-05-20T13:09:59.923617Z",
     "start_time": "2024-05-20T13:09:59.909067Z"
    }
   },
   "id": "48d0a9ae854432d5",
   "outputs": [
    {
     "data": {
      "text/plain": [
       "     customer_id customer_name             gender  age  \\\n",
       "576          575     fulan 575  Prefer not to say   64   \n",
       "6              7       fulan 7  Prefer not to say   76   \n",
       "482          482     fulan 482  Prefer not to say   63   \n",
       "616          615     fulan 615  Prefer not to say   42   \n",
       "33            34      fulan 34  Prefer not to say   55   \n",
       "\n",
       "                    home_address  zip_code            city              state  \\\n",
       "576    8539 Archie LoopSuite 097      9118  Bahringermouth           Victoria   \n",
       "6    92 Hills Station StApt. 683       793       Masonfurt         Queensland   \n",
       "482  7295 Champlin CrestApt. 519      8260     East Joshua         Queensland   \n",
       "616      04 Stewart WaySuite 826      5658     Willowmouth         Queensland   \n",
       "33    09 Robinson SquareApt. 647      5387       Sauerfort  Western Australia   \n",
       "\n",
       "       country      status  \n",
       "576  Australia  Non Active  \n",
       "6    Australia      Active  \n",
       "482  Australia      Active  \n",
       "616  Australia      Active  \n",
       "33   Australia      Active  "
      ],
      "text/html": [
       "<div>\n",
       "<style scoped>\n",
       "    .dataframe tbody tr th:only-of-type {\n",
       "        vertical-align: middle;\n",
       "    }\n",
       "\n",
       "    .dataframe tbody tr th {\n",
       "        vertical-align: top;\n",
       "    }\n",
       "\n",
       "    .dataframe thead th {\n",
       "        text-align: right;\n",
       "    }\n",
       "</style>\n",
       "<table border=\"1\" class=\"dataframe\">\n",
       "  <thead>\n",
       "    <tr style=\"text-align: right;\">\n",
       "      <th></th>\n",
       "      <th>customer_id</th>\n",
       "      <th>customer_name</th>\n",
       "      <th>gender</th>\n",
       "      <th>age</th>\n",
       "      <th>home_address</th>\n",
       "      <th>zip_code</th>\n",
       "      <th>city</th>\n",
       "      <th>state</th>\n",
       "      <th>country</th>\n",
       "      <th>status</th>\n",
       "    </tr>\n",
       "  </thead>\n",
       "  <tbody>\n",
       "    <tr>\n",
       "      <th>576</th>\n",
       "      <td>575</td>\n",
       "      <td>fulan 575</td>\n",
       "      <td>Prefer not to say</td>\n",
       "      <td>64</td>\n",
       "      <td>8539 Archie LoopSuite 097</td>\n",
       "      <td>9118</td>\n",
       "      <td>Bahringermouth</td>\n",
       "      <td>Victoria</td>\n",
       "      <td>Australia</td>\n",
       "      <td>Non Active</td>\n",
       "    </tr>\n",
       "    <tr>\n",
       "      <th>6</th>\n",
       "      <td>7</td>\n",
       "      <td>fulan 7</td>\n",
       "      <td>Prefer not to say</td>\n",
       "      <td>76</td>\n",
       "      <td>92 Hills Station StApt. 683</td>\n",
       "      <td>793</td>\n",
       "      <td>Masonfurt</td>\n",
       "      <td>Queensland</td>\n",
       "      <td>Australia</td>\n",
       "      <td>Active</td>\n",
       "    </tr>\n",
       "    <tr>\n",
       "      <th>482</th>\n",
       "      <td>482</td>\n",
       "      <td>fulan 482</td>\n",
       "      <td>Prefer not to say</td>\n",
       "      <td>63</td>\n",
       "      <td>7295 Champlin CrestApt. 519</td>\n",
       "      <td>8260</td>\n",
       "      <td>East Joshua</td>\n",
       "      <td>Queensland</td>\n",
       "      <td>Australia</td>\n",
       "      <td>Active</td>\n",
       "    </tr>\n",
       "    <tr>\n",
       "      <th>616</th>\n",
       "      <td>615</td>\n",
       "      <td>fulan 615</td>\n",
       "      <td>Prefer not to say</td>\n",
       "      <td>42</td>\n",
       "      <td>04 Stewart WaySuite 826</td>\n",
       "      <td>5658</td>\n",
       "      <td>Willowmouth</td>\n",
       "      <td>Queensland</td>\n",
       "      <td>Australia</td>\n",
       "      <td>Active</td>\n",
       "    </tr>\n",
       "    <tr>\n",
       "      <th>33</th>\n",
       "      <td>34</td>\n",
       "      <td>fulan 34</td>\n",
       "      <td>Prefer not to say</td>\n",
       "      <td>55</td>\n",
       "      <td>09 Robinson SquareApt. 647</td>\n",
       "      <td>5387</td>\n",
       "      <td>Sauerfort</td>\n",
       "      <td>Western Australia</td>\n",
       "      <td>Australia</td>\n",
       "      <td>Active</td>\n",
       "    </tr>\n",
       "  </tbody>\n",
       "</table>\n",
       "</div>"
      ]
     },
     "execution_count": 115,
     "metadata": {},
     "output_type": "execute_result"
    }
   ],
   "execution_count": 115
  },
  {
   "cell_type": "code",
   "source": [
    "customers_df.groupby(by=\"status\").customer_id.count()"
   ],
   "metadata": {
    "collapsed": false,
    "ExecuteTime": {
     "end_time": "2024-05-20T13:09:59.939618Z",
     "start_time": "2024-05-20T13:09:59.925579Z"
    }
   },
   "id": "2f7853ecb02eea1d",
   "outputs": [
    {
     "data": {
      "text/plain": [
       "status\n",
       "Active        617\n",
       "Non Active    384\n",
       "Name: customer_id, dtype: int64"
      ]
     },
     "execution_count": 116,
     "metadata": {},
     "output_type": "execute_result"
    }
   ],
   "execution_count": 116
  },
  {
   "cell_type": "markdown",
   "source": [
    "### Menggali Informasi dengan Menggabungkan `orders_df` dan `customers_df`"
   ],
   "metadata": {
    "collapsed": false
   },
   "id": "b48fc415f1c250a5"
  },
  {
   "cell_type": "code",
   "source": [
    "orders_customers_df = pd.merge(\n",
    "    left=orders_df,\n",
    "    right=customers_df,\n",
    "    how=\"left\",\n",
    "    left_on=\"customer_id\",\n",
    "    right_on=\"customer_id\"\n",
    ")\n",
    "orders_customers_df.head()"
   ],
   "metadata": {
    "collapsed": false,
    "ExecuteTime": {
     "end_time": "2024-05-20T13:09:59.970615Z",
     "start_time": "2024-05-20T13:09:59.941580Z"
    }
   },
   "id": "fe80dd0f2ee7a04b",
   "outputs": [
    {
     "data": {
      "text/plain": [
       "   order_id  customer_id  payment order_date delivery_date  delivery_time  \\\n",
       "0         1           64    30811 2021-08-30    2021-09-24           25.0   \n",
       "1         2          473    50490 2021-02-03    2021-02-13           10.0   \n",
       "2         3          774    46763 2021-10-08    2021-11-03           26.0   \n",
       "3         4          433    39782 2021-05-06    2021-05-19           13.0   \n",
       "4         5          441    14719 2021-03-23    2021-03-24            1.0   \n",
       "\n",
       "  customer_name             gender  age                   home_address  \\\n",
       "0      fulan 64  Prefer not to say   75      4927 Alice MeadowApt. 960   \n",
       "1     fulan 473               Male   61  531 Schmitt BoulevardApt. 010   \n",
       "2     fulan 774  Prefer not to say   34       2096 Wilson MewsApt. 714   \n",
       "3     fulan 433  Prefer not to say   46        5777 Mayer PassApt. 881   \n",
       "4     fulan 441  Prefer not to say   53   33 Richards JunctionApt. 478   \n",
       "\n",
       "   zip_code                city              state    country  status  \n",
       "0      7787      Sanfordborough    South Australia  Australia  Active  \n",
       "1      1744             Annaton    South Australia  Australia  Active  \n",
       "2      8590  West Jonathanshire           Tasmania  Australia  Active  \n",
       "3      9728    West Michaelport           Tasmania  Australia  Active  \n",
       "4      7650     South Rileyview  Western Australia  Australia  Active  "
      ],
      "text/html": [
       "<div>\n",
       "<style scoped>\n",
       "    .dataframe tbody tr th:only-of-type {\n",
       "        vertical-align: middle;\n",
       "    }\n",
       "\n",
       "    .dataframe tbody tr th {\n",
       "        vertical-align: top;\n",
       "    }\n",
       "\n",
       "    .dataframe thead th {\n",
       "        text-align: right;\n",
       "    }\n",
       "</style>\n",
       "<table border=\"1\" class=\"dataframe\">\n",
       "  <thead>\n",
       "    <tr style=\"text-align: right;\">\n",
       "      <th></th>\n",
       "      <th>order_id</th>\n",
       "      <th>customer_id</th>\n",
       "      <th>payment</th>\n",
       "      <th>order_date</th>\n",
       "      <th>delivery_date</th>\n",
       "      <th>delivery_time</th>\n",
       "      <th>customer_name</th>\n",
       "      <th>gender</th>\n",
       "      <th>age</th>\n",
       "      <th>home_address</th>\n",
       "      <th>zip_code</th>\n",
       "      <th>city</th>\n",
       "      <th>state</th>\n",
       "      <th>country</th>\n",
       "      <th>status</th>\n",
       "    </tr>\n",
       "  </thead>\n",
       "  <tbody>\n",
       "    <tr>\n",
       "      <th>0</th>\n",
       "      <td>1</td>\n",
       "      <td>64</td>\n",
       "      <td>30811</td>\n",
       "      <td>2021-08-30</td>\n",
       "      <td>2021-09-24</td>\n",
       "      <td>25.0</td>\n",
       "      <td>fulan 64</td>\n",
       "      <td>Prefer not to say</td>\n",
       "      <td>75</td>\n",
       "      <td>4927 Alice MeadowApt. 960</td>\n",
       "      <td>7787</td>\n",
       "      <td>Sanfordborough</td>\n",
       "      <td>South Australia</td>\n",
       "      <td>Australia</td>\n",
       "      <td>Active</td>\n",
       "    </tr>\n",
       "    <tr>\n",
       "      <th>1</th>\n",
       "      <td>2</td>\n",
       "      <td>473</td>\n",
       "      <td>50490</td>\n",
       "      <td>2021-02-03</td>\n",
       "      <td>2021-02-13</td>\n",
       "      <td>10.0</td>\n",
       "      <td>fulan 473</td>\n",
       "      <td>Male</td>\n",
       "      <td>61</td>\n",
       "      <td>531 Schmitt BoulevardApt. 010</td>\n",
       "      <td>1744</td>\n",
       "      <td>Annaton</td>\n",
       "      <td>South Australia</td>\n",
       "      <td>Australia</td>\n",
       "      <td>Active</td>\n",
       "    </tr>\n",
       "    <tr>\n",
       "      <th>2</th>\n",
       "      <td>3</td>\n",
       "      <td>774</td>\n",
       "      <td>46763</td>\n",
       "      <td>2021-10-08</td>\n",
       "      <td>2021-11-03</td>\n",
       "      <td>26.0</td>\n",
       "      <td>fulan 774</td>\n",
       "      <td>Prefer not to say</td>\n",
       "      <td>34</td>\n",
       "      <td>2096 Wilson MewsApt. 714</td>\n",
       "      <td>8590</td>\n",
       "      <td>West Jonathanshire</td>\n",
       "      <td>Tasmania</td>\n",
       "      <td>Australia</td>\n",
       "      <td>Active</td>\n",
       "    </tr>\n",
       "    <tr>\n",
       "      <th>3</th>\n",
       "      <td>4</td>\n",
       "      <td>433</td>\n",
       "      <td>39782</td>\n",
       "      <td>2021-05-06</td>\n",
       "      <td>2021-05-19</td>\n",
       "      <td>13.0</td>\n",
       "      <td>fulan 433</td>\n",
       "      <td>Prefer not to say</td>\n",
       "      <td>46</td>\n",
       "      <td>5777 Mayer PassApt. 881</td>\n",
       "      <td>9728</td>\n",
       "      <td>West Michaelport</td>\n",
       "      <td>Tasmania</td>\n",
       "      <td>Australia</td>\n",
       "      <td>Active</td>\n",
       "    </tr>\n",
       "    <tr>\n",
       "      <th>4</th>\n",
       "      <td>5</td>\n",
       "      <td>441</td>\n",
       "      <td>14719</td>\n",
       "      <td>2021-03-23</td>\n",
       "      <td>2021-03-24</td>\n",
       "      <td>1.0</td>\n",
       "      <td>fulan 441</td>\n",
       "      <td>Prefer not to say</td>\n",
       "      <td>53</td>\n",
       "      <td>33 Richards JunctionApt. 478</td>\n",
       "      <td>7650</td>\n",
       "      <td>South Rileyview</td>\n",
       "      <td>Western Australia</td>\n",
       "      <td>Australia</td>\n",
       "      <td>Active</td>\n",
       "    </tr>\n",
       "  </tbody>\n",
       "</table>\n",
       "</div>"
      ]
     },
     "execution_count": 117,
     "metadata": {},
     "output_type": "execute_result"
    }
   ],
   "execution_count": 117
  },
  {
   "cell_type": "markdown",
   "source": [
    "#### Jumlah Order Berdasarkan Kota"
   ],
   "metadata": {
    "collapsed": false
   },
   "id": "617204989044943b"
  },
  {
   "cell_type": "code",
   "source": [
    "orders_customers_df.groupby(by=\"city\").order_id.nunique().sort_values(ascending=False).reset_index().head(10)"
   ],
   "metadata": {
    "collapsed": false,
    "ExecuteTime": {
     "end_time": "2024-05-20T13:09:59.985582Z",
     "start_time": "2024-05-20T13:09:59.972597Z"
    }
   },
   "id": "73e00de46969089a",
   "outputs": [
    {
     "data": {
      "text/plain": [
       "               city  order_id\n",
       "0        Jordanside         6\n",
       "1           New Ava         6\n",
       "2         Lake Rose         5\n",
       "3        O'keefeton         5\n",
       "4          East Max         5\n",
       "5  Port Hannahburgh         5\n",
       "6          Rubyfort         5\n",
       "7          West Kai         5\n",
       "8     Andrewborough         4\n",
       "9     Port Aaronton         4"
      ],
      "text/html": [
       "<div>\n",
       "<style scoped>\n",
       "    .dataframe tbody tr th:only-of-type {\n",
       "        vertical-align: middle;\n",
       "    }\n",
       "\n",
       "    .dataframe tbody tr th {\n",
       "        vertical-align: top;\n",
       "    }\n",
       "\n",
       "    .dataframe thead th {\n",
       "        text-align: right;\n",
       "    }\n",
       "</style>\n",
       "<table border=\"1\" class=\"dataframe\">\n",
       "  <thead>\n",
       "    <tr style=\"text-align: right;\">\n",
       "      <th></th>\n",
       "      <th>city</th>\n",
       "      <th>order_id</th>\n",
       "    </tr>\n",
       "  </thead>\n",
       "  <tbody>\n",
       "    <tr>\n",
       "      <th>0</th>\n",
       "      <td>Jordanside</td>\n",
       "      <td>6</td>\n",
       "    </tr>\n",
       "    <tr>\n",
       "      <th>1</th>\n",
       "      <td>New Ava</td>\n",
       "      <td>6</td>\n",
       "    </tr>\n",
       "    <tr>\n",
       "      <th>2</th>\n",
       "      <td>Lake Rose</td>\n",
       "      <td>5</td>\n",
       "    </tr>\n",
       "    <tr>\n",
       "      <th>3</th>\n",
       "      <td>O'keefeton</td>\n",
       "      <td>5</td>\n",
       "    </tr>\n",
       "    <tr>\n",
       "      <th>4</th>\n",
       "      <td>East Max</td>\n",
       "      <td>5</td>\n",
       "    </tr>\n",
       "    <tr>\n",
       "      <th>5</th>\n",
       "      <td>Port Hannahburgh</td>\n",
       "      <td>5</td>\n",
       "    </tr>\n",
       "    <tr>\n",
       "      <th>6</th>\n",
       "      <td>Rubyfort</td>\n",
       "      <td>5</td>\n",
       "    </tr>\n",
       "    <tr>\n",
       "      <th>7</th>\n",
       "      <td>West Kai</td>\n",
       "      <td>5</td>\n",
       "    </tr>\n",
       "    <tr>\n",
       "      <th>8</th>\n",
       "      <td>Andrewborough</td>\n",
       "      <td>4</td>\n",
       "    </tr>\n",
       "    <tr>\n",
       "      <th>9</th>\n",
       "      <td>Port Aaronton</td>\n",
       "      <td>4</td>\n",
       "    </tr>\n",
       "  </tbody>\n",
       "</table>\n",
       "</div>"
      ]
     },
     "execution_count": 118,
     "metadata": {},
     "output_type": "execute_result"
    }
   ],
   "execution_count": 118
  },
  {
   "cell_type": "markdown",
   "source": [
    "#### Jumlah Order Berdasarkan State"
   ],
   "metadata": {
    "collapsed": false
   },
   "id": "da7b1c661af5391c"
  },
  {
   "cell_type": "code",
   "source": [
    "orders_customers_df.groupby(by=\"state\").order_id.nunique().sort_values(ascending=False)"
   ],
   "metadata": {
    "collapsed": false,
    "ExecuteTime": {
     "end_time": "2024-05-20T13:10:00.000587Z",
     "start_time": "2024-05-20T13:09:59.987580Z"
    }
   },
   "id": "3d969fc96ce502f1",
   "outputs": [
    {
     "data": {
      "text/plain": [
       "state\n",
       "South Australia                 148\n",
       "Queensland                      139\n",
       "Western Australia               130\n",
       "New South Wales                 129\n",
       "Australian Capital Territory    118\n",
       "Victoria                        118\n",
       "Tasmania                        112\n",
       "Northern Territory              106\n",
       "Name: order_id, dtype: int64"
      ]
     },
     "execution_count": 119,
     "metadata": {},
     "output_type": "execute_result"
    }
   ],
   "execution_count": 119
  },
  {
   "cell_type": "markdown",
   "source": [
    "#### Jumlah Order Berdasarkan Gender"
   ],
   "metadata": {
    "collapsed": false
   },
   "id": "696c3282a1b94c5f"
  },
  {
   "cell_type": "code",
   "source": [
    "orders_customers_df.groupby(by=\"gender\").order_id.nunique().sort_values(ascending=False)"
   ],
   "metadata": {
    "collapsed": false,
    "ExecuteTime": {
     "end_time": "2024-05-20T13:10:00.016108Z",
     "start_time": "2024-05-20T13:10:00.003591Z"
    }
   },
   "id": "e86787c179aa3569",
   "outputs": [
    {
     "data": {
      "text/plain": [
       "gender\n",
       "Prefer not to say    725\n",
       "Female               139\n",
       "Male                 136\n",
       "Name: order_id, dtype: int64"
      ]
     },
     "execution_count": 120,
     "metadata": {},
     "output_type": "execute_result"
    }
   ],
   "execution_count": 120
  },
  {
   "cell_type": "markdown",
   "source": [
    "#### Jumlah Order Berdasarkan Kelompok Usia"
   ],
   "metadata": {
    "collapsed": false
   },
   "id": "10b2b9dd164ccce6"
  },
  {
   "cell_type": "code",
   "source": [
    "orders_customers_df[\"age_group\"] = orders_customers_df.age.apply(lambda x: \"Youth\" if x <= 24 else (\"Seniors\" if x > 64 else \"Adults\"))\n",
    "orders_customers_df.groupby(by=\"age_group\").order_id.nunique().sort_values(ascending=False)"
   ],
   "metadata": {
    "collapsed": false,
    "ExecuteTime": {
     "end_time": "2024-05-20T13:10:00.032105Z",
     "start_time": "2024-05-20T13:10:00.018108Z"
    }
   },
   "id": "ae8cf0d0df6fca55",
   "outputs": [
    {
     "data": {
      "text/plain": [
       "age_group\n",
       "Adults     681\n",
       "Seniors    226\n",
       "Youth       93\n",
       "Name: order_id, dtype: int64"
      ]
     },
     "execution_count": 121,
     "metadata": {},
     "output_type": "execute_result"
    }
   ],
   "execution_count": 121
  },
  {
   "cell_type": "markdown",
   "source": [
    "### Eksplorasi Data `product_df` dan `sales_df`"
   ],
   "metadata": {
    "collapsed": false
   },
   "id": "b44f4cb9926831b0"
  },
  {
   "cell_type": "markdown",
   "source": [
    "#### Rangkuman Parameter Statistik"
   ],
   "metadata": {
    "collapsed": false
   },
   "id": "9cc56df92d537a0d"
  },
  {
   "cell_type": "code",
   "source": [
    "product_df.describe(include=\"all\")"
   ],
   "metadata": {
    "collapsed": false,
    "ExecuteTime": {
     "end_time": "2024-05-20T13:10:00.064105Z",
     "start_time": "2024-05-20T13:10:00.033107Z"
    }
   },
   "id": "37c4207b0511aecb",
   "outputs": [
    {
     "data": {
      "text/plain": [
       "         product_id product_type product_name  size colour        price  \\\n",
       "count   1260.000000         1260         1260  1260   1260  1260.000000   \n",
       "unique          NaN            3           35     8      7          NaN   \n",
       "top             NaN        Shirt        Denim    XS    red          NaN   \n",
       "freq            NaN          420           70   252    180          NaN   \n",
       "mean     629.500000          NaN          NaN   NaN    NaN   105.805556   \n",
       "std      363.874979          NaN          NaN   NaN    NaN     9.704423   \n",
       "min        0.000000          NaN          NaN   NaN    NaN    90.000000   \n",
       "25%      314.750000          NaN          NaN   NaN    NaN    95.750000   \n",
       "50%      629.500000          NaN          NaN   NaN    NaN   108.500000   \n",
       "75%      944.250000          NaN          NaN   NaN    NaN   114.000000   \n",
       "max     1259.000000          NaN          NaN   NaN    NaN   119.000000   \n",
       "\n",
       "           quantity                                   description  \n",
       "count   1260.000000                                          1260  \n",
       "unique          NaN                                          1260  \n",
       "top             NaN  A red coloured, XS sized, Oxford Cloth Shirt  \n",
       "freq            NaN                                             1  \n",
       "mean      60.150000                                           NaN  \n",
       "std       11.670573                                           NaN  \n",
       "min       40.000000                                           NaN  \n",
       "25%       50.000000                                           NaN  \n",
       "50%       60.000000                                           NaN  \n",
       "75%       70.000000                                           NaN  \n",
       "max       80.000000                                           NaN  "
      ],
      "text/html": [
       "<div>\n",
       "<style scoped>\n",
       "    .dataframe tbody tr th:only-of-type {\n",
       "        vertical-align: middle;\n",
       "    }\n",
       "\n",
       "    .dataframe tbody tr th {\n",
       "        vertical-align: top;\n",
       "    }\n",
       "\n",
       "    .dataframe thead th {\n",
       "        text-align: right;\n",
       "    }\n",
       "</style>\n",
       "<table border=\"1\" class=\"dataframe\">\n",
       "  <thead>\n",
       "    <tr style=\"text-align: right;\">\n",
       "      <th></th>\n",
       "      <th>product_id</th>\n",
       "      <th>product_type</th>\n",
       "      <th>product_name</th>\n",
       "      <th>size</th>\n",
       "      <th>colour</th>\n",
       "      <th>price</th>\n",
       "      <th>quantity</th>\n",
       "      <th>description</th>\n",
       "    </tr>\n",
       "  </thead>\n",
       "  <tbody>\n",
       "    <tr>\n",
       "      <th>count</th>\n",
       "      <td>1260.000000</td>\n",
       "      <td>1260</td>\n",
       "      <td>1260</td>\n",
       "      <td>1260</td>\n",
       "      <td>1260</td>\n",
       "      <td>1260.000000</td>\n",
       "      <td>1260.000000</td>\n",
       "      <td>1260</td>\n",
       "    </tr>\n",
       "    <tr>\n",
       "      <th>unique</th>\n",
       "      <td>NaN</td>\n",
       "      <td>3</td>\n",
       "      <td>35</td>\n",
       "      <td>8</td>\n",
       "      <td>7</td>\n",
       "      <td>NaN</td>\n",
       "      <td>NaN</td>\n",
       "      <td>1260</td>\n",
       "    </tr>\n",
       "    <tr>\n",
       "      <th>top</th>\n",
       "      <td>NaN</td>\n",
       "      <td>Shirt</td>\n",
       "      <td>Denim</td>\n",
       "      <td>XS</td>\n",
       "      <td>red</td>\n",
       "      <td>NaN</td>\n",
       "      <td>NaN</td>\n",
       "      <td>A red coloured, XS sized, Oxford Cloth Shirt</td>\n",
       "    </tr>\n",
       "    <tr>\n",
       "      <th>freq</th>\n",
       "      <td>NaN</td>\n",
       "      <td>420</td>\n",
       "      <td>70</td>\n",
       "      <td>252</td>\n",
       "      <td>180</td>\n",
       "      <td>NaN</td>\n",
       "      <td>NaN</td>\n",
       "      <td>1</td>\n",
       "    </tr>\n",
       "    <tr>\n",
       "      <th>mean</th>\n",
       "      <td>629.500000</td>\n",
       "      <td>NaN</td>\n",
       "      <td>NaN</td>\n",
       "      <td>NaN</td>\n",
       "      <td>NaN</td>\n",
       "      <td>105.805556</td>\n",
       "      <td>60.150000</td>\n",
       "      <td>NaN</td>\n",
       "    </tr>\n",
       "    <tr>\n",
       "      <th>std</th>\n",
       "      <td>363.874979</td>\n",
       "      <td>NaN</td>\n",
       "      <td>NaN</td>\n",
       "      <td>NaN</td>\n",
       "      <td>NaN</td>\n",
       "      <td>9.704423</td>\n",
       "      <td>11.670573</td>\n",
       "      <td>NaN</td>\n",
       "    </tr>\n",
       "    <tr>\n",
       "      <th>min</th>\n",
       "      <td>0.000000</td>\n",
       "      <td>NaN</td>\n",
       "      <td>NaN</td>\n",
       "      <td>NaN</td>\n",
       "      <td>NaN</td>\n",
       "      <td>90.000000</td>\n",
       "      <td>40.000000</td>\n",
       "      <td>NaN</td>\n",
       "    </tr>\n",
       "    <tr>\n",
       "      <th>25%</th>\n",
       "      <td>314.750000</td>\n",
       "      <td>NaN</td>\n",
       "      <td>NaN</td>\n",
       "      <td>NaN</td>\n",
       "      <td>NaN</td>\n",
       "      <td>95.750000</td>\n",
       "      <td>50.000000</td>\n",
       "      <td>NaN</td>\n",
       "    </tr>\n",
       "    <tr>\n",
       "      <th>50%</th>\n",
       "      <td>629.500000</td>\n",
       "      <td>NaN</td>\n",
       "      <td>NaN</td>\n",
       "      <td>NaN</td>\n",
       "      <td>NaN</td>\n",
       "      <td>108.500000</td>\n",
       "      <td>60.000000</td>\n",
       "      <td>NaN</td>\n",
       "    </tr>\n",
       "    <tr>\n",
       "      <th>75%</th>\n",
       "      <td>944.250000</td>\n",
       "      <td>NaN</td>\n",
       "      <td>NaN</td>\n",
       "      <td>NaN</td>\n",
       "      <td>NaN</td>\n",
       "      <td>114.000000</td>\n",
       "      <td>70.000000</td>\n",
       "      <td>NaN</td>\n",
       "    </tr>\n",
       "    <tr>\n",
       "      <th>max</th>\n",
       "      <td>1259.000000</td>\n",
       "      <td>NaN</td>\n",
       "      <td>NaN</td>\n",
       "      <td>NaN</td>\n",
       "      <td>NaN</td>\n",
       "      <td>119.000000</td>\n",
       "      <td>80.000000</td>\n",
       "      <td>NaN</td>\n",
       "    </tr>\n",
       "  </tbody>\n",
       "</table>\n",
       "</div>"
      ]
     },
     "execution_count": 122,
     "metadata": {},
     "output_type": "execute_result"
    }
   ],
   "execution_count": 122
  },
  {
   "cell_type": "code",
   "source": [
    "sales_df.describe(include=\"all\")"
   ],
   "metadata": {
    "collapsed": false,
    "ExecuteTime": {
     "end_time": "2024-05-20T13:10:00.096105Z",
     "start_time": "2024-05-20T13:10:00.066107Z"
    }
   },
   "id": "9f3bcf6fb39f627e",
   "outputs": [
    {
     "data": {
      "text/plain": [
       "          sales_id     order_id   product_id  price_per_unit    quantity  \\\n",
       "count  5000.000000  5000.000000  5000.000000     5000.000000  5000.00000   \n",
       "mean   2499.500000   503.038200   634.053200      103.501600     1.99240   \n",
       "std    1443.520003   285.964418   363.255794        9.195004     0.80751   \n",
       "min       0.000000     1.000000     1.000000       90.000000     1.00000   \n",
       "25%    1249.750000   258.000000   323.000000       95.000000     1.00000   \n",
       "50%    2499.500000   504.500000   635.000000      102.000000     2.00000   \n",
       "75%    3749.250000   749.000000   951.000000      112.000000     3.00000   \n",
       "max    4999.000000   999.000000  1259.000000      119.000000     3.00000   \n",
       "\n",
       "       total_price  \n",
       "count  5000.000000  \n",
       "mean    206.360000  \n",
       "std      86.357457  \n",
       "min      90.000000  \n",
       "25%     112.000000  \n",
       "50%     204.000000  \n",
       "75%     285.000000  \n",
       "max     357.000000  "
      ],
      "text/html": [
       "<div>\n",
       "<style scoped>\n",
       "    .dataframe tbody tr th:only-of-type {\n",
       "        vertical-align: middle;\n",
       "    }\n",
       "\n",
       "    .dataframe tbody tr th {\n",
       "        vertical-align: top;\n",
       "    }\n",
       "\n",
       "    .dataframe thead th {\n",
       "        text-align: right;\n",
       "    }\n",
       "</style>\n",
       "<table border=\"1\" class=\"dataframe\">\n",
       "  <thead>\n",
       "    <tr style=\"text-align: right;\">\n",
       "      <th></th>\n",
       "      <th>sales_id</th>\n",
       "      <th>order_id</th>\n",
       "      <th>product_id</th>\n",
       "      <th>price_per_unit</th>\n",
       "      <th>quantity</th>\n",
       "      <th>total_price</th>\n",
       "    </tr>\n",
       "  </thead>\n",
       "  <tbody>\n",
       "    <tr>\n",
       "      <th>count</th>\n",
       "      <td>5000.000000</td>\n",
       "      <td>5000.000000</td>\n",
       "      <td>5000.000000</td>\n",
       "      <td>5000.000000</td>\n",
       "      <td>5000.00000</td>\n",
       "      <td>5000.000000</td>\n",
       "    </tr>\n",
       "    <tr>\n",
       "      <th>mean</th>\n",
       "      <td>2499.500000</td>\n",
       "      <td>503.038200</td>\n",
       "      <td>634.053200</td>\n",
       "      <td>103.501600</td>\n",
       "      <td>1.99240</td>\n",
       "      <td>206.360000</td>\n",
       "    </tr>\n",
       "    <tr>\n",
       "      <th>std</th>\n",
       "      <td>1443.520003</td>\n",
       "      <td>285.964418</td>\n",
       "      <td>363.255794</td>\n",
       "      <td>9.195004</td>\n",
       "      <td>0.80751</td>\n",
       "      <td>86.357457</td>\n",
       "    </tr>\n",
       "    <tr>\n",
       "      <th>min</th>\n",
       "      <td>0.000000</td>\n",
       "      <td>1.000000</td>\n",
       "      <td>1.000000</td>\n",
       "      <td>90.000000</td>\n",
       "      <td>1.00000</td>\n",
       "      <td>90.000000</td>\n",
       "    </tr>\n",
       "    <tr>\n",
       "      <th>25%</th>\n",
       "      <td>1249.750000</td>\n",
       "      <td>258.000000</td>\n",
       "      <td>323.000000</td>\n",
       "      <td>95.000000</td>\n",
       "      <td>1.00000</td>\n",
       "      <td>112.000000</td>\n",
       "    </tr>\n",
       "    <tr>\n",
       "      <th>50%</th>\n",
       "      <td>2499.500000</td>\n",
       "      <td>504.500000</td>\n",
       "      <td>635.000000</td>\n",
       "      <td>102.000000</td>\n",
       "      <td>2.00000</td>\n",
       "      <td>204.000000</td>\n",
       "    </tr>\n",
       "    <tr>\n",
       "      <th>75%</th>\n",
       "      <td>3749.250000</td>\n",
       "      <td>749.000000</td>\n",
       "      <td>951.000000</td>\n",
       "      <td>112.000000</td>\n",
       "      <td>3.00000</td>\n",
       "      <td>285.000000</td>\n",
       "    </tr>\n",
       "    <tr>\n",
       "      <th>max</th>\n",
       "      <td>4999.000000</td>\n",
       "      <td>999.000000</td>\n",
       "      <td>1259.000000</td>\n",
       "      <td>119.000000</td>\n",
       "      <td>3.00000</td>\n",
       "      <td>357.000000</td>\n",
       "    </tr>\n",
       "  </tbody>\n",
       "</table>\n",
       "</div>"
      ]
     },
     "execution_count": 123,
     "metadata": {},
     "output_type": "execute_result"
    }
   ],
   "execution_count": 123
  },
  {
   "cell_type": "markdown",
   "source": [
    "#### Produk yang Memiliki Harga Termahal dan Terendah"
   ],
   "metadata": {
    "collapsed": false
   },
   "id": "8ca8a643138989f4"
  },
  {
   "cell_type": "code",
   "source": [
    "product_df.sort_values(by=\"price\", ascending=False)"
   ],
   "metadata": {
    "collapsed": false,
    "ExecuteTime": {
     "end_time": "2024-05-20T13:10:00.128213Z",
     "start_time": "2024-05-20T13:10:00.098113Z"
    }
   },
   "id": "ec68f8e7a8c35534",
   "outputs": [
    {
     "data": {
      "text/plain": [
       "      product_id product_type product_name size  colour  price  quantity  \\\n",
       "704          698       Jacket        Parka    L  violet    119        53   \n",
       "671          665       Jacket        Parka   XS     red    119        65   \n",
       "698          692       Jacket        Parka    M  indigo    119        66   \n",
       "699          693       Jacket        Parka    L  indigo    119        44   \n",
       "700          694       Jacket        Parka   XL  indigo    119        78   \n",
       "...          ...          ...          ...  ...     ...    ...       ...   \n",
       "1225        1219     Trousers      Pleated   XL  indigo     90        45   \n",
       "1226        1220     Trousers      Pleated   XS  violet     90        58   \n",
       "1227        1221     Trousers      Pleated    S  violet     90        50   \n",
       "1228        1222     Trousers      Pleated    M  violet     90        45   \n",
       "599          593       Jacket       Bomber    L  violet     90        68   \n",
       "\n",
       "                                        description  \n",
       "704        A violet coloured, L sized, Parka Jacket  \n",
       "671          A red coloured, XS sized, Parka Jacket  \n",
       "698        A indigo coloured, M sized, Parka Jacket  \n",
       "699        A indigo coloured, L sized, Parka Jacket  \n",
       "700       A indigo coloured, XL sized, Parka Jacket  \n",
       "...                                             ...  \n",
       "1225  A indigo coloured, XL sized, Pleated Trousers  \n",
       "1226  A violet coloured, XS sized, Pleated Trousers  \n",
       "1227   A violet coloured, S sized, Pleated Trousers  \n",
       "1228   A violet coloured, M sized, Pleated Trousers  \n",
       "599       A violet coloured, L sized, Bomber Jacket  \n",
       "\n",
       "[1260 rows x 8 columns]"
      ],
      "text/html": [
       "<div>\n",
       "<style scoped>\n",
       "    .dataframe tbody tr th:only-of-type {\n",
       "        vertical-align: middle;\n",
       "    }\n",
       "\n",
       "    .dataframe tbody tr th {\n",
       "        vertical-align: top;\n",
       "    }\n",
       "\n",
       "    .dataframe thead th {\n",
       "        text-align: right;\n",
       "    }\n",
       "</style>\n",
       "<table border=\"1\" class=\"dataframe\">\n",
       "  <thead>\n",
       "    <tr style=\"text-align: right;\">\n",
       "      <th></th>\n",
       "      <th>product_id</th>\n",
       "      <th>product_type</th>\n",
       "      <th>product_name</th>\n",
       "      <th>size</th>\n",
       "      <th>colour</th>\n",
       "      <th>price</th>\n",
       "      <th>quantity</th>\n",
       "      <th>description</th>\n",
       "    </tr>\n",
       "  </thead>\n",
       "  <tbody>\n",
       "    <tr>\n",
       "      <th>704</th>\n",
       "      <td>698</td>\n",
       "      <td>Jacket</td>\n",
       "      <td>Parka</td>\n",
       "      <td>L</td>\n",
       "      <td>violet</td>\n",
       "      <td>119</td>\n",
       "      <td>53</td>\n",
       "      <td>A violet coloured, L sized, Parka Jacket</td>\n",
       "    </tr>\n",
       "    <tr>\n",
       "      <th>671</th>\n",
       "      <td>665</td>\n",
       "      <td>Jacket</td>\n",
       "      <td>Parka</td>\n",
       "      <td>XS</td>\n",
       "      <td>red</td>\n",
       "      <td>119</td>\n",
       "      <td>65</td>\n",
       "      <td>A red coloured, XS sized, Parka Jacket</td>\n",
       "    </tr>\n",
       "    <tr>\n",
       "      <th>698</th>\n",
       "      <td>692</td>\n",
       "      <td>Jacket</td>\n",
       "      <td>Parka</td>\n",
       "      <td>M</td>\n",
       "      <td>indigo</td>\n",
       "      <td>119</td>\n",
       "      <td>66</td>\n",
       "      <td>A indigo coloured, M sized, Parka Jacket</td>\n",
       "    </tr>\n",
       "    <tr>\n",
       "      <th>699</th>\n",
       "      <td>693</td>\n",
       "      <td>Jacket</td>\n",
       "      <td>Parka</td>\n",
       "      <td>L</td>\n",
       "      <td>indigo</td>\n",
       "      <td>119</td>\n",
       "      <td>44</td>\n",
       "      <td>A indigo coloured, L sized, Parka Jacket</td>\n",
       "    </tr>\n",
       "    <tr>\n",
       "      <th>700</th>\n",
       "      <td>694</td>\n",
       "      <td>Jacket</td>\n",
       "      <td>Parka</td>\n",
       "      <td>XL</td>\n",
       "      <td>indigo</td>\n",
       "      <td>119</td>\n",
       "      <td>78</td>\n",
       "      <td>A indigo coloured, XL sized, Parka Jacket</td>\n",
       "    </tr>\n",
       "    <tr>\n",
       "      <th>...</th>\n",
       "      <td>...</td>\n",
       "      <td>...</td>\n",
       "      <td>...</td>\n",
       "      <td>...</td>\n",
       "      <td>...</td>\n",
       "      <td>...</td>\n",
       "      <td>...</td>\n",
       "      <td>...</td>\n",
       "    </tr>\n",
       "    <tr>\n",
       "      <th>1225</th>\n",
       "      <td>1219</td>\n",
       "      <td>Trousers</td>\n",
       "      <td>Pleated</td>\n",
       "      <td>XL</td>\n",
       "      <td>indigo</td>\n",
       "      <td>90</td>\n",
       "      <td>45</td>\n",
       "      <td>A indigo coloured, XL sized, Pleated Trousers</td>\n",
       "    </tr>\n",
       "    <tr>\n",
       "      <th>1226</th>\n",
       "      <td>1220</td>\n",
       "      <td>Trousers</td>\n",
       "      <td>Pleated</td>\n",
       "      <td>XS</td>\n",
       "      <td>violet</td>\n",
       "      <td>90</td>\n",
       "      <td>58</td>\n",
       "      <td>A violet coloured, XS sized, Pleated Trousers</td>\n",
       "    </tr>\n",
       "    <tr>\n",
       "      <th>1227</th>\n",
       "      <td>1221</td>\n",
       "      <td>Trousers</td>\n",
       "      <td>Pleated</td>\n",
       "      <td>S</td>\n",
       "      <td>violet</td>\n",
       "      <td>90</td>\n",
       "      <td>50</td>\n",
       "      <td>A violet coloured, S sized, Pleated Trousers</td>\n",
       "    </tr>\n",
       "    <tr>\n",
       "      <th>1228</th>\n",
       "      <td>1222</td>\n",
       "      <td>Trousers</td>\n",
       "      <td>Pleated</td>\n",
       "      <td>M</td>\n",
       "      <td>violet</td>\n",
       "      <td>90</td>\n",
       "      <td>45</td>\n",
       "      <td>A violet coloured, M sized, Pleated Trousers</td>\n",
       "    </tr>\n",
       "    <tr>\n",
       "      <th>599</th>\n",
       "      <td>593</td>\n",
       "      <td>Jacket</td>\n",
       "      <td>Bomber</td>\n",
       "      <td>L</td>\n",
       "      <td>violet</td>\n",
       "      <td>90</td>\n",
       "      <td>68</td>\n",
       "      <td>A violet coloured, L sized, Bomber Jacket</td>\n",
       "    </tr>\n",
       "  </tbody>\n",
       "</table>\n",
       "<p>1260 rows × 8 columns</p>\n",
       "</div>"
      ]
     },
     "execution_count": 124,
     "metadata": {},
     "output_type": "execute_result"
    }
   ],
   "execution_count": 124
  },
  {
   "cell_type": "markdown",
   "source": [
    "#### Produk Berdasarkan Tipe dan Nama Produknya"
   ],
   "metadata": {
    "collapsed": false
   },
   "id": "d02b411491c39c4"
  },
  {
   "cell_type": "code",
   "source": [
    "product_df.groupby(by=\"product_type\").agg({\n",
    "    \"product_id\": \"nunique\",\n",
    "    \"quantity\": \"sum\",\n",
    "    \"price\":  [\"min\", \"max\"]\n",
    "})"
   ],
   "metadata": {
    "collapsed": false,
    "ExecuteTime": {
     "end_time": "2024-05-20T13:10:00.159890Z",
     "start_time": "2024-05-20T13:10:00.130216Z"
    }
   },
   "id": "bd16c141a799893f",
   "outputs": [
    {
     "data": {
      "text/plain": [
       "             product_id quantity price     \n",
       "                nunique      sum   min  max\n",
       "product_type                               \n",
       "Jacket              420    25387    90  119\n",
       "Shirt               420    25263    92  119\n",
       "Trousers            420    25139    90  119"
      ],
      "text/html": [
       "<div>\n",
       "<style scoped>\n",
       "    .dataframe tbody tr th:only-of-type {\n",
       "        vertical-align: middle;\n",
       "    }\n",
       "\n",
       "    .dataframe tbody tr th {\n",
       "        vertical-align: top;\n",
       "    }\n",
       "\n",
       "    .dataframe thead tr th {\n",
       "        text-align: left;\n",
       "    }\n",
       "\n",
       "    .dataframe thead tr:last-of-type th {\n",
       "        text-align: right;\n",
       "    }\n",
       "</style>\n",
       "<table border=\"1\" class=\"dataframe\">\n",
       "  <thead>\n",
       "    <tr>\n",
       "      <th></th>\n",
       "      <th>product_id</th>\n",
       "      <th>quantity</th>\n",
       "      <th colspan=\"2\" halign=\"left\">price</th>\n",
       "    </tr>\n",
       "    <tr>\n",
       "      <th></th>\n",
       "      <th>nunique</th>\n",
       "      <th>sum</th>\n",
       "      <th>min</th>\n",
       "      <th>max</th>\n",
       "    </tr>\n",
       "    <tr>\n",
       "      <th>product_type</th>\n",
       "      <th></th>\n",
       "      <th></th>\n",
       "      <th></th>\n",
       "      <th></th>\n",
       "    </tr>\n",
       "  </thead>\n",
       "  <tbody>\n",
       "    <tr>\n",
       "      <th>Jacket</th>\n",
       "      <td>420</td>\n",
       "      <td>25387</td>\n",
       "      <td>90</td>\n",
       "      <td>119</td>\n",
       "    </tr>\n",
       "    <tr>\n",
       "      <th>Shirt</th>\n",
       "      <td>420</td>\n",
       "      <td>25263</td>\n",
       "      <td>92</td>\n",
       "      <td>119</td>\n",
       "    </tr>\n",
       "    <tr>\n",
       "      <th>Trousers</th>\n",
       "      <td>420</td>\n",
       "      <td>25139</td>\n",
       "      <td>90</td>\n",
       "      <td>119</td>\n",
       "    </tr>\n",
       "  </tbody>\n",
       "</table>\n",
       "</div>"
      ]
     },
     "execution_count": 125,
     "metadata": {},
     "output_type": "execute_result"
    }
   ],
   "execution_count": 125
  },
  {
   "cell_type": "code",
   "source": [
    "product_df.groupby(by=\"product_name\").agg({\n",
    "    \"product_id\": \"nunique\",\n",
    "    \"quantity\": \"sum\",\n",
    "    \"price\": [\"min\", \"max\"]\n",
    "})"
   ],
   "metadata": {
    "collapsed": false,
    "ExecuteTime": {
     "end_time": "2024-05-20T13:10:00.190880Z",
     "start_time": "2024-05-20T13:10:00.161856Z"
    }
   },
   "id": "b7e9690260b2026d",
   "outputs": [
    {
     "data": {
      "text/plain": [
       "                  product_id quantity price     \n",
       "                     nunique      sum   min  max\n",
       "product_name                                    \n",
       "Bomber                    35     2083    90   90\n",
       "Camp Collared             35     2071   112  112\n",
       "Cardigan                  35     2032   118  118\n",
       "Cargo Pants               35     2146   106  106\n",
       "Casual Slim Fit           35     2086   113  113\n",
       "Chambray                  35     2020   105  105\n",
       "Chinos                    35     2101   100  100\n",
       "Coach                     35     2158   115  115\n",
       "Cords                     35     2260   113  113\n",
       "Cropped                   35     2085    99   99\n",
       "Cuban Collar              35     2017    93   93\n",
       "Denim                     70     4204    92  115\n",
       "Drawstring                35     2042   104  104\n",
       "Dress                     35     2125   119  119\n",
       "Flannel                   35     2135    96   96\n",
       "Henley                    35     2051    92   92\n",
       "High-Waisted              35     2198    98   98\n",
       "Joggers                   35     2107    94   94\n",
       "Leather                   35     2276   113  113\n",
       "Linen                     35     2138   116  116\n",
       "Mandarin Collar           35     2203   108  108\n",
       "Oxford Cloth              35     2071   114  114\n",
       "Parka                     35     2201   119  119\n",
       "Peacoat                   35     2067   102  102\n",
       "Pleated                   35     2030    90   90\n",
       "Polo                      35     2196   117  117\n",
       "Puffer                    35     1946   110  110\n",
       "Pullover                  35     2184   114  114\n",
       "Relaxed Leg               35     2002    95   95\n",
       "Shearling                 35     2169    95   95\n",
       "Slim-Fit                  35     2155   119  119\n",
       "Tracksuit Bottoms         35     2038    91   91\n",
       "Trench Coat               35     2132   112  112\n",
       "Windbreaker               35     2085   109  109\n",
       "Wool                      35     1975   111  111"
      ],
      "text/html": [
       "<div>\n",
       "<style scoped>\n",
       "    .dataframe tbody tr th:only-of-type {\n",
       "        vertical-align: middle;\n",
       "    }\n",
       "\n",
       "    .dataframe tbody tr th {\n",
       "        vertical-align: top;\n",
       "    }\n",
       "\n",
       "    .dataframe thead tr th {\n",
       "        text-align: left;\n",
       "    }\n",
       "\n",
       "    .dataframe thead tr:last-of-type th {\n",
       "        text-align: right;\n",
       "    }\n",
       "</style>\n",
       "<table border=\"1\" class=\"dataframe\">\n",
       "  <thead>\n",
       "    <tr>\n",
       "      <th></th>\n",
       "      <th>product_id</th>\n",
       "      <th>quantity</th>\n",
       "      <th colspan=\"2\" halign=\"left\">price</th>\n",
       "    </tr>\n",
       "    <tr>\n",
       "      <th></th>\n",
       "      <th>nunique</th>\n",
       "      <th>sum</th>\n",
       "      <th>min</th>\n",
       "      <th>max</th>\n",
       "    </tr>\n",
       "    <tr>\n",
       "      <th>product_name</th>\n",
       "      <th></th>\n",
       "      <th></th>\n",
       "      <th></th>\n",
       "      <th></th>\n",
       "    </tr>\n",
       "  </thead>\n",
       "  <tbody>\n",
       "    <tr>\n",
       "      <th>Bomber</th>\n",
       "      <td>35</td>\n",
       "      <td>2083</td>\n",
       "      <td>90</td>\n",
       "      <td>90</td>\n",
       "    </tr>\n",
       "    <tr>\n",
       "      <th>Camp Collared</th>\n",
       "      <td>35</td>\n",
       "      <td>2071</td>\n",
       "      <td>112</td>\n",
       "      <td>112</td>\n",
       "    </tr>\n",
       "    <tr>\n",
       "      <th>Cardigan</th>\n",
       "      <td>35</td>\n",
       "      <td>2032</td>\n",
       "      <td>118</td>\n",
       "      <td>118</td>\n",
       "    </tr>\n",
       "    <tr>\n",
       "      <th>Cargo Pants</th>\n",
       "      <td>35</td>\n",
       "      <td>2146</td>\n",
       "      <td>106</td>\n",
       "      <td>106</td>\n",
       "    </tr>\n",
       "    <tr>\n",
       "      <th>Casual Slim Fit</th>\n",
       "      <td>35</td>\n",
       "      <td>2086</td>\n",
       "      <td>113</td>\n",
       "      <td>113</td>\n",
       "    </tr>\n",
       "    <tr>\n",
       "      <th>Chambray</th>\n",
       "      <td>35</td>\n",
       "      <td>2020</td>\n",
       "      <td>105</td>\n",
       "      <td>105</td>\n",
       "    </tr>\n",
       "    <tr>\n",
       "      <th>Chinos</th>\n",
       "      <td>35</td>\n",
       "      <td>2101</td>\n",
       "      <td>100</td>\n",
       "      <td>100</td>\n",
       "    </tr>\n",
       "    <tr>\n",
       "      <th>Coach</th>\n",
       "      <td>35</td>\n",
       "      <td>2158</td>\n",
       "      <td>115</td>\n",
       "      <td>115</td>\n",
       "    </tr>\n",
       "    <tr>\n",
       "      <th>Cords</th>\n",
       "      <td>35</td>\n",
       "      <td>2260</td>\n",
       "      <td>113</td>\n",
       "      <td>113</td>\n",
       "    </tr>\n",
       "    <tr>\n",
       "      <th>Cropped</th>\n",
       "      <td>35</td>\n",
       "      <td>2085</td>\n",
       "      <td>99</td>\n",
       "      <td>99</td>\n",
       "    </tr>\n",
       "    <tr>\n",
       "      <th>Cuban Collar</th>\n",
       "      <td>35</td>\n",
       "      <td>2017</td>\n",
       "      <td>93</td>\n",
       "      <td>93</td>\n",
       "    </tr>\n",
       "    <tr>\n",
       "      <th>Denim</th>\n",
       "      <td>70</td>\n",
       "      <td>4204</td>\n",
       "      <td>92</td>\n",
       "      <td>115</td>\n",
       "    </tr>\n",
       "    <tr>\n",
       "      <th>Drawstring</th>\n",
       "      <td>35</td>\n",
       "      <td>2042</td>\n",
       "      <td>104</td>\n",
       "      <td>104</td>\n",
       "    </tr>\n",
       "    <tr>\n",
       "      <th>Dress</th>\n",
       "      <td>35</td>\n",
       "      <td>2125</td>\n",
       "      <td>119</td>\n",
       "      <td>119</td>\n",
       "    </tr>\n",
       "    <tr>\n",
       "      <th>Flannel</th>\n",
       "      <td>35</td>\n",
       "      <td>2135</td>\n",
       "      <td>96</td>\n",
       "      <td>96</td>\n",
       "    </tr>\n",
       "    <tr>\n",
       "      <th>Henley</th>\n",
       "      <td>35</td>\n",
       "      <td>2051</td>\n",
       "      <td>92</td>\n",
       "      <td>92</td>\n",
       "    </tr>\n",
       "    <tr>\n",
       "      <th>High-Waisted</th>\n",
       "      <td>35</td>\n",
       "      <td>2198</td>\n",
       "      <td>98</td>\n",
       "      <td>98</td>\n",
       "    </tr>\n",
       "    <tr>\n",
       "      <th>Joggers</th>\n",
       "      <td>35</td>\n",
       "      <td>2107</td>\n",
       "      <td>94</td>\n",
       "      <td>94</td>\n",
       "    </tr>\n",
       "    <tr>\n",
       "      <th>Leather</th>\n",
       "      <td>35</td>\n",
       "      <td>2276</td>\n",
       "      <td>113</td>\n",
       "      <td>113</td>\n",
       "    </tr>\n",
       "    <tr>\n",
       "      <th>Linen</th>\n",
       "      <td>35</td>\n",
       "      <td>2138</td>\n",
       "      <td>116</td>\n",
       "      <td>116</td>\n",
       "    </tr>\n",
       "    <tr>\n",
       "      <th>Mandarin Collar</th>\n",
       "      <td>35</td>\n",
       "      <td>2203</td>\n",
       "      <td>108</td>\n",
       "      <td>108</td>\n",
       "    </tr>\n",
       "    <tr>\n",
       "      <th>Oxford Cloth</th>\n",
       "      <td>35</td>\n",
       "      <td>2071</td>\n",
       "      <td>114</td>\n",
       "      <td>114</td>\n",
       "    </tr>\n",
       "    <tr>\n",
       "      <th>Parka</th>\n",
       "      <td>35</td>\n",
       "      <td>2201</td>\n",
       "      <td>119</td>\n",
       "      <td>119</td>\n",
       "    </tr>\n",
       "    <tr>\n",
       "      <th>Peacoat</th>\n",
       "      <td>35</td>\n",
       "      <td>2067</td>\n",
       "      <td>102</td>\n",
       "      <td>102</td>\n",
       "    </tr>\n",
       "    <tr>\n",
       "      <th>Pleated</th>\n",
       "      <td>35</td>\n",
       "      <td>2030</td>\n",
       "      <td>90</td>\n",
       "      <td>90</td>\n",
       "    </tr>\n",
       "    <tr>\n",
       "      <th>Polo</th>\n",
       "      <td>35</td>\n",
       "      <td>2196</td>\n",
       "      <td>117</td>\n",
       "      <td>117</td>\n",
       "    </tr>\n",
       "    <tr>\n",
       "      <th>Puffer</th>\n",
       "      <td>35</td>\n",
       "      <td>1946</td>\n",
       "      <td>110</td>\n",
       "      <td>110</td>\n",
       "    </tr>\n",
       "    <tr>\n",
       "      <th>Pullover</th>\n",
       "      <td>35</td>\n",
       "      <td>2184</td>\n",
       "      <td>114</td>\n",
       "      <td>114</td>\n",
       "    </tr>\n",
       "    <tr>\n",
       "      <th>Relaxed Leg</th>\n",
       "      <td>35</td>\n",
       "      <td>2002</td>\n",
       "      <td>95</td>\n",
       "      <td>95</td>\n",
       "    </tr>\n",
       "    <tr>\n",
       "      <th>Shearling</th>\n",
       "      <td>35</td>\n",
       "      <td>2169</td>\n",
       "      <td>95</td>\n",
       "      <td>95</td>\n",
       "    </tr>\n",
       "    <tr>\n",
       "      <th>Slim-Fit</th>\n",
       "      <td>35</td>\n",
       "      <td>2155</td>\n",
       "      <td>119</td>\n",
       "      <td>119</td>\n",
       "    </tr>\n",
       "    <tr>\n",
       "      <th>Tracksuit Bottoms</th>\n",
       "      <td>35</td>\n",
       "      <td>2038</td>\n",
       "      <td>91</td>\n",
       "      <td>91</td>\n",
       "    </tr>\n",
       "    <tr>\n",
       "      <th>Trench Coat</th>\n",
       "      <td>35</td>\n",
       "      <td>2132</td>\n",
       "      <td>112</td>\n",
       "      <td>112</td>\n",
       "    </tr>\n",
       "    <tr>\n",
       "      <th>Windbreaker</th>\n",
       "      <td>35</td>\n",
       "      <td>2085</td>\n",
       "      <td>109</td>\n",
       "      <td>109</td>\n",
       "    </tr>\n",
       "    <tr>\n",
       "      <th>Wool</th>\n",
       "      <td>35</td>\n",
       "      <td>1975</td>\n",
       "      <td>111</td>\n",
       "      <td>111</td>\n",
       "    </tr>\n",
       "  </tbody>\n",
       "</table>\n",
       "</div>"
      ]
     },
     "execution_count": 126,
     "metadata": {},
     "output_type": "execute_result"
    }
   ],
   "execution_count": 126
  },
  {
   "cell_type": "markdown",
   "source": [
    "### Menggali Informasi dengan Menggabungkan `sales_df` dan `product_df`"
   ],
   "metadata": {
    "collapsed": false
   },
   "id": "4a0efa314572e174"
  },
  {
   "cell_type": "code",
   "source": [
    "sales_product_df = pd.merge(\n",
    "    left=sales_df,\n",
    "    right=product_df,\n",
    "    how=\"left\",\n",
    "    left_on=\"product_id\",\n",
    "    right_on=\"product_id\"\n",
    ")\n",
    "sales_product_df.head()"
   ],
   "metadata": {
    "collapsed": false,
    "ExecuteTime": {
     "end_time": "2024-05-20T13:10:00.221378Z",
     "start_time": "2024-05-20T13:10:00.193857Z"
    }
   },
   "id": "8cdcff3e5cc79d0a",
   "outputs": [
    {
     "data": {
      "text/plain": [
       "   sales_id  order_id  product_id  price_per_unit  quantity_x  total_price  \\\n",
       "0         0         1         218             106           2          212   \n",
       "1         1         1         481             118           1          118   \n",
       "2         2         1           2              96           3          288   \n",
       "3         3         1        1002             106           2          212   \n",
       "4         4         1         691             113           3          339   \n",
       "\n",
       "  product_type  product_name size  colour  price  quantity_y  \\\n",
       "0        Shirt      Chambray    L  orange    105          44   \n",
       "1       Jacket        Puffer    S  indigo    110          62   \n",
       "2        Shirt  Oxford Cloth    M     red    114          54   \n",
       "3     Trousers          Wool    M    blue    111          52   \n",
       "4       Jacket         Parka    S  indigo    119          53   \n",
       "\n",
       "                                   description  \n",
       "0   A orange coloured, L sized, Chambray Shirt  \n",
       "1    A indigo coloured, S sized, Puffer Jacket  \n",
       "2  A red coloured, M sized, Oxford Cloth Shirt  \n",
       "3      A blue coloured, M sized, Wool Trousers  \n",
       "4     A indigo coloured, S sized, Parka Jacket  "
      ],
      "text/html": [
       "<div>\n",
       "<style scoped>\n",
       "    .dataframe tbody tr th:only-of-type {\n",
       "        vertical-align: middle;\n",
       "    }\n",
       "\n",
       "    .dataframe tbody tr th {\n",
       "        vertical-align: top;\n",
       "    }\n",
       "\n",
       "    .dataframe thead th {\n",
       "        text-align: right;\n",
       "    }\n",
       "</style>\n",
       "<table border=\"1\" class=\"dataframe\">\n",
       "  <thead>\n",
       "    <tr style=\"text-align: right;\">\n",
       "      <th></th>\n",
       "      <th>sales_id</th>\n",
       "      <th>order_id</th>\n",
       "      <th>product_id</th>\n",
       "      <th>price_per_unit</th>\n",
       "      <th>quantity_x</th>\n",
       "      <th>total_price</th>\n",
       "      <th>product_type</th>\n",
       "      <th>product_name</th>\n",
       "      <th>size</th>\n",
       "      <th>colour</th>\n",
       "      <th>price</th>\n",
       "      <th>quantity_y</th>\n",
       "      <th>description</th>\n",
       "    </tr>\n",
       "  </thead>\n",
       "  <tbody>\n",
       "    <tr>\n",
       "      <th>0</th>\n",
       "      <td>0</td>\n",
       "      <td>1</td>\n",
       "      <td>218</td>\n",
       "      <td>106</td>\n",
       "      <td>2</td>\n",
       "      <td>212</td>\n",
       "      <td>Shirt</td>\n",
       "      <td>Chambray</td>\n",
       "      <td>L</td>\n",
       "      <td>orange</td>\n",
       "      <td>105</td>\n",
       "      <td>44</td>\n",
       "      <td>A orange coloured, L sized, Chambray Shirt</td>\n",
       "    </tr>\n",
       "    <tr>\n",
       "      <th>1</th>\n",
       "      <td>1</td>\n",
       "      <td>1</td>\n",
       "      <td>481</td>\n",
       "      <td>118</td>\n",
       "      <td>1</td>\n",
       "      <td>118</td>\n",
       "      <td>Jacket</td>\n",
       "      <td>Puffer</td>\n",
       "      <td>S</td>\n",
       "      <td>indigo</td>\n",
       "      <td>110</td>\n",
       "      <td>62</td>\n",
       "      <td>A indigo coloured, S sized, Puffer Jacket</td>\n",
       "    </tr>\n",
       "    <tr>\n",
       "      <th>2</th>\n",
       "      <td>2</td>\n",
       "      <td>1</td>\n",
       "      <td>2</td>\n",
       "      <td>96</td>\n",
       "      <td>3</td>\n",
       "      <td>288</td>\n",
       "      <td>Shirt</td>\n",
       "      <td>Oxford Cloth</td>\n",
       "      <td>M</td>\n",
       "      <td>red</td>\n",
       "      <td>114</td>\n",
       "      <td>54</td>\n",
       "      <td>A red coloured, M sized, Oxford Cloth Shirt</td>\n",
       "    </tr>\n",
       "    <tr>\n",
       "      <th>3</th>\n",
       "      <td>3</td>\n",
       "      <td>1</td>\n",
       "      <td>1002</td>\n",
       "      <td>106</td>\n",
       "      <td>2</td>\n",
       "      <td>212</td>\n",
       "      <td>Trousers</td>\n",
       "      <td>Wool</td>\n",
       "      <td>M</td>\n",
       "      <td>blue</td>\n",
       "      <td>111</td>\n",
       "      <td>52</td>\n",
       "      <td>A blue coloured, M sized, Wool Trousers</td>\n",
       "    </tr>\n",
       "    <tr>\n",
       "      <th>4</th>\n",
       "      <td>4</td>\n",
       "      <td>1</td>\n",
       "      <td>691</td>\n",
       "      <td>113</td>\n",
       "      <td>3</td>\n",
       "      <td>339</td>\n",
       "      <td>Jacket</td>\n",
       "      <td>Parka</td>\n",
       "      <td>S</td>\n",
       "      <td>indigo</td>\n",
       "      <td>119</td>\n",
       "      <td>53</td>\n",
       "      <td>A indigo coloured, S sized, Parka Jacket</td>\n",
       "    </tr>\n",
       "  </tbody>\n",
       "</table>\n",
       "</div>"
      ]
     },
     "execution_count": 127,
     "metadata": {},
     "output_type": "execute_result"
    }
   ],
   "execution_count": 127
  },
  {
   "cell_type": "markdown",
   "source": [
    "#### Penjualan Produk Berdasarkan Tipenya"
   ],
   "metadata": {
    "collapsed": false
   },
   "id": "486adc9332982337"
  },
  {
   "cell_type": "code",
   "source": [
    "sales_product_df.groupby(by=\"product_type\").agg({\n",
    "    \"sales_id\": \"nunique\",\n",
    "    \"quantity_x\": \"sum\",\n",
    "    \"total_price\": \"sum\"\n",
    "})"
   ],
   "metadata": {
    "collapsed": false,
    "ExecuteTime": {
     "end_time": "2024-05-20T13:10:00.253376Z",
     "start_time": "2024-05-20T13:10:00.223377Z"
    }
   },
   "id": "ee0bfcf7f78c326d",
   "outputs": [
    {
     "data": {
      "text/plain": [
       "              sales_id  quantity_x  total_price\n",
       "product_type                                   \n",
       "Jacket            1676        3343       357026\n",
       "Shirt             1641        3259       333600\n",
       "Trousers          1683        3360       341174"
      ],
      "text/html": [
       "<div>\n",
       "<style scoped>\n",
       "    .dataframe tbody tr th:only-of-type {\n",
       "        vertical-align: middle;\n",
       "    }\n",
       "\n",
       "    .dataframe tbody tr th {\n",
       "        vertical-align: top;\n",
       "    }\n",
       "\n",
       "    .dataframe thead th {\n",
       "        text-align: right;\n",
       "    }\n",
       "</style>\n",
       "<table border=\"1\" class=\"dataframe\">\n",
       "  <thead>\n",
       "    <tr style=\"text-align: right;\">\n",
       "      <th></th>\n",
       "      <th>sales_id</th>\n",
       "      <th>quantity_x</th>\n",
       "      <th>total_price</th>\n",
       "    </tr>\n",
       "    <tr>\n",
       "      <th>product_type</th>\n",
       "      <th></th>\n",
       "      <th></th>\n",
       "      <th></th>\n",
       "    </tr>\n",
       "  </thead>\n",
       "  <tbody>\n",
       "    <tr>\n",
       "      <th>Jacket</th>\n",
       "      <td>1676</td>\n",
       "      <td>3343</td>\n",
       "      <td>357026</td>\n",
       "    </tr>\n",
       "    <tr>\n",
       "      <th>Shirt</th>\n",
       "      <td>1641</td>\n",
       "      <td>3259</td>\n",
       "      <td>333600</td>\n",
       "    </tr>\n",
       "    <tr>\n",
       "      <th>Trousers</th>\n",
       "      <td>1683</td>\n",
       "      <td>3360</td>\n",
       "      <td>341174</td>\n",
       "    </tr>\n",
       "  </tbody>\n",
       "</table>\n",
       "</div>"
      ]
     },
     "execution_count": 128,
     "metadata": {},
     "output_type": "execute_result"
    }
   ],
   "execution_count": 128
  },
  {
   "cell_type": "markdown",
   "source": [
    "#### Penjualan Berdasarkan Nama Produk"
   ],
   "metadata": {
    "collapsed": false
   },
   "id": "e26f93a1861edc9b"
  },
  {
   "cell_type": "code",
   "source": [
    "sales_product_df.groupby(by=\"product_name\").agg({\n",
    "    \"sales_id\": \"nunique\",\n",
    "    \"quantity_x\": \"sum\",\n",
    "    \"total_price\": \"sum\"\n",
    "}).sort_values(by=\"total_price\", ascending=False)"
   ],
   "metadata": {
    "collapsed": false,
    "ExecuteTime": {
     "end_time": "2024-05-20T13:10:00.285404Z",
     "start_time": "2024-05-20T13:10:00.256379Z"
    }
   },
   "id": "8f46624e752ab927",
   "outputs": [
    {
     "data": {
      "text/plain": [
       "                   sales_id  quantity_x  total_price\n",
       "product_name                                        \n",
       "Denim                   273         527        52399\n",
       "Casual Slim Fit         154         306        36414\n",
       "Trench Coat             146         299        35581\n",
       "Shearling               150         302        35334\n",
       "Puffer                  140         298        35164\n",
       "Flannel                 141         281        33158\n",
       "Cropped                 135         284        32660\n",
       "Pleated                 147         308        32340\n",
       "Joggers                 164         334        31062\n",
       "Chambray                141         290        30740\n",
       "Parka                   134         269        30397\n",
       "Bomber                  150         297        29700\n",
       "Chinos                  135         260        29380\n",
       "Windbreaker             143         287        29274\n",
       "Cardigan                134         260        29120\n",
       "Peacoat                 132         266        28994\n",
       "Tracksuit Bottoms       130         257        28784\n",
       "Slim-Fit                154         288        27936\n",
       "Oxford Cloth            146         289        27744\n",
       "Drawstring              147         288        27648\n",
       "High-Waisted            140         278        27522\n",
       "Camp Collared           139         279        27342\n",
       "Cargo Pants             134         267        27234\n",
       "Relaxed Leg             146         301        27090\n",
       "Cuban Collar            122         254        26670\n",
       "Henley                  146         281        26414\n",
       "Wool                    125         249        26394\n",
       "Leather                 136         263        25774\n",
       "Mandarin Collar         124         236        25724\n",
       "Dress                   127         243        25272\n",
       "Pullover                143         276        25116\n",
       "Polo                    131         264        25080\n",
       "Coach                   134         265        24645\n",
       "Linen                   131         270        24570\n",
       "Cords                   126         246        23124"
      ],
      "text/html": [
       "<div>\n",
       "<style scoped>\n",
       "    .dataframe tbody tr th:only-of-type {\n",
       "        vertical-align: middle;\n",
       "    }\n",
       "\n",
       "    .dataframe tbody tr th {\n",
       "        vertical-align: top;\n",
       "    }\n",
       "\n",
       "    .dataframe thead th {\n",
       "        text-align: right;\n",
       "    }\n",
       "</style>\n",
       "<table border=\"1\" class=\"dataframe\">\n",
       "  <thead>\n",
       "    <tr style=\"text-align: right;\">\n",
       "      <th></th>\n",
       "      <th>sales_id</th>\n",
       "      <th>quantity_x</th>\n",
       "      <th>total_price</th>\n",
       "    </tr>\n",
       "    <tr>\n",
       "      <th>product_name</th>\n",
       "      <th></th>\n",
       "      <th></th>\n",
       "      <th></th>\n",
       "    </tr>\n",
       "  </thead>\n",
       "  <tbody>\n",
       "    <tr>\n",
       "      <th>Denim</th>\n",
       "      <td>273</td>\n",
       "      <td>527</td>\n",
       "      <td>52399</td>\n",
       "    </tr>\n",
       "    <tr>\n",
       "      <th>Casual Slim Fit</th>\n",
       "      <td>154</td>\n",
       "      <td>306</td>\n",
       "      <td>36414</td>\n",
       "    </tr>\n",
       "    <tr>\n",
       "      <th>Trench Coat</th>\n",
       "      <td>146</td>\n",
       "      <td>299</td>\n",
       "      <td>35581</td>\n",
       "    </tr>\n",
       "    <tr>\n",
       "      <th>Shearling</th>\n",
       "      <td>150</td>\n",
       "      <td>302</td>\n",
       "      <td>35334</td>\n",
       "    </tr>\n",
       "    <tr>\n",
       "      <th>Puffer</th>\n",
       "      <td>140</td>\n",
       "      <td>298</td>\n",
       "      <td>35164</td>\n",
       "    </tr>\n",
       "    <tr>\n",
       "      <th>Flannel</th>\n",
       "      <td>141</td>\n",
       "      <td>281</td>\n",
       "      <td>33158</td>\n",
       "    </tr>\n",
       "    <tr>\n",
       "      <th>Cropped</th>\n",
       "      <td>135</td>\n",
       "      <td>284</td>\n",
       "      <td>32660</td>\n",
       "    </tr>\n",
       "    <tr>\n",
       "      <th>Pleated</th>\n",
       "      <td>147</td>\n",
       "      <td>308</td>\n",
       "      <td>32340</td>\n",
       "    </tr>\n",
       "    <tr>\n",
       "      <th>Joggers</th>\n",
       "      <td>164</td>\n",
       "      <td>334</td>\n",
       "      <td>31062</td>\n",
       "    </tr>\n",
       "    <tr>\n",
       "      <th>Chambray</th>\n",
       "      <td>141</td>\n",
       "      <td>290</td>\n",
       "      <td>30740</td>\n",
       "    </tr>\n",
       "    <tr>\n",
       "      <th>Parka</th>\n",
       "      <td>134</td>\n",
       "      <td>269</td>\n",
       "      <td>30397</td>\n",
       "    </tr>\n",
       "    <tr>\n",
       "      <th>Bomber</th>\n",
       "      <td>150</td>\n",
       "      <td>297</td>\n",
       "      <td>29700</td>\n",
       "    </tr>\n",
       "    <tr>\n",
       "      <th>Chinos</th>\n",
       "      <td>135</td>\n",
       "      <td>260</td>\n",
       "      <td>29380</td>\n",
       "    </tr>\n",
       "    <tr>\n",
       "      <th>Windbreaker</th>\n",
       "      <td>143</td>\n",
       "      <td>287</td>\n",
       "      <td>29274</td>\n",
       "    </tr>\n",
       "    <tr>\n",
       "      <th>Cardigan</th>\n",
       "      <td>134</td>\n",
       "      <td>260</td>\n",
       "      <td>29120</td>\n",
       "    </tr>\n",
       "    <tr>\n",
       "      <th>Peacoat</th>\n",
       "      <td>132</td>\n",
       "      <td>266</td>\n",
       "      <td>28994</td>\n",
       "    </tr>\n",
       "    <tr>\n",
       "      <th>Tracksuit Bottoms</th>\n",
       "      <td>130</td>\n",
       "      <td>257</td>\n",
       "      <td>28784</td>\n",
       "    </tr>\n",
       "    <tr>\n",
       "      <th>Slim-Fit</th>\n",
       "      <td>154</td>\n",
       "      <td>288</td>\n",
       "      <td>27936</td>\n",
       "    </tr>\n",
       "    <tr>\n",
       "      <th>Oxford Cloth</th>\n",
       "      <td>146</td>\n",
       "      <td>289</td>\n",
       "      <td>27744</td>\n",
       "    </tr>\n",
       "    <tr>\n",
       "      <th>Drawstring</th>\n",
       "      <td>147</td>\n",
       "      <td>288</td>\n",
       "      <td>27648</td>\n",
       "    </tr>\n",
       "    <tr>\n",
       "      <th>High-Waisted</th>\n",
       "      <td>140</td>\n",
       "      <td>278</td>\n",
       "      <td>27522</td>\n",
       "    </tr>\n",
       "    <tr>\n",
       "      <th>Camp Collared</th>\n",
       "      <td>139</td>\n",
       "      <td>279</td>\n",
       "      <td>27342</td>\n",
       "    </tr>\n",
       "    <tr>\n",
       "      <th>Cargo Pants</th>\n",
       "      <td>134</td>\n",
       "      <td>267</td>\n",
       "      <td>27234</td>\n",
       "    </tr>\n",
       "    <tr>\n",
       "      <th>Relaxed Leg</th>\n",
       "      <td>146</td>\n",
       "      <td>301</td>\n",
       "      <td>27090</td>\n",
       "    </tr>\n",
       "    <tr>\n",
       "      <th>Cuban Collar</th>\n",
       "      <td>122</td>\n",
       "      <td>254</td>\n",
       "      <td>26670</td>\n",
       "    </tr>\n",
       "    <tr>\n",
       "      <th>Henley</th>\n",
       "      <td>146</td>\n",
       "      <td>281</td>\n",
       "      <td>26414</td>\n",
       "    </tr>\n",
       "    <tr>\n",
       "      <th>Wool</th>\n",
       "      <td>125</td>\n",
       "      <td>249</td>\n",
       "      <td>26394</td>\n",
       "    </tr>\n",
       "    <tr>\n",
       "      <th>Leather</th>\n",
       "      <td>136</td>\n",
       "      <td>263</td>\n",
       "      <td>25774</td>\n",
       "    </tr>\n",
       "    <tr>\n",
       "      <th>Mandarin Collar</th>\n",
       "      <td>124</td>\n",
       "      <td>236</td>\n",
       "      <td>25724</td>\n",
       "    </tr>\n",
       "    <tr>\n",
       "      <th>Dress</th>\n",
       "      <td>127</td>\n",
       "      <td>243</td>\n",
       "      <td>25272</td>\n",
       "    </tr>\n",
       "    <tr>\n",
       "      <th>Pullover</th>\n",
       "      <td>143</td>\n",
       "      <td>276</td>\n",
       "      <td>25116</td>\n",
       "    </tr>\n",
       "    <tr>\n",
       "      <th>Polo</th>\n",
       "      <td>131</td>\n",
       "      <td>264</td>\n",
       "      <td>25080</td>\n",
       "    </tr>\n",
       "    <tr>\n",
       "      <th>Coach</th>\n",
       "      <td>134</td>\n",
       "      <td>265</td>\n",
       "      <td>24645</td>\n",
       "    </tr>\n",
       "    <tr>\n",
       "      <th>Linen</th>\n",
       "      <td>131</td>\n",
       "      <td>270</td>\n",
       "      <td>24570</td>\n",
       "    </tr>\n",
       "    <tr>\n",
       "      <th>Cords</th>\n",
       "      <td>126</td>\n",
       "      <td>246</td>\n",
       "      <td>23124</td>\n",
       "    </tr>\n",
       "  </tbody>\n",
       "</table>\n",
       "</div>"
      ]
     },
     "execution_count": 129,
     "metadata": {},
     "output_type": "execute_result"
    }
   ],
   "execution_count": 129
  },
  {
   "cell_type": "markdown",
   "source": [
    "### Eksplorasi Data `all_df`"
   ],
   "metadata": {
    "collapsed": false
   },
   "id": "f8ff253dd74afc9e"
  },
  {
   "cell_type": "code",
   "source": [
    "all_df = pd.merge(\n",
    "    left=sales_product_df,\n",
    "    right=orders_customers_df,\n",
    "    how=\"left\",\n",
    "    left_on=\"order_id\",\n",
    "    right_on=\"order_id\"\n",
    ")\n",
    "all_df.head()"
   ],
   "metadata": {
    "collapsed": false,
    "ExecuteTime": {
     "end_time": "2024-05-20T13:10:00.316908Z",
     "start_time": "2024-05-20T13:10:00.287382Z"
    }
   },
   "id": "1b787d17bb4316ac",
   "outputs": [
    {
     "data": {
      "text/plain": [
       "   sales_id  order_id  product_id  price_per_unit  quantity_x  total_price  \\\n",
       "0         0         1         218             106           2          212   \n",
       "1         1         1         481             118           1          118   \n",
       "2         2         1           2              96           3          288   \n",
       "3         3         1        1002             106           2          212   \n",
       "4         4         1         691             113           3          339   \n",
       "\n",
       "  product_type  product_name size  colour  ...  customer_name  \\\n",
       "0        Shirt      Chambray    L  orange  ...       fulan 64   \n",
       "1       Jacket        Puffer    S  indigo  ...       fulan 64   \n",
       "2        Shirt  Oxford Cloth    M     red  ...       fulan 64   \n",
       "3     Trousers          Wool    M    blue  ...       fulan 64   \n",
       "4       Jacket         Parka    S  indigo  ...       fulan 64   \n",
       "\n",
       "              gender age               home_address  zip_code            city  \\\n",
       "0  Prefer not to say  75  4927 Alice MeadowApt. 960      7787  Sanfordborough   \n",
       "1  Prefer not to say  75  4927 Alice MeadowApt. 960      7787  Sanfordborough   \n",
       "2  Prefer not to say  75  4927 Alice MeadowApt. 960      7787  Sanfordborough   \n",
       "3  Prefer not to say  75  4927 Alice MeadowApt. 960      7787  Sanfordborough   \n",
       "4  Prefer not to say  75  4927 Alice MeadowApt. 960      7787  Sanfordborough   \n",
       "\n",
       "             state    country  status age_group  \n",
       "0  South Australia  Australia  Active   Seniors  \n",
       "1  South Australia  Australia  Active   Seniors  \n",
       "2  South Australia  Australia  Active   Seniors  \n",
       "3  South Australia  Australia  Active   Seniors  \n",
       "4  South Australia  Australia  Active   Seniors  \n",
       "\n",
       "[5 rows x 28 columns]"
      ],
      "text/html": [
       "<div>\n",
       "<style scoped>\n",
       "    .dataframe tbody tr th:only-of-type {\n",
       "        vertical-align: middle;\n",
       "    }\n",
       "\n",
       "    .dataframe tbody tr th {\n",
       "        vertical-align: top;\n",
       "    }\n",
       "\n",
       "    .dataframe thead th {\n",
       "        text-align: right;\n",
       "    }\n",
       "</style>\n",
       "<table border=\"1\" class=\"dataframe\">\n",
       "  <thead>\n",
       "    <tr style=\"text-align: right;\">\n",
       "      <th></th>\n",
       "      <th>sales_id</th>\n",
       "      <th>order_id</th>\n",
       "      <th>product_id</th>\n",
       "      <th>price_per_unit</th>\n",
       "      <th>quantity_x</th>\n",
       "      <th>total_price</th>\n",
       "      <th>product_type</th>\n",
       "      <th>product_name</th>\n",
       "      <th>size</th>\n",
       "      <th>colour</th>\n",
       "      <th>...</th>\n",
       "      <th>customer_name</th>\n",
       "      <th>gender</th>\n",
       "      <th>age</th>\n",
       "      <th>home_address</th>\n",
       "      <th>zip_code</th>\n",
       "      <th>city</th>\n",
       "      <th>state</th>\n",
       "      <th>country</th>\n",
       "      <th>status</th>\n",
       "      <th>age_group</th>\n",
       "    </tr>\n",
       "  </thead>\n",
       "  <tbody>\n",
       "    <tr>\n",
       "      <th>0</th>\n",
       "      <td>0</td>\n",
       "      <td>1</td>\n",
       "      <td>218</td>\n",
       "      <td>106</td>\n",
       "      <td>2</td>\n",
       "      <td>212</td>\n",
       "      <td>Shirt</td>\n",
       "      <td>Chambray</td>\n",
       "      <td>L</td>\n",
       "      <td>orange</td>\n",
       "      <td>...</td>\n",
       "      <td>fulan 64</td>\n",
       "      <td>Prefer not to say</td>\n",
       "      <td>75</td>\n",
       "      <td>4927 Alice MeadowApt. 960</td>\n",
       "      <td>7787</td>\n",
       "      <td>Sanfordborough</td>\n",
       "      <td>South Australia</td>\n",
       "      <td>Australia</td>\n",
       "      <td>Active</td>\n",
       "      <td>Seniors</td>\n",
       "    </tr>\n",
       "    <tr>\n",
       "      <th>1</th>\n",
       "      <td>1</td>\n",
       "      <td>1</td>\n",
       "      <td>481</td>\n",
       "      <td>118</td>\n",
       "      <td>1</td>\n",
       "      <td>118</td>\n",
       "      <td>Jacket</td>\n",
       "      <td>Puffer</td>\n",
       "      <td>S</td>\n",
       "      <td>indigo</td>\n",
       "      <td>...</td>\n",
       "      <td>fulan 64</td>\n",
       "      <td>Prefer not to say</td>\n",
       "      <td>75</td>\n",
       "      <td>4927 Alice MeadowApt. 960</td>\n",
       "      <td>7787</td>\n",
       "      <td>Sanfordborough</td>\n",
       "      <td>South Australia</td>\n",
       "      <td>Australia</td>\n",
       "      <td>Active</td>\n",
       "      <td>Seniors</td>\n",
       "    </tr>\n",
       "    <tr>\n",
       "      <th>2</th>\n",
       "      <td>2</td>\n",
       "      <td>1</td>\n",
       "      <td>2</td>\n",
       "      <td>96</td>\n",
       "      <td>3</td>\n",
       "      <td>288</td>\n",
       "      <td>Shirt</td>\n",
       "      <td>Oxford Cloth</td>\n",
       "      <td>M</td>\n",
       "      <td>red</td>\n",
       "      <td>...</td>\n",
       "      <td>fulan 64</td>\n",
       "      <td>Prefer not to say</td>\n",
       "      <td>75</td>\n",
       "      <td>4927 Alice MeadowApt. 960</td>\n",
       "      <td>7787</td>\n",
       "      <td>Sanfordborough</td>\n",
       "      <td>South Australia</td>\n",
       "      <td>Australia</td>\n",
       "      <td>Active</td>\n",
       "      <td>Seniors</td>\n",
       "    </tr>\n",
       "    <tr>\n",
       "      <th>3</th>\n",
       "      <td>3</td>\n",
       "      <td>1</td>\n",
       "      <td>1002</td>\n",
       "      <td>106</td>\n",
       "      <td>2</td>\n",
       "      <td>212</td>\n",
       "      <td>Trousers</td>\n",
       "      <td>Wool</td>\n",
       "      <td>M</td>\n",
       "      <td>blue</td>\n",
       "      <td>...</td>\n",
       "      <td>fulan 64</td>\n",
       "      <td>Prefer not to say</td>\n",
       "      <td>75</td>\n",
       "      <td>4927 Alice MeadowApt. 960</td>\n",
       "      <td>7787</td>\n",
       "      <td>Sanfordborough</td>\n",
       "      <td>South Australia</td>\n",
       "      <td>Australia</td>\n",
       "      <td>Active</td>\n",
       "      <td>Seniors</td>\n",
       "    </tr>\n",
       "    <tr>\n",
       "      <th>4</th>\n",
       "      <td>4</td>\n",
       "      <td>1</td>\n",
       "      <td>691</td>\n",
       "      <td>113</td>\n",
       "      <td>3</td>\n",
       "      <td>339</td>\n",
       "      <td>Jacket</td>\n",
       "      <td>Parka</td>\n",
       "      <td>S</td>\n",
       "      <td>indigo</td>\n",
       "      <td>...</td>\n",
       "      <td>fulan 64</td>\n",
       "      <td>Prefer not to say</td>\n",
       "      <td>75</td>\n",
       "      <td>4927 Alice MeadowApt. 960</td>\n",
       "      <td>7787</td>\n",
       "      <td>Sanfordborough</td>\n",
       "      <td>South Australia</td>\n",
       "      <td>Australia</td>\n",
       "      <td>Active</td>\n",
       "      <td>Seniors</td>\n",
       "    </tr>\n",
       "  </tbody>\n",
       "</table>\n",
       "<p>5 rows × 28 columns</p>\n",
       "</div>"
      ]
     },
     "execution_count": 130,
     "metadata": {},
     "output_type": "execute_result"
    }
   ],
   "execution_count": 130
  },
  {
   "cell_type": "markdown",
   "source": [
    "#### Preferensi Pembelian Berdasarkan State Pelanggan dan Tipe Produk"
   ],
   "metadata": {
    "collapsed": false
   },
   "id": "fd15ed8e53dd7329"
  },
  {
   "cell_type": "code",
   "source": [
    "all_df.groupby(by=[\"state\", \"product_type\"]).agg({\n",
    "    \"quantity_x\": \"sum\",\n",
    "    \"total_price\": \"sum\"\n",
    "})"
   ],
   "metadata": {
    "collapsed": false,
    "ExecuteTime": {
     "end_time": "2024-05-20T13:10:00.396953Z",
     "start_time": "2024-05-20T13:10:00.375950Z"
    }
   },
   "id": "9c5dde77106ddd13",
   "outputs": [
    {
     "data": {
      "text/plain": [
       "                                           quantity_x  total_price\n",
       "state                        product_type                         \n",
       "Australian Capital Territory Jacket               406        43204\n",
       "                             Shirt                396        40448\n",
       "                             Trousers             454        46790\n",
       "New South Wales              Jacket               451        47998\n",
       "                             Shirt                431        43980\n",
       "                             Trousers             392        39766\n",
       "Northern Territory           Jacket               365        38991\n",
       "                             Shirt                336        33865\n",
       "                             Trousers             384        38998\n",
       "Queensland                   Jacket               499        53511\n",
       "                             Shirt                417        42506\n",
       "                             Trousers             453        46045\n",
       "South Australia              Jacket               461        49090\n",
       "                             Shirt                509        52685\n",
       "                             Trousers             455        46041\n",
       "Tasmania                     Jacket               412        44370\n",
       "                             Shirt                387        39668\n",
       "                             Trousers             379        38057\n",
       "Victoria                     Jacket               359        38203\n",
       "                             Shirt                390        40206\n",
       "                             Trousers             414        41948\n",
       "Western Australia            Jacket               390        41659\n",
       "                             Shirt                393        40242\n",
       "                             Trousers             429        43529"
      ],
      "text/html": [
       "<div>\n",
       "<style scoped>\n",
       "    .dataframe tbody tr th:only-of-type {\n",
       "        vertical-align: middle;\n",
       "    }\n",
       "\n",
       "    .dataframe tbody tr th {\n",
       "        vertical-align: top;\n",
       "    }\n",
       "\n",
       "    .dataframe thead th {\n",
       "        text-align: right;\n",
       "    }\n",
       "</style>\n",
       "<table border=\"1\" class=\"dataframe\">\n",
       "  <thead>\n",
       "    <tr style=\"text-align: right;\">\n",
       "      <th></th>\n",
       "      <th></th>\n",
       "      <th>quantity_x</th>\n",
       "      <th>total_price</th>\n",
       "    </tr>\n",
       "    <tr>\n",
       "      <th>state</th>\n",
       "      <th>product_type</th>\n",
       "      <th></th>\n",
       "      <th></th>\n",
       "    </tr>\n",
       "  </thead>\n",
       "  <tbody>\n",
       "    <tr>\n",
       "      <th rowspan=\"3\" valign=\"top\">Australian Capital Territory</th>\n",
       "      <th>Jacket</th>\n",
       "      <td>406</td>\n",
       "      <td>43204</td>\n",
       "    </tr>\n",
       "    <tr>\n",
       "      <th>Shirt</th>\n",
       "      <td>396</td>\n",
       "      <td>40448</td>\n",
       "    </tr>\n",
       "    <tr>\n",
       "      <th>Trousers</th>\n",
       "      <td>454</td>\n",
       "      <td>46790</td>\n",
       "    </tr>\n",
       "    <tr>\n",
       "      <th rowspan=\"3\" valign=\"top\">New South Wales</th>\n",
       "      <th>Jacket</th>\n",
       "      <td>451</td>\n",
       "      <td>47998</td>\n",
       "    </tr>\n",
       "    <tr>\n",
       "      <th>Shirt</th>\n",
       "      <td>431</td>\n",
       "      <td>43980</td>\n",
       "    </tr>\n",
       "    <tr>\n",
       "      <th>Trousers</th>\n",
       "      <td>392</td>\n",
       "      <td>39766</td>\n",
       "    </tr>\n",
       "    <tr>\n",
       "      <th rowspan=\"3\" valign=\"top\">Northern Territory</th>\n",
       "      <th>Jacket</th>\n",
       "      <td>365</td>\n",
       "      <td>38991</td>\n",
       "    </tr>\n",
       "    <tr>\n",
       "      <th>Shirt</th>\n",
       "      <td>336</td>\n",
       "      <td>33865</td>\n",
       "    </tr>\n",
       "    <tr>\n",
       "      <th>Trousers</th>\n",
       "      <td>384</td>\n",
       "      <td>38998</td>\n",
       "    </tr>\n",
       "    <tr>\n",
       "      <th rowspan=\"3\" valign=\"top\">Queensland</th>\n",
       "      <th>Jacket</th>\n",
       "      <td>499</td>\n",
       "      <td>53511</td>\n",
       "    </tr>\n",
       "    <tr>\n",
       "      <th>Shirt</th>\n",
       "      <td>417</td>\n",
       "      <td>42506</td>\n",
       "    </tr>\n",
       "    <tr>\n",
       "      <th>Trousers</th>\n",
       "      <td>453</td>\n",
       "      <td>46045</td>\n",
       "    </tr>\n",
       "    <tr>\n",
       "      <th rowspan=\"3\" valign=\"top\">South Australia</th>\n",
       "      <th>Jacket</th>\n",
       "      <td>461</td>\n",
       "      <td>49090</td>\n",
       "    </tr>\n",
       "    <tr>\n",
       "      <th>Shirt</th>\n",
       "      <td>509</td>\n",
       "      <td>52685</td>\n",
       "    </tr>\n",
       "    <tr>\n",
       "      <th>Trousers</th>\n",
       "      <td>455</td>\n",
       "      <td>46041</td>\n",
       "    </tr>\n",
       "    <tr>\n",
       "      <th rowspan=\"3\" valign=\"top\">Tasmania</th>\n",
       "      <th>Jacket</th>\n",
       "      <td>412</td>\n",
       "      <td>44370</td>\n",
       "    </tr>\n",
       "    <tr>\n",
       "      <th>Shirt</th>\n",
       "      <td>387</td>\n",
       "      <td>39668</td>\n",
       "    </tr>\n",
       "    <tr>\n",
       "      <th>Trousers</th>\n",
       "      <td>379</td>\n",
       "      <td>38057</td>\n",
       "    </tr>\n",
       "    <tr>\n",
       "      <th rowspan=\"3\" valign=\"top\">Victoria</th>\n",
       "      <th>Jacket</th>\n",
       "      <td>359</td>\n",
       "      <td>38203</td>\n",
       "    </tr>\n",
       "    <tr>\n",
       "      <th>Shirt</th>\n",
       "      <td>390</td>\n",
       "      <td>40206</td>\n",
       "    </tr>\n",
       "    <tr>\n",
       "      <th>Trousers</th>\n",
       "      <td>414</td>\n",
       "      <td>41948</td>\n",
       "    </tr>\n",
       "    <tr>\n",
       "      <th rowspan=\"3\" valign=\"top\">Western Australia</th>\n",
       "      <th>Jacket</th>\n",
       "      <td>390</td>\n",
       "      <td>41659</td>\n",
       "    </tr>\n",
       "    <tr>\n",
       "      <th>Shirt</th>\n",
       "      <td>393</td>\n",
       "      <td>40242</td>\n",
       "    </tr>\n",
       "    <tr>\n",
       "      <th>Trousers</th>\n",
       "      <td>429</td>\n",
       "      <td>43529</td>\n",
       "    </tr>\n",
       "  </tbody>\n",
       "</table>\n",
       "</div>"
      ]
     },
     "execution_count": 131,
     "metadata": {},
     "output_type": "execute_result"
    }
   ],
   "execution_count": 131
  },
  {
   "cell_type": "markdown",
   "source": [
    "#### Preferensi Tipe Produk Pelanggan Berdasarkan Gender dan Kelompok Usia"
   ],
   "metadata": {
    "collapsed": false
   },
   "id": "ebeb26b0ad69d9da"
  },
  {
   "cell_type": "code",
   "source": [
    "all_df.groupby(by=[\"gender\", \"product_type\"]).agg({\n",
    "    \"quantity_x\": \"sum\",\n",
    "    \"total_price\": \"sum\"\n",
    "})"
   ],
   "metadata": {
    "collapsed": false,
    "ExecuteTime": {
     "end_time": "2024-05-20T13:10:02.256606Z",
     "start_time": "2024-05-20T13:10:02.235536Z"
    }
   },
   "id": "da539acad6282858",
   "outputs": [
    {
     "data": {
      "text/plain": [
       "                                quantity_x  total_price\n",
       "gender            product_type                         \n",
       "Female            Jacket               481        50963\n",
       "                  Shirt                445        45146\n",
       "                  Trousers             481        49295\n",
       "Male              Jacket               480        50978\n",
       "                  Shirt                410        41939\n",
       "                  Trousers             453        46071\n",
       "Prefer not to say Jacket              2382       255085\n",
       "                  Shirt               2404       246515\n",
       "                  Trousers            2426       245808"
      ],
      "text/html": [
       "<div>\n",
       "<style scoped>\n",
       "    .dataframe tbody tr th:only-of-type {\n",
       "        vertical-align: middle;\n",
       "    }\n",
       "\n",
       "    .dataframe tbody tr th {\n",
       "        vertical-align: top;\n",
       "    }\n",
       "\n",
       "    .dataframe thead th {\n",
       "        text-align: right;\n",
       "    }\n",
       "</style>\n",
       "<table border=\"1\" class=\"dataframe\">\n",
       "  <thead>\n",
       "    <tr style=\"text-align: right;\">\n",
       "      <th></th>\n",
       "      <th></th>\n",
       "      <th>quantity_x</th>\n",
       "      <th>total_price</th>\n",
       "    </tr>\n",
       "    <tr>\n",
       "      <th>gender</th>\n",
       "      <th>product_type</th>\n",
       "      <th></th>\n",
       "      <th></th>\n",
       "    </tr>\n",
       "  </thead>\n",
       "  <tbody>\n",
       "    <tr>\n",
       "      <th rowspan=\"3\" valign=\"top\">Female</th>\n",
       "      <th>Jacket</th>\n",
       "      <td>481</td>\n",
       "      <td>50963</td>\n",
       "    </tr>\n",
       "    <tr>\n",
       "      <th>Shirt</th>\n",
       "      <td>445</td>\n",
       "      <td>45146</td>\n",
       "    </tr>\n",
       "    <tr>\n",
       "      <th>Trousers</th>\n",
       "      <td>481</td>\n",
       "      <td>49295</td>\n",
       "    </tr>\n",
       "    <tr>\n",
       "      <th rowspan=\"3\" valign=\"top\">Male</th>\n",
       "      <th>Jacket</th>\n",
       "      <td>480</td>\n",
       "      <td>50978</td>\n",
       "    </tr>\n",
       "    <tr>\n",
       "      <th>Shirt</th>\n",
       "      <td>410</td>\n",
       "      <td>41939</td>\n",
       "    </tr>\n",
       "    <tr>\n",
       "      <th>Trousers</th>\n",
       "      <td>453</td>\n",
       "      <td>46071</td>\n",
       "    </tr>\n",
       "    <tr>\n",
       "      <th rowspan=\"3\" valign=\"top\">Prefer not to say</th>\n",
       "      <th>Jacket</th>\n",
       "      <td>2382</td>\n",
       "      <td>255085</td>\n",
       "    </tr>\n",
       "    <tr>\n",
       "      <th>Shirt</th>\n",
       "      <td>2404</td>\n",
       "      <td>246515</td>\n",
       "    </tr>\n",
       "    <tr>\n",
       "      <th>Trousers</th>\n",
       "      <td>2426</td>\n",
       "      <td>245808</td>\n",
       "    </tr>\n",
       "  </tbody>\n",
       "</table>\n",
       "</div>"
      ]
     },
     "execution_count": 132,
     "metadata": {},
     "output_type": "execute_result"
    }
   ],
   "execution_count": 132
  },
  {
   "cell_type": "code",
   "source": [
    "all_df.groupby(by=[\"age_group\", \"product_type\"]).agg({\n",
    "    \"quantity_x\": \"sum\",\n",
    "    \"total_price\": \"sum\"\n",
    "})"
   ],
   "metadata": {
    "collapsed": false,
    "ExecuteTime": {
     "end_time": "2024-05-20T13:10:04.866486Z",
     "start_time": "2024-05-20T13:10:04.847356Z"
    }
   },
   "id": "723cc0e9090ccf07",
   "outputs": [
    {
     "data": {
      "text/plain": [
       "                        quantity_x  total_price\n",
       "age_group product_type                         \n",
       "Adults    Jacket              2292       245055\n",
       "          Shirt               2225       227781\n",
       "          Trousers            2272       231271\n",
       "Seniors   Jacket               777        82959\n",
       "          Shirt                733        74977\n",
       "          Trousers             766        77471\n",
       "Youth     Jacket               274        29012\n",
       "          Shirt                301        30842\n",
       "          Trousers             322        32432"
      ],
      "text/html": [
       "<div>\n",
       "<style scoped>\n",
       "    .dataframe tbody tr th:only-of-type {\n",
       "        vertical-align: middle;\n",
       "    }\n",
       "\n",
       "    .dataframe tbody tr th {\n",
       "        vertical-align: top;\n",
       "    }\n",
       "\n",
       "    .dataframe thead th {\n",
       "        text-align: right;\n",
       "    }\n",
       "</style>\n",
       "<table border=\"1\" class=\"dataframe\">\n",
       "  <thead>\n",
       "    <tr style=\"text-align: right;\">\n",
       "      <th></th>\n",
       "      <th></th>\n",
       "      <th>quantity_x</th>\n",
       "      <th>total_price</th>\n",
       "    </tr>\n",
       "    <tr>\n",
       "      <th>age_group</th>\n",
       "      <th>product_type</th>\n",
       "      <th></th>\n",
       "      <th></th>\n",
       "    </tr>\n",
       "  </thead>\n",
       "  <tbody>\n",
       "    <tr>\n",
       "      <th rowspan=\"3\" valign=\"top\">Adults</th>\n",
       "      <th>Jacket</th>\n",
       "      <td>2292</td>\n",
       "      <td>245055</td>\n",
       "    </tr>\n",
       "    <tr>\n",
       "      <th>Shirt</th>\n",
       "      <td>2225</td>\n",
       "      <td>227781</td>\n",
       "    </tr>\n",
       "    <tr>\n",
       "      <th>Trousers</th>\n",
       "      <td>2272</td>\n",
       "      <td>231271</td>\n",
       "    </tr>\n",
       "    <tr>\n",
       "      <th rowspan=\"3\" valign=\"top\">Seniors</th>\n",
       "      <th>Jacket</th>\n",
       "      <td>777</td>\n",
       "      <td>82959</td>\n",
       "    </tr>\n",
       "    <tr>\n",
       "      <th>Shirt</th>\n",
       "      <td>733</td>\n",
       "      <td>74977</td>\n",
       "    </tr>\n",
       "    <tr>\n",
       "      <th>Trousers</th>\n",
       "      <td>766</td>\n",
       "      <td>77471</td>\n",
       "    </tr>\n",
       "    <tr>\n",
       "      <th rowspan=\"3\" valign=\"top\">Youth</th>\n",
       "      <th>Jacket</th>\n",
       "      <td>274</td>\n",
       "      <td>29012</td>\n",
       "    </tr>\n",
       "    <tr>\n",
       "      <th>Shirt</th>\n",
       "      <td>301</td>\n",
       "      <td>30842</td>\n",
       "    </tr>\n",
       "    <tr>\n",
       "      <th>Trousers</th>\n",
       "      <td>322</td>\n",
       "      <td>32432</td>\n",
       "    </tr>\n",
       "  </tbody>\n",
       "</table>\n",
       "</div>"
      ]
     },
     "execution_count": 133,
     "metadata": {},
     "output_type": "execute_result"
    }
   ],
   "execution_count": 133
  },
  {
   "cell_type": "markdown",
   "source": [
    "---\n",
    "\n",
    "# Data Visualization\n",
    "\n",
    "#### Tujuan\n",
    "Pertama, kita akan melanjutkan proyek analisis data Dicoding Collection dengan menjalankan proses membuat visualisasi data dan explanatory analysis. Proses ini memiliki tujuan antara lain:\n",
    "- menjawab seluruh pertanyaan analisis atau bisnis yang sebelumnya telah dibuat; dan\n",
    "- membuat visualisasi data untuk mempermudah penyampaian hasil analisis data.\n",
    "\n",
    "#### Alur Latihan\n",
    "Berikut tahapan dalam latihan ini.\n",
    "1. Persiapan.\n",
    "2. Membuat visualisasi data yang menjawab pertanyaan bisnis.\n",
    "\n",
    "---"
   ],
   "metadata": {
    "collapsed": false
   },
   "id": "c1ee853a37836c35"
  },
  {
   "cell_type": "markdown",
   "source": [
    "## Membuat Visualisasi Data yang Menjawab Pertanyaan Bisnis"
   ],
   "metadata": {
    "collapsed": false
   },
   "id": "9b7a8951734e3c65"
  },
  {
   "cell_type": "markdown",
   "source": [
    "### 1. Bagaimana Performa Penjualan dan Revenue Perusahaan dalam Beberapa Bulan Terakhir?"
   ],
   "metadata": {
    "collapsed": false
   },
   "id": "96cd1a71073e6c8e"
  },
  {
   "cell_type": "code",
   "source": [
    "monthly_orders_df = all_df.resample(rule='ME', on='order_date').agg({\n",
    "    \"order_id\": \"nunique\",\n",
    "    \"total_price\": \"sum\"\n",
    "})\n",
    "monthly_orders_df.index = monthly_orders_df.index.strftime('%Y-%m')\n",
    "monthly_orders_df = monthly_orders_df.reset_index()\n",
    "monthly_orders_df.rename(columns={\n",
    "    \"order_id\": \"order_count\",\n",
    "    \"total_price\": \"revenue\"\n",
    "}, inplace=True)\n",
    "monthly_orders_df.head()"
   ],
   "metadata": {
    "collapsed": false,
    "ExecuteTime": {
     "end_time": "2024-05-20T13:10:06.582637Z",
     "start_time": "2024-05-20T13:10:06.555645Z"
    }
   },
   "id": "1dfeace50c4bfed9",
   "outputs": [
    {
     "data": {
      "text/plain": [
       "  order_date  order_count  revenue\n",
       "0    2021-01          109   119333\n",
       "1    2021-02           93    95080\n",
       "2    2021-03          117   131364\n",
       "3    2021-04           99    97530\n",
       "4    2021-05           84    85597"
      ],
      "text/html": [
       "<div>\n",
       "<style scoped>\n",
       "    .dataframe tbody tr th:only-of-type {\n",
       "        vertical-align: middle;\n",
       "    }\n",
       "\n",
       "    .dataframe tbody tr th {\n",
       "        vertical-align: top;\n",
       "    }\n",
       "\n",
       "    .dataframe thead th {\n",
       "        text-align: right;\n",
       "    }\n",
       "</style>\n",
       "<table border=\"1\" class=\"dataframe\">\n",
       "  <thead>\n",
       "    <tr style=\"text-align: right;\">\n",
       "      <th></th>\n",
       "      <th>order_date</th>\n",
       "      <th>order_count</th>\n",
       "      <th>revenue</th>\n",
       "    </tr>\n",
       "  </thead>\n",
       "  <tbody>\n",
       "    <tr>\n",
       "      <th>0</th>\n",
       "      <td>2021-01</td>\n",
       "      <td>109</td>\n",
       "      <td>119333</td>\n",
       "    </tr>\n",
       "    <tr>\n",
       "      <th>1</th>\n",
       "      <td>2021-02</td>\n",
       "      <td>93</td>\n",
       "      <td>95080</td>\n",
       "    </tr>\n",
       "    <tr>\n",
       "      <th>2</th>\n",
       "      <td>2021-03</td>\n",
       "      <td>117</td>\n",
       "      <td>131364</td>\n",
       "    </tr>\n",
       "    <tr>\n",
       "      <th>3</th>\n",
       "      <td>2021-04</td>\n",
       "      <td>99</td>\n",
       "      <td>97530</td>\n",
       "    </tr>\n",
       "    <tr>\n",
       "      <th>4</th>\n",
       "      <td>2021-05</td>\n",
       "      <td>84</td>\n",
       "      <td>85597</td>\n",
       "    </tr>\n",
       "  </tbody>\n",
       "</table>\n",
       "</div>"
      ]
     },
     "execution_count": 134,
     "metadata": {},
     "output_type": "execute_result"
    }
   ],
   "execution_count": 134
  },
  {
   "cell_type": "code",
   "source": [
    "monthly_orders_df = all_df.resample(rule='ME', on='order_date').agg({\n",
    "    \"order_id\": \"nunique\",\n",
    "    \"total_price\": \"sum\"\n",
    "})\n",
    "monthly_orders_df.index = monthly_orders_df.index.strftime('%B') #mengubah format order date menjadi nama bulan\n",
    " \n",
    "monthly_orders_df = monthly_orders_df.reset_index()\n",
    "monthly_orders_df.rename(columns={\n",
    "    \"order_id\": \"order_count\",\n",
    "    \"total_price\": \"revenue\"\n",
    "}, inplace=True)\n",
    " \n",
    "plt.figure(figsize=(10, 5)) \n",
    "plt.plot(monthly_orders_df[\"order_date\"], monthly_orders_df[\"order_count\"], marker='o', linewidth=2, color=\"#72BCD4\") \n",
    "plt.title(\"Number of Orders per Month (2021)\", loc=\"center\", fontsize=20) \n",
    "plt.xticks(fontsize=10) \n",
    "plt.yticks(fontsize=10) \n",
    "plt.show()"
   ],
   "metadata": {
    "collapsed": false,
    "ExecuteTime": {
     "end_time": "2024-05-20T13:10:07.598120Z",
     "start_time": "2024-05-20T13:10:07.271115Z"
    }
   },
   "id": "cb8976fc96a45587",
   "outputs": [
    {
     "data": {
      "text/plain": [
       "<Figure size 1000x500 with 1 Axes>"
      ],
      "image/png": "[encoded data removed]"
     },
     "metadata": {},
     "output_type": "display_data"
    }
   ],
   "execution_count": 135
  },
  {
   "cell_type": "code",
   "source": [
    "plt.figure(figsize=(10, 5))\n",
    "plt.plot(\n",
    "    monthly_orders_df[\"order_date\"],\n",
    "    monthly_orders_df[\"revenue\"],\n",
    "    marker='o', \n",
    "    linewidth=2,\n",
    "    color=\"#72BCD4\"\n",
    ")\n",
    "plt.title(\"Total Revenue per Month (2021)\", loc=\"center\", fontsize=20)\n",
    "plt.xticks(fontsize=10)\n",
    "plt.yticks(fontsize=10)\n",
    "plt.show()"
   ],
   "metadata": {
    "collapsed": false,
    "ExecuteTime": {
     "end_time": "2024-05-20T13:10:07.958780Z",
     "start_time": "2024-05-20T13:10:07.709443Z"
    }
   },
   "id": "ab41731e8b63830b",
   "outputs": [
    {
     "data": {
      "text/plain": [
       "<Figure size 1000x500 with 1 Axes>"
      ],
      "image/png": "[encoded data removed]"
     },
     "metadata": {},
     "output_type": "display_data"
    }
   ],
   "execution_count": 136
  },
  {
   "cell_type": "markdown",
   "source": [
    "### 2. Produk Apa yang Paling Banyak dan Paling Sedikit Terjual?"
   ],
   "metadata": {
    "collapsed": false
   },
   "id": "cac2bc0b429cf2ab"
  },
  {
   "cell_type": "code",
   "source": [
    "sum_order_items_df = all_df.groupby(\"product_name\").quantity_x.sum().sort_values(ascending=False).reset_index()\n",
    "sum_order_items_df.head(15)"
   ],
   "metadata": {
    "collapsed": false,
    "ExecuteTime": {
     "end_time": "2024-05-20T13:10:08.067879Z",
     "start_time": "2024-05-20T13:10:08.040428Z"
    }
   },
   "id": "a64d120924627aea",
   "outputs": [
    {
     "data": {
      "text/plain": [
       "       product_name  quantity_x\n",
       "0             Denim         527\n",
       "1           Joggers         334\n",
       "2           Pleated         308\n",
       "3   Casual Slim Fit         306\n",
       "4         Shearling         302\n",
       "5       Relaxed Leg         301\n",
       "6       Trench Coat         299\n",
       "7            Puffer         298\n",
       "8            Bomber         297\n",
       "9          Chambray         290\n",
       "10     Oxford Cloth         289\n",
       "11       Drawstring         288\n",
       "12         Slim-Fit         288\n",
       "13      Windbreaker         287\n",
       "14          Cropped         284"
      ],
      "text/html": [
       "<div>\n",
       "<style scoped>\n",
       "    .dataframe tbody tr th:only-of-type {\n",
       "        vertical-align: middle;\n",
       "    }\n",
       "\n",
       "    .dataframe tbody tr th {\n",
       "        vertical-align: top;\n",
       "    }\n",
       "\n",
       "    .dataframe thead th {\n",
       "        text-align: right;\n",
       "    }\n",
       "</style>\n",
       "<table border=\"1\" class=\"dataframe\">\n",
       "  <thead>\n",
       "    <tr style=\"text-align: right;\">\n",
       "      <th></th>\n",
       "      <th>product_name</th>\n",
       "      <th>quantity_x</th>\n",
       "    </tr>\n",
       "  </thead>\n",
       "  <tbody>\n",
       "    <tr>\n",
       "      <th>0</th>\n",
       "      <td>Denim</td>\n",
       "      <td>527</td>\n",
       "    </tr>\n",
       "    <tr>\n",
       "      <th>1</th>\n",
       "      <td>Joggers</td>\n",
       "      <td>334</td>\n",
       "    </tr>\n",
       "    <tr>\n",
       "      <th>2</th>\n",
       "      <td>Pleated</td>\n",
       "      <td>308</td>\n",
       "    </tr>\n",
       "    <tr>\n",
       "      <th>3</th>\n",
       "      <td>Casual Slim Fit</td>\n",
       "      <td>306</td>\n",
       "    </tr>\n",
       "    <tr>\n",
       "      <th>4</th>\n",
       "      <td>Shearling</td>\n",
       "      <td>302</td>\n",
       "    </tr>\n",
       "    <tr>\n",
       "      <th>5</th>\n",
       "      <td>Relaxed Leg</td>\n",
       "      <td>301</td>\n",
       "    </tr>\n",
       "    <tr>\n",
       "      <th>6</th>\n",
       "      <td>Trench Coat</td>\n",
       "      <td>299</td>\n",
       "    </tr>\n",
       "    <tr>\n",
       "      <th>7</th>\n",
       "      <td>Puffer</td>\n",
       "      <td>298</td>\n",
       "    </tr>\n",
       "    <tr>\n",
       "      <th>8</th>\n",
       "      <td>Bomber</td>\n",
       "      <td>297</td>\n",
       "    </tr>\n",
       "    <tr>\n",
       "      <th>9</th>\n",
       "      <td>Chambray</td>\n",
       "      <td>290</td>\n",
       "    </tr>\n",
       "    <tr>\n",
       "      <th>10</th>\n",
       "      <td>Oxford Cloth</td>\n",
       "      <td>289</td>\n",
       "    </tr>\n",
       "    <tr>\n",
       "      <th>11</th>\n",
       "      <td>Drawstring</td>\n",
       "      <td>288</td>\n",
       "    </tr>\n",
       "    <tr>\n",
       "      <th>12</th>\n",
       "      <td>Slim-Fit</td>\n",
       "      <td>288</td>\n",
       "    </tr>\n",
       "    <tr>\n",
       "      <th>13</th>\n",
       "      <td>Windbreaker</td>\n",
       "      <td>287</td>\n",
       "    </tr>\n",
       "    <tr>\n",
       "      <th>14</th>\n",
       "      <td>Cropped</td>\n",
       "      <td>284</td>\n",
       "    </tr>\n",
       "  </tbody>\n",
       "</table>\n",
       "</div>"
      ]
     },
     "execution_count": 137,
     "metadata": {},
     "output_type": "execute_result"
    }
   ],
   "execution_count": 137
  },
  {
   "cell_type": "code",
   "source": [
    "fig, ax = plt.subplots(nrows=1, ncols=2, figsize=(24, 6))\n",
    " \n",
    "colors = [\"#72BCD4\", \"#D3D3D3\", \"#D3D3D3\", \"#D3D3D3\", \"#D3D3D3\"]\n",
    " \n",
    "sns.barplot(x=\"quantity_x\", y=\"product_name\", data=sum_order_items_df.head(5), palette=colors, ax=ax[0], hue=\"product_name\", legend=False)\n",
    "ax[0].set_ylabel(None)\n",
    "ax[0].set_xlabel(None)\n",
    "ax[0].set_title(\"Best Performing Product\", loc=\"center\", fontsize=15)\n",
    "ax[0].tick_params(axis ='y', labelsize=12)\n",
    " \n",
    "sns.barplot(x=\"quantity_x\", y=\"product_name\", data=sum_order_items_df.sort_values(by=\"quantity_x\", ascending=True).head(5), palette=colors, ax=ax[1], hue=\"product_name\", legend=False)\n",
    "ax[1].set_ylabel(None)\n",
    "ax[1].set_xlabel(None)\n",
    "ax[1].invert_xaxis()\n",
    "ax[1].yaxis.set_label_position(\"right\")\n",
    "ax[1].yaxis.tick_right()\n",
    "ax[1].set_title(\"Worst Performing Product\", loc=\"center\", fontsize=15)\n",
    "ax[1].tick_params(axis='y', labelsize=12)\n",
    " \n",
    "plt.suptitle(\"Best and Worst Performing Product by Number of Sales\", fontsize=20)\n",
    "plt.show()"
   ],
   "metadata": {
    "collapsed": false,
    "ExecuteTime": {
     "end_time": "2024-05-20T13:10:09.067790Z",
     "start_time": "2024-05-20T13:10:08.446898Z"
    }
   },
   "id": "8f6a399920cb3e87",
   "outputs": [
    {
     "data": {
      "text/plain": [
       "<Figure size 2400x600 with 2 Axes>"
      ],
      "image/png": "[encoded data removed]"
     },
     "metadata": {},
     "output_type": "display_data"
    }
   ],
   "execution_count": 138
  },
  {
   "cell_type": "markdown",
   "source": [
    "### 3. Bagaimana Demografi Pelanggan yang Kita Miliki?"
   ],
   "metadata": {
    "collapsed": false
   },
   "id": "b63aca65968fc37b"
  },
  {
   "cell_type": "markdown",
   "source": [
    "#### Berdasarkan Gender"
   ],
   "metadata": {
    "collapsed": false
   },
   "id": "583f626337eb7c5b"
  },
  {
   "cell_type": "code",
   "source": [
    "bygender_df = all_df.groupby(by=\"gender\").customer_id.nunique().reset_index()\n",
    "bygender_df.rename(columns={\n",
    "    \"customer_id\": \"customer_count\"\n",
    "}, inplace=True)\n",
    " \n",
    "plt.figure(figsize=(10, 5))\n",
    " \n",
    "sns.barplot(\n",
    "    y=\"customer_count\", \n",
    "    x=\"gender\",\n",
    "    data=bygender_df.sort_values(by=\"customer_count\", ascending=False),\n",
    "    palette=colors[0:3],\n",
    "    hue=\"gender\",\n",
    "    legend=False\n",
    ")\n",
    "plt.title(\"Number of Customer by Gender\", loc=\"center\", fontsize=15)\n",
    "plt.ylabel(\"\")\n",
    "plt.xlabel(\"\")\n",
    "plt.tick_params(axis='x', labelsize=12)\n",
    "plt.show()"
   ],
   "metadata": {
    "collapsed": false,
    "ExecuteTime": {
     "end_time": "2024-05-20T13:10:09.394754Z",
     "start_time": "2024-05-20T13:10:09.069752Z"
    }
   },
   "id": "2632e830f7e8e8cb",
   "outputs": [
    {
     "data": {
      "text/plain": [
       "<Figure size 1000x500 with 1 Axes>"
      ],
      "image/png": "[encoded data removed]"
     },
     "metadata": {},
     "output_type": "display_data"
    }
   ],
   "execution_count": 139
  },
  {
   "cell_type": "markdown",
   "source": [
    "#### Berdasarkan Age"
   ],
   "metadata": {
    "collapsed": false
   },
   "id": "e90eecbede02a7de"
  },
  {
   "cell_type": "code",
   "source": [
    "byage_df = all_df.groupby(by=\"age_group\").customer_id.nunique().reset_index()\n",
    "byage_df.rename(columns={\n",
    "    \"customer_id\": \"customer_count\"\n",
    "}, inplace=True)\n",
    "\n",
    "byage_df['age_group'] = pd.Categorical(byage_df['age_group'], [\"Youth\", \"Adults\", \"Seniors\"])\n",
    "plt.figure(figsize=(10, 5))\n",
    "colors_ = [\"#D3D3D3\", \"#72BCD4\", \"#D3D3D3\", \"#D3D3D3\", \"#D3D3D3\"]\n",
    " \n",
    "sns.barplot(\n",
    "    y=\"customer_count\", \n",
    "    x=\"age_group\",\n",
    "    data=byage_df.sort_values(by=\"age_group\", ascending=False),\n",
    "    palette=colors_[0:3],\n",
    "    hue=\"age_group\",\n",
    "    legend=False\n",
    ")\n",
    "plt.title(\"Number of Customer by Age\", loc=\"center\", fontsize=15)\n",
    "plt.ylabel(\"\")\n",
    "plt.xlabel(\"\")\n",
    "plt.tick_params(axis='x', labelsize=12)\n",
    "plt.show()"
   ],
   "metadata": {
    "collapsed": false,
    "ExecuteTime": {
     "end_time": "2024-05-20T13:10:09.692446Z",
     "start_time": "2024-05-20T13:10:09.397752Z"
    }
   },
   "id": "496db6487ee1080c",
   "outputs": [
    {
     "data": {
      "text/plain": [
       "<Figure size 1000x500 with 1 Axes>"
      ],
      "image/png": "[encoded data removed]"
     },
     "metadata": {},
     "output_type": "display_data"
    }
   ],
   "execution_count": 140
  },
  {
   "cell_type": "markdown",
   "source": [
    "#### Berdasarkan States"
   ],
   "metadata": {
    "collapsed": false
   },
   "id": "b2233698428db7fc"
  },
  {
   "cell_type": "code",
   "source": [
    "bystate_df = all_df.groupby(by=\"state\").customer_id.nunique().reset_index()\n",
    "bystate_df.rename(columns={\n",
    "    \"customer_id\": \"customer_count\"\n",
    "}, inplace=True)\n",
    "\n",
    "plt.figure(figsize=(10, 5))\n",
    "colors_ = [\"#72BCD4\", \"#D3D3D3\", \"#D3D3D3\", \"#D3D3D3\", \"#D3D3D3\", \"#D3D3D3\", \"#D3D3D3\", \"#D3D3D3\"]\n",
    "sns.barplot(\n",
    "    x=\"customer_count\", \n",
    "    y=\"state\",\n",
    "    data=bystate_df.sort_values(by=\"customer_count\", ascending=False),\n",
    "    palette=colors_,\n",
    "    hue=\"state\",\n",
    "    legend=False\n",
    ")\n",
    "plt.title(\"Number of Customer by States\", loc=\"center\", fontsize=15)\n",
    "plt.ylabel(\"\")\n",
    "plt.xlabel(\"\")\n",
    "plt.tick_params(axis='y', labelsize=12)\n",
    "plt.show()"
   ],
   "metadata": {
    "collapsed": false,
    "ExecuteTime": {
     "end_time": "2024-05-20T13:10:10.069626Z",
     "start_time": "2024-05-20T13:10:09.695403Z"
    }
   },
   "id": "a49baeb6dc8e81d5",
   "outputs": [
    {
     "data": {
      "text/plain": [
       "<Figure size 1000x500 with 1 Axes>"
      ],
      "image/png": "[encoded data removed]"
     },
     "metadata": {},
     "output_type": "display_data"
    }
   ],
   "execution_count": 141
  },
  {
   "cell_type": "markdown",
   "source": [
    "### RFM (Recency, Frequency, Monetary) Analysis\n",
    "4. Kapan terakhir pelanggan melakukan transaksi?\n",
    "5. Seberapa sering seorang pelanggan melakukan pembelian dalam beberapa bulan terakhir?\n",
    "6. Berapa banyak uang yang dihabiskan pelanggan dalam beberapa bulan terakhir?"
   ],
   "metadata": {
    "collapsed": false
   },
   "id": "328227c3c57b674d"
  },
  {
   "cell_type": "code",
   "source": [
    "rfm_df = all_df.groupby(by=\"customer_id\", as_index=False).agg({\n",
    "    \"order_date\": \"max\", # mengambil tanggal order terakhir\n",
    "    \"order_id\": \"nunique\", # menghitung jumlah order\n",
    "    \"total_price\": \"sum\" # menghitung jumlah revenue yang dihasilkan\n",
    "})\n",
    "rfm_df.columns = [\"customer_id\", \"max_order_timestamp\", \"frequency\", \"monetary\"]\n",
    " \n",
    "# menghitung kapan terakhir pelanggan melakukan transaksi (hari)\n",
    "rfm_df[\"max_order_timestamp\"] = rfm_df[\"max_order_timestamp\"].dt.date\n",
    "recent_date = orders_df[\"order_date\"].dt.date.max()\n",
    "rfm_df[\"recency\"] = rfm_df[\"max_order_timestamp\"].apply(lambda x: (recent_date - x).days)\n",
    " \n",
    "rfm_df.drop(\"max_order_timestamp\", axis=1, inplace=True)\n",
    "rfm_df.head()"
   ],
   "metadata": {
    "collapsed": false,
    "ExecuteTime": {
     "end_time": "2024-05-20T13:10:10.101226Z",
     "start_time": "2024-05-20T13:10:10.071625Z"
    }
   },
   "id": "d00ae0799a52004d",
   "outputs": [
    {
     "data": {
      "text/plain": [
       "   customer_id  frequency  monetary  recency\n",
       "0            1          3      1641      203\n",
       "1            7          1      1017      156\n",
       "2           10          1       270      229\n",
       "3           11          1       382      149\n",
       "4           12          1      1551      127"
      ],
      "text/html": [
       "<div>\n",
       "<style scoped>\n",
       "    .dataframe tbody tr th:only-of-type {\n",
       "        vertical-align: middle;\n",
       "    }\n",
       "\n",
       "    .dataframe tbody tr th {\n",
       "        vertical-align: top;\n",
       "    }\n",
       "\n",
       "    .dataframe thead th {\n",
       "        text-align: right;\n",
       "    }\n",
       "</style>\n",
       "<table border=\"1\" class=\"dataframe\">\n",
       "  <thead>\n",
       "    <tr style=\"text-align: right;\">\n",
       "      <th></th>\n",
       "      <th>customer_id</th>\n",
       "      <th>frequency</th>\n",
       "      <th>monetary</th>\n",
       "      <th>recency</th>\n",
       "    </tr>\n",
       "  </thead>\n",
       "  <tbody>\n",
       "    <tr>\n",
       "      <th>0</th>\n",
       "      <td>1</td>\n",
       "      <td>3</td>\n",
       "      <td>1641</td>\n",
       "      <td>203</td>\n",
       "    </tr>\n",
       "    <tr>\n",
       "      <th>1</th>\n",
       "      <td>7</td>\n",
       "      <td>1</td>\n",
       "      <td>1017</td>\n",
       "      <td>156</td>\n",
       "    </tr>\n",
       "    <tr>\n",
       "      <th>2</th>\n",
       "      <td>10</td>\n",
       "      <td>1</td>\n",
       "      <td>270</td>\n",
       "      <td>229</td>\n",
       "    </tr>\n",
       "    <tr>\n",
       "      <th>3</th>\n",
       "      <td>11</td>\n",
       "      <td>1</td>\n",
       "      <td>382</td>\n",
       "      <td>149</td>\n",
       "    </tr>\n",
       "    <tr>\n",
       "      <th>4</th>\n",
       "      <td>12</td>\n",
       "      <td>1</td>\n",
       "      <td>1551</td>\n",
       "      <td>127</td>\n",
       "    </tr>\n",
       "  </tbody>\n",
       "</table>\n",
       "</div>"
      ]
     },
     "execution_count": 142,
     "metadata": {},
     "output_type": "execute_result"
    }
   ],
   "execution_count": 142
  },
  {
   "cell_type": "code",
   "source": [
    "_, ax = plt.subplots(nrows=1, ncols=3, figsize=(30, 6))\n",
    " \n",
    "colors = [\"#72BCD4\", \"#72BCD4\", \"#72BCD4\", \"#72BCD4\", \"#72BCD4\"]\n",
    " \n",
    "sns.barplot(y=\"recency\", x=\"customer_id\", data=rfm_df.sort_values(by=\"recency\", ascending=True).head(5), palette=colors, ax=ax[0], hue=\"customer_id\", legend=False)\n",
    "ax[0].set_ylabel(None)\n",
    "ax[0].set_xlabel(None)\n",
    "ax[0].set_title(\"By Recency (days)\", loc=\"center\", fontsize=18)\n",
    "ax[0].tick_params(axis ='x', labelsize=15)\n",
    " \n",
    "sns.barplot(y=\"frequency\", x=\"customer_id\", data=rfm_df.sort_values(by=\"frequency\", ascending=False).head(5), palette=colors, ax=ax[1], hue=\"customer_id\", legend=False)\n",
    "ax[1].set_ylabel(None)\n",
    "ax[1].set_xlabel(None)\n",
    "ax[1].set_title(\"By Frequency\", loc=\"center\", fontsize=18)\n",
    "ax[1].tick_params(axis='x', labelsize=15)\n",
    " \n",
    "sns.barplot(y=\"monetary\", x=\"customer_id\", data=rfm_df.sort_values(by=\"monetary\", ascending=False).head(5), palette=colors, ax=ax[2], hue=\"customer_id\", legend=False)\n",
    "ax[2].set_ylabel(None)\n",
    "ax[2].set_xlabel(None)\n",
    "ax[2].set_title(\"By Monetary\", loc=\"center\", fontsize=18)\n",
    "ax[2].tick_params(axis='x', labelsize=15)\n",
    " \n",
    "plt.suptitle(\"Best Customer Based on RFM Parameters (customer_id)\", fontsize=20)\n",
    "plt.show()"
   ],
   "metadata": {
    "collapsed": false,
    "ExecuteTime": {
     "end_time": "2024-05-20T13:10:10.918571Z",
     "start_time": "2024-05-20T13:10:10.104387Z"
    }
   },
   "id": "2c83eb90778d7b5",
   "outputs": [
    {
     "data": {
      "text/plain": [
       "<Figure size 3000x600 with 3 Axes>"
      ],
      "image/png": "[encoded data removed]"
     },
     "metadata": {},
     "output_type": "display_data"
    }
   ],
   "execution_count": 143
  },
  {
   "cell_type": "markdown",
   "source": [
    "---\n",
    "\n",
    "# Dashboard Preparation\n",
    "\n",
    "---"
   ],
   "metadata": {
    "collapsed": false
   },
   "id": "3668778490eaaf7a"
  },
  {
   "cell_type": "code",
   "source": [
    "all_df.to_csv(\"all_data.csv\", index=False)"
   ],
   "metadata": {
    "collapsed": false,
    "ExecuteTime": {
     "end_time": "2024-05-20T13:10:11.042447Z",
     "start_time": "2024-05-20T13:10:10.920583Z"
    }
   },
   "id": "fd1c999e1bcbf292",
   "outputs": [],
   "execution_count": 144
  }
 ],
 "metadata": {
  "kernelspec": {
   "display_name": "Python 3",
   "language": "python",
   "name": "python3"
  },
  "language_info": {
   "codemirror_mode": {
    "name": "ipython",
    "version": 2
   },
   "file_extension": ".py",
   "mimetype": "text/x-python",
   "name": "python",
   "nbconvert_exporter": "python",
   "pygments_lexer": "ipython2",
   "version": "2.7.6"
  }
 },
 "nbformat": 4,
 "nbformat_minor": 5
}
